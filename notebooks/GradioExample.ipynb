{
 "cells": [
  {
   "cell_type": "code",
   "execution_count": 1,
   "id": "e3641e40",
   "metadata": {},
   "outputs": [],
   "source": [
    "from gtts import gTTS\n",
    "from pdfminer.high_level import extract_text\n",
    "import gradio as gr"
   ]
  },
  {
   "cell_type": "code",
   "execution_count": 2,
   "id": "d24e04c1",
   "metadata": {},
   "outputs": [],
   "source": [
    "import os"
   ]
  },
  {
   "cell_type": "code",
   "execution_count": 3,
   "id": "aada6d05",
   "metadata": {},
   "outputs": [],
   "source": [
    "#!pip install gradio"
   ]
  },
  {
   "cell_type": "code",
   "execution_count": 4,
   "id": "a702ba39",
   "metadata": {},
   "outputs": [],
   "source": [
    "def pdf_to_text(file_obj):\n",
    "    text = extract_text(file_obj.name)\n",
    "    myobj = gTTS(text=text, lang='en', slow=False) \n",
    "    myobj.save(\"test.wav\") \n",
    "    return 'test.wav'"
   ]
  },
  {
   "cell_type": "code",
   "execution_count": 5,
   "id": "dfc45537",
   "metadata": {},
   "outputs": [],
   "source": [
    "iface = gr.Interface(fn = pdf_to_text, \n",
    "                     inputs = 'file', \n",
    "                     outputs = 'audio', \n",
    "                     title = 'PDF into speech Application',\n",
    "                     description = 'Simple application in python to try the Gradio package components',\n",
    "                     article = \n",
    "                        '''<div>\n",
    "                            <p> All you need to do is to upload the pdf file and hit submit, then wait for compiling. After that click on Play/Pause for listening to the audio. The audio is saved in a wav format.</p>\n",
    "                        </div>'''\n",
    "                    )"
   ]
  },
  {
   "cell_type": "code",
   "execution_count": 9,
   "id": "224f0722",
   "metadata": {},
   "outputs": [],
   "source": [
    "iface.launch(share=True)"
   ]
  }
 ],
 "metadata": {
  "kernelspec": {
   "display_name": "Python 3 (ipykernel)",
   "language": "python",
   "name": "python3"
  },
  "language_info": {
   "codemirror_mode": {
    "name": "ipython",
    "version": 3
   },
   "file_extension": ".py",
   "mimetype": "text/x-python",
   "name": "python",
   "nbconvert_exporter": "python",
   "pygments_lexer": "ipython3",
   "version": "3.8.10"
  }
 },
 "nbformat": 4,
 "nbformat_minor": 5
}
