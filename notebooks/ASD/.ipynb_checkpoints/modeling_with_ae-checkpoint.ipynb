{
 "cells": [
  {
   "cell_type": "code",
   "execution_count": 3,
   "id": "971a139b-8ce8-4d1f-b541-72e24416a053",
   "metadata": {},
   "outputs": [
    {
     "name": "stdout",
     "output_type": "stream",
     "text": [
      "The autoreload extension is already loaded. To reload it, use:\n",
      "  %reload_ext autoreload\n"
     ]
    }
   ],
   "source": [
    "%load_ext autoreload\n",
    "%autoreload 2"
   ]
  },
  {
   "cell_type": "code",
   "execution_count": 1,
   "id": "8cf81b31",
   "metadata": {},
   "outputs": [],
   "source": [
    "#!pip install bokeh"
   ]
  },
  {
   "cell_type": "code",
   "execution_count": 2,
   "id": "1adaaa23-5bd7-423c-a9ee-68f5b6783118",
   "metadata": {},
   "outputs": [
    {
     "data": {
      "text/html": [
       "\n",
       "    <div class=\"bk-root\">\n",
       "        <a href=\"https://bokeh.org\" target=\"_blank\" class=\"bk-logo bk-logo-small bk-logo-notebook\"></a>\n",
       "        <span id=\"1002\">Loading BokehJS ...</span>\n",
       "    </div>"
      ]
     },
     "metadata": {},
     "output_type": "display_data"
    },
    {
     "data": {
      "application/javascript": [
       "\n",
       "(function(root) {\n",
       "  function now() {\n",
       "    return new Date();\n",
       "  }\n",
       "\n",
       "  const force = true;\n",
       "\n",
       "  if (typeof root._bokeh_onload_callbacks === \"undefined\" || force === true) {\n",
       "    root._bokeh_onload_callbacks = [];\n",
       "    root._bokeh_is_loading = undefined;\n",
       "  }\n",
       "\n",
       "  const JS_MIME_TYPE = 'application/javascript';\n",
       "  const HTML_MIME_TYPE = 'text/html';\n",
       "  const EXEC_MIME_TYPE = 'application/vnd.bokehjs_exec.v0+json';\n",
       "  const CLASS_NAME = 'output_bokeh rendered_html';\n",
       "\n",
       "  /**\n",
       "   * Render data to the DOM node\n",
       "   */\n",
       "  function render(props, node) {\n",
       "    const script = document.createElement(\"script\");\n",
       "    node.appendChild(script);\n",
       "  }\n",
       "\n",
       "  /**\n",
       "   * Handle when an output is cleared or removed\n",
       "   */\n",
       "  function handleClearOutput(event, handle) {\n",
       "    const cell = handle.cell;\n",
       "\n",
       "    const id = cell.output_area._bokeh_element_id;\n",
       "    const server_id = cell.output_area._bokeh_server_id;\n",
       "    // Clean up Bokeh references\n",
       "    if (id != null && id in Bokeh.index) {\n",
       "      Bokeh.index[id].model.document.clear();\n",
       "      delete Bokeh.index[id];\n",
       "    }\n",
       "\n",
       "    if (server_id !== undefined) {\n",
       "      // Clean up Bokeh references\n",
       "      const cmd_clean = \"from bokeh.io.state import curstate; print(curstate().uuid_to_server['\" + server_id + \"'].get_sessions()[0].document.roots[0]._id)\";\n",
       "      cell.notebook.kernel.execute(cmd_clean, {\n",
       "        iopub: {\n",
       "          output: function(msg) {\n",
       "            const id = msg.content.text.trim();\n",
       "            if (id in Bokeh.index) {\n",
       "              Bokeh.index[id].model.document.clear();\n",
       "              delete Bokeh.index[id];\n",
       "            }\n",
       "          }\n",
       "        }\n",
       "      });\n",
       "      // Destroy server and session\n",
       "      const cmd_destroy = \"import bokeh.io.notebook as ion; ion.destroy_server('\" + server_id + \"')\";\n",
       "      cell.notebook.kernel.execute(cmd_destroy);\n",
       "    }\n",
       "  }\n",
       "\n",
       "  /**\n",
       "   * Handle when a new output is added\n",
       "   */\n",
       "  function handleAddOutput(event, handle) {\n",
       "    const output_area = handle.output_area;\n",
       "    const output = handle.output;\n",
       "\n",
       "    // limit handleAddOutput to display_data with EXEC_MIME_TYPE content only\n",
       "    if ((output.output_type != \"display_data\") || (!Object.prototype.hasOwnProperty.call(output.data, EXEC_MIME_TYPE))) {\n",
       "      return\n",
       "    }\n",
       "\n",
       "    const toinsert = output_area.element.find(\".\" + CLASS_NAME.split(' ')[0]);\n",
       "\n",
       "    if (output.metadata[EXEC_MIME_TYPE][\"id\"] !== undefined) {\n",
       "      toinsert[toinsert.length - 1].firstChild.textContent = output.data[JS_MIME_TYPE];\n",
       "      // store reference to embed id on output_area\n",
       "      output_area._bokeh_element_id = output.metadata[EXEC_MIME_TYPE][\"id\"];\n",
       "    }\n",
       "    if (output.metadata[EXEC_MIME_TYPE][\"server_id\"] !== undefined) {\n",
       "      const bk_div = document.createElement(\"div\");\n",
       "      bk_div.innerHTML = output.data[HTML_MIME_TYPE];\n",
       "      const script_attrs = bk_div.children[0].attributes;\n",
       "      for (let i = 0; i < script_attrs.length; i++) {\n",
       "        toinsert[toinsert.length - 1].firstChild.setAttribute(script_attrs[i].name, script_attrs[i].value);\n",
       "        toinsert[toinsert.length - 1].firstChild.textContent = bk_div.children[0].textContent\n",
       "      }\n",
       "      // store reference to server id on output_area\n",
       "      output_area._bokeh_server_id = output.metadata[EXEC_MIME_TYPE][\"server_id\"];\n",
       "    }\n",
       "  }\n",
       "\n",
       "  function register_renderer(events, OutputArea) {\n",
       "\n",
       "    function append_mime(data, metadata, element) {\n",
       "      // create a DOM node to render to\n",
       "      const toinsert = this.create_output_subarea(\n",
       "        metadata,\n",
       "        CLASS_NAME,\n",
       "        EXEC_MIME_TYPE\n",
       "      );\n",
       "      this.keyboard_manager.register_events(toinsert);\n",
       "      // Render to node\n",
       "      const props = {data: data, metadata: metadata[EXEC_MIME_TYPE]};\n",
       "      render(props, toinsert[toinsert.length - 1]);\n",
       "      element.append(toinsert);\n",
       "      return toinsert\n",
       "    }\n",
       "\n",
       "    /* Handle when an output is cleared or removed */\n",
       "    events.on('clear_output.CodeCell', handleClearOutput);\n",
       "    events.on('delete.Cell', handleClearOutput);\n",
       "\n",
       "    /* Handle when a new output is added */\n",
       "    events.on('output_added.OutputArea', handleAddOutput);\n",
       "\n",
       "    /**\n",
       "     * Register the mime type and append_mime function with output_area\n",
       "     */\n",
       "    OutputArea.prototype.register_mime_type(EXEC_MIME_TYPE, append_mime, {\n",
       "      /* Is output safe? */\n",
       "      safe: true,\n",
       "      /* Index of renderer in `output_area.display_order` */\n",
       "      index: 0\n",
       "    });\n",
       "  }\n",
       "\n",
       "  // register the mime type if in Jupyter Notebook environment and previously unregistered\n",
       "  if (root.Jupyter !== undefined) {\n",
       "    const events = require('base/js/events');\n",
       "    const OutputArea = require('notebook/js/outputarea').OutputArea;\n",
       "\n",
       "    if (OutputArea.prototype.mime_types().indexOf(EXEC_MIME_TYPE) == -1) {\n",
       "      register_renderer(events, OutputArea);\n",
       "    }\n",
       "  }\n",
       "\n",
       "  \n",
       "  if (typeof (root._bokeh_timeout) === \"undefined\" || force === true) {\n",
       "    root._bokeh_timeout = Date.now() + 5000;\n",
       "    root._bokeh_failed_load = false;\n",
       "  }\n",
       "\n",
       "  const NB_LOAD_WARNING = {'data': {'text/html':\n",
       "     \"<div style='background-color: #fdd'>\\n\"+\n",
       "     \"<p>\\n\"+\n",
       "     \"BokehJS does not appear to have successfully loaded. If loading BokehJS from CDN, this \\n\"+\n",
       "     \"may be due to a slow or bad network connection. Possible fixes:\\n\"+\n",
       "     \"</p>\\n\"+\n",
       "     \"<ul>\\n\"+\n",
       "     \"<li>re-rerun `output_notebook()` to attempt to load from CDN again, or</li>\\n\"+\n",
       "     \"<li>use INLINE resources instead, as so:</li>\\n\"+\n",
       "     \"</ul>\\n\"+\n",
       "     \"<code>\\n\"+\n",
       "     \"from bokeh.resources import INLINE\\n\"+\n",
       "     \"output_notebook(resources=INLINE)\\n\"+\n",
       "     \"</code>\\n\"+\n",
       "     \"</div>\"}};\n",
       "\n",
       "  function display_loaded() {\n",
       "    const el = document.getElementById(\"1002\");\n",
       "    if (el != null) {\n",
       "      el.textContent = \"BokehJS is loading...\";\n",
       "    }\n",
       "    if (root.Bokeh !== undefined) {\n",
       "      if (el != null) {\n",
       "        el.textContent = \"BokehJS \" + root.Bokeh.version + \" successfully loaded.\";\n",
       "      }\n",
       "    } else if (Date.now() < root._bokeh_timeout) {\n",
       "      setTimeout(display_loaded, 100)\n",
       "    }\n",
       "  }\n",
       "\n",
       "\n",
       "  function run_callbacks() {\n",
       "    try {\n",
       "      root._bokeh_onload_callbacks.forEach(function(callback) {\n",
       "        if (callback != null)\n",
       "          callback();\n",
       "      });\n",
       "    } finally {\n",
       "      delete root._bokeh_onload_callbacks\n",
       "    }\n",
       "    console.debug(\"Bokeh: all callbacks have finished\");\n",
       "  }\n",
       "\n",
       "  function load_libs(css_urls, js_urls, callback) {\n",
       "    if (css_urls == null) css_urls = [];\n",
       "    if (js_urls == null) js_urls = [];\n",
       "\n",
       "    root._bokeh_onload_callbacks.push(callback);\n",
       "    if (root._bokeh_is_loading > 0) {\n",
       "      console.debug(\"Bokeh: BokehJS is being loaded, scheduling callback at\", now());\n",
       "      return null;\n",
       "    }\n",
       "    if (js_urls == null || js_urls.length === 0) {\n",
       "      run_callbacks();\n",
       "      return null;\n",
       "    }\n",
       "    console.debug(\"Bokeh: BokehJS not loaded, scheduling load and callback at\", now());\n",
       "    root._bokeh_is_loading = css_urls.length + js_urls.length;\n",
       "\n",
       "    function on_load() {\n",
       "      root._bokeh_is_loading--;\n",
       "      if (root._bokeh_is_loading === 0) {\n",
       "        console.debug(\"Bokeh: all BokehJS libraries/stylesheets loaded\");\n",
       "        run_callbacks()\n",
       "      }\n",
       "    }\n",
       "\n",
       "    function on_error(url) {\n",
       "      console.error(\"failed to load \" + url);\n",
       "    }\n",
       "\n",
       "    for (let i = 0; i < css_urls.length; i++) {\n",
       "      const url = css_urls[i];\n",
       "      const element = document.createElement(\"link\");\n",
       "      element.onload = on_load;\n",
       "      element.onerror = on_error.bind(null, url);\n",
       "      element.rel = \"stylesheet\";\n",
       "      element.type = \"text/css\";\n",
       "      element.href = url;\n",
       "      console.debug(\"Bokeh: injecting link tag for BokehJS stylesheet: \", url);\n",
       "      document.body.appendChild(element);\n",
       "    }\n",
       "\n",
       "    for (let i = 0; i < js_urls.length; i++) {\n",
       "      const url = js_urls[i];\n",
       "      const element = document.createElement('script');\n",
       "      element.onload = on_load;\n",
       "      element.onerror = on_error.bind(null, url);\n",
       "      element.async = false;\n",
       "      element.src = url;\n",
       "      console.debug(\"Bokeh: injecting script tag for BokehJS library: \", url);\n",
       "      document.head.appendChild(element);\n",
       "    }\n",
       "  };\n",
       "\n",
       "  function inject_raw_css(css) {\n",
       "    const element = document.createElement(\"style\");\n",
       "    element.appendChild(document.createTextNode(css));\n",
       "    document.body.appendChild(element);\n",
       "  }\n",
       "\n",
       "  \n",
       "  const js_urls = [\"https://cdn.bokeh.org/bokeh/release/bokeh-2.4.2.min.js\", \"https://cdn.bokeh.org/bokeh/release/bokeh-gl-2.4.2.min.js\", \"https://cdn.bokeh.org/bokeh/release/bokeh-widgets-2.4.2.min.js\", \"https://cdn.bokeh.org/bokeh/release/bokeh-tables-2.4.2.min.js\", \"https://cdn.bokeh.org/bokeh/release/bokeh-mathjax-2.4.2.min.js\"];\n",
       "  const css_urls = [];\n",
       "  \n",
       "\n",
       "  const inline_js = [\n",
       "    function(Bokeh) {\n",
       "      Bokeh.set_log_level(\"info\");\n",
       "    },\n",
       "    function(Bokeh) {\n",
       "    \n",
       "    \n",
       "    }\n",
       "  ];\n",
       "\n",
       "  function run_inline_js() {\n",
       "    \n",
       "    if (root.Bokeh !== undefined || force === true) {\n",
       "      \n",
       "    for (let i = 0; i < inline_js.length; i++) {\n",
       "      inline_js[i].call(root, root.Bokeh);\n",
       "    }\n",
       "    if (force === true) {\n",
       "        display_loaded();\n",
       "      }} else if (Date.now() < root._bokeh_timeout) {\n",
       "      setTimeout(run_inline_js, 100);\n",
       "    } else if (!root._bokeh_failed_load) {\n",
       "      console.log(\"Bokeh: BokehJS failed to load within specified timeout.\");\n",
       "      root._bokeh_failed_load = true;\n",
       "    } else if (force !== true) {\n",
       "      const cell = $(document.getElementById(\"1002\")).parents('.cell').data().cell;\n",
       "      cell.output_area.append_execute_result(NB_LOAD_WARNING)\n",
       "    }\n",
       "\n",
       "  }\n",
       "\n",
       "  if (root._bokeh_is_loading === 0) {\n",
       "    console.debug(\"Bokeh: BokehJS loaded, going straight to plotting\");\n",
       "    run_inline_js();\n",
       "  } else {\n",
       "    load_libs(css_urls, js_urls, function() {\n",
       "      console.debug(\"Bokeh: BokehJS plotting callback run at\", now());\n",
       "      run_inline_js();\n",
       "    });\n",
       "  }\n",
       "}(window));"
      ],
      "application/vnd.bokehjs_load.v0+json": "\n(function(root) {\n  function now() {\n    return new Date();\n  }\n\n  const force = true;\n\n  if (typeof root._bokeh_onload_callbacks === \"undefined\" || force === true) {\n    root._bokeh_onload_callbacks = [];\n    root._bokeh_is_loading = undefined;\n  }\n\n  \n\n  \n  if (typeof (root._bokeh_timeout) === \"undefined\" || force === true) {\n    root._bokeh_timeout = Date.now() + 5000;\n    root._bokeh_failed_load = false;\n  }\n\n  const NB_LOAD_WARNING = {'data': {'text/html':\n     \"<div style='background-color: #fdd'>\\n\"+\n     \"<p>\\n\"+\n     \"BokehJS does not appear to have successfully loaded. If loading BokehJS from CDN, this \\n\"+\n     \"may be due to a slow or bad network connection. Possible fixes:\\n\"+\n     \"</p>\\n\"+\n     \"<ul>\\n\"+\n     \"<li>re-rerun `output_notebook()` to attempt to load from CDN again, or</li>\\n\"+\n     \"<li>use INLINE resources instead, as so:</li>\\n\"+\n     \"</ul>\\n\"+\n     \"<code>\\n\"+\n     \"from bokeh.resources import INLINE\\n\"+\n     \"output_notebook(resources=INLINE)\\n\"+\n     \"</code>\\n\"+\n     \"</div>\"}};\n\n  function display_loaded() {\n    const el = document.getElementById(\"1002\");\n    if (el != null) {\n      el.textContent = \"BokehJS is loading...\";\n    }\n    if (root.Bokeh !== undefined) {\n      if (el != null) {\n        el.textContent = \"BokehJS \" + root.Bokeh.version + \" successfully loaded.\";\n      }\n    } else if (Date.now() < root._bokeh_timeout) {\n      setTimeout(display_loaded, 100)\n    }\n  }\n\n\n  function run_callbacks() {\n    try {\n      root._bokeh_onload_callbacks.forEach(function(callback) {\n        if (callback != null)\n          callback();\n      });\n    } finally {\n      delete root._bokeh_onload_callbacks\n    }\n    console.debug(\"Bokeh: all callbacks have finished\");\n  }\n\n  function load_libs(css_urls, js_urls, callback) {\n    if (css_urls == null) css_urls = [];\n    if (js_urls == null) js_urls = [];\n\n    root._bokeh_onload_callbacks.push(callback);\n    if (root._bokeh_is_loading > 0) {\n      console.debug(\"Bokeh: BokehJS is being loaded, scheduling callback at\", now());\n      return null;\n    }\n    if (js_urls == null || js_urls.length === 0) {\n      run_callbacks();\n      return null;\n    }\n    console.debug(\"Bokeh: BokehJS not loaded, scheduling load and callback at\", now());\n    root._bokeh_is_loading = css_urls.length + js_urls.length;\n\n    function on_load() {\n      root._bokeh_is_loading--;\n      if (root._bokeh_is_loading === 0) {\n        console.debug(\"Bokeh: all BokehJS libraries/stylesheets loaded\");\n        run_callbacks()\n      }\n    }\n\n    function on_error(url) {\n      console.error(\"failed to load \" + url);\n    }\n\n    for (let i = 0; i < css_urls.length; i++) {\n      const url = css_urls[i];\n      const element = document.createElement(\"link\");\n      element.onload = on_load;\n      element.onerror = on_error.bind(null, url);\n      element.rel = \"stylesheet\";\n      element.type = \"text/css\";\n      element.href = url;\n      console.debug(\"Bokeh: injecting link tag for BokehJS stylesheet: \", url);\n      document.body.appendChild(element);\n    }\n\n    for (let i = 0; i < js_urls.length; i++) {\n      const url = js_urls[i];\n      const element = document.createElement('script');\n      element.onload = on_load;\n      element.onerror = on_error.bind(null, url);\n      element.async = false;\n      element.src = url;\n      console.debug(\"Bokeh: injecting script tag for BokehJS library: \", url);\n      document.head.appendChild(element);\n    }\n  };\n\n  function inject_raw_css(css) {\n    const element = document.createElement(\"style\");\n    element.appendChild(document.createTextNode(css));\n    document.body.appendChild(element);\n  }\n\n  \n  const js_urls = [\"https://cdn.bokeh.org/bokeh/release/bokeh-2.4.2.min.js\", \"https://cdn.bokeh.org/bokeh/release/bokeh-gl-2.4.2.min.js\", \"https://cdn.bokeh.org/bokeh/release/bokeh-widgets-2.4.2.min.js\", \"https://cdn.bokeh.org/bokeh/release/bokeh-tables-2.4.2.min.js\", \"https://cdn.bokeh.org/bokeh/release/bokeh-mathjax-2.4.2.min.js\"];\n  const css_urls = [];\n  \n\n  const inline_js = [\n    function(Bokeh) {\n      Bokeh.set_log_level(\"info\");\n    },\n    function(Bokeh) {\n    \n    \n    }\n  ];\n\n  function run_inline_js() {\n    \n    if (root.Bokeh !== undefined || force === true) {\n      \n    for (let i = 0; i < inline_js.length; i++) {\n      inline_js[i].call(root, root.Bokeh);\n    }\n    if (force === true) {\n        display_loaded();\n      }} else if (Date.now() < root._bokeh_timeout) {\n      setTimeout(run_inline_js, 100);\n    } else if (!root._bokeh_failed_load) {\n      console.log(\"Bokeh: BokehJS failed to load within specified timeout.\");\n      root._bokeh_failed_load = true;\n    } else if (force !== true) {\n      const cell = $(document.getElementById(\"1002\")).parents('.cell').data().cell;\n      cell.output_area.append_execute_result(NB_LOAD_WARNING)\n    }\n\n  }\n\n  if (root._bokeh_is_loading === 0) {\n    console.debug(\"Bokeh: BokehJS loaded, going straight to plotting\");\n    run_inline_js();\n  } else {\n    load_libs(css_urls, js_urls, function() {\n      console.debug(\"Bokeh: BokehJS plotting callback run at\", now());\n      run_inline_js();\n    });\n  }\n}(window));"
     },
     "metadata": {},
     "output_type": "display_data"
    }
   ],
   "source": [
    "import glob\n",
    "import os\n",
    "import warnings\n",
    "import numpy as np\n",
    "from bokeh.io import export_svgs, output_notebook\n",
    "from bokeh.models import BoxAnnotation, ColumnDataSource, HoverTool\n",
    "from bokeh.plotting import figure, show\n",
    "from sklearn.metrics import (\n",
    "    accuracy_score,\n",
    "    confusion_matrix,\n",
    "    f1_score,\n",
    "    precision_score,\n",
    "    recall_score,\n",
    "    average_precision_score,\n",
    "    precision_recall_curve,\n",
    "    roc_auc_score,\n",
    "    roc_curve,\n",
    ")\n",
    "from sklearn.model_selection import train_test_split\n",
    "from tqdm.notebook import tqdm\n",
    "from utils.measuring_performance import (\n",
    "    get_prediction,\n",
    "    plot_confusion_matrix,\n",
    "    plot_histogram_by_class,\n",
    "    plot_loss_per_epoch,\n",
    "    plot_pr_curve,\n",
    "    plot_roc_curve,\n",
    ")\n",
    "from utils.misc import build_files_list, dump_pickle, load_pickle\n",
    "from utils.sound_utils import extract_signal_features, generate_dataset, load_sound_file\n",
    "\n",
    "output_notebook()\n",
    "warnings.filterwarnings(\"ignore\")\n",
    "np.random.seed(42)"
   ]
  },
  {
   "cell_type": "code",
   "execution_count": 5,
   "id": "3c27992c-448d-4fcb-82df-005cb6b01da1",
   "metadata": {},
   "outputs": [
    {
     "ename": "ImportError",
     "evalue": "cannot import name 'multi_gpu_model' from 'tensorflow.keras.utils' (/home/iotg/work/SWA/DeepLearningAnomalyDetection/kn_env/lib/python3.8/site-packages/keras/api/_v2/keras/utils/__init__.py)",
     "output_type": "error",
     "traceback": [
      "\u001b[0;31m---------------------------------------------------------------------------\u001b[0m",
      "\u001b[0;31mImportError\u001b[0m                               Traceback (most recent call last)",
      "Input \u001b[0;32mIn [5]\u001b[0m, in \u001b[0;36m<module>\u001b[0;34m\u001b[0m\n\u001b[1;32m      5\u001b[0m \u001b[38;5;28;01mfrom\u001b[39;00m \u001b[38;5;21;01mtensorflow\u001b[39;00m\u001b[38;5;21;01m.\u001b[39;00m\u001b[38;5;21;01mkeras\u001b[39;00m\u001b[38;5;21;01m.\u001b[39;00m\u001b[38;5;21;01mmodels\u001b[39;00m \u001b[38;5;28;01mimport\u001b[39;00m Model\n\u001b[1;32m      6\u001b[0m \u001b[38;5;28;01mfrom\u001b[39;00m \u001b[38;5;21;01mtensorflow\u001b[39;00m\u001b[38;5;21;01m.\u001b[39;00m\u001b[38;5;21;01mkeras\u001b[39;00m\u001b[38;5;21;01m.\u001b[39;00m\u001b[38;5;21;01moptimizers\u001b[39;00m \u001b[38;5;28;01mimport\u001b[39;00m Adam\n\u001b[0;32m----> 7\u001b[0m \u001b[38;5;28;01mfrom\u001b[39;00m \u001b[38;5;21;01mtensorflow\u001b[39;00m\u001b[38;5;21;01m.\u001b[39;00m\u001b[38;5;21;01mkeras\u001b[39;00m\u001b[38;5;21;01m.\u001b[39;00m\u001b[38;5;21;01mutils\u001b[39;00m \u001b[38;5;28;01mimport\u001b[39;00m multi_gpu_model\n\u001b[1;32m      8\u001b[0m \u001b[38;5;28;01mfrom\u001b[39;00m \u001b[38;5;21;01mtensorflow\u001b[39;00m\u001b[38;5;21;01m.\u001b[39;00m\u001b[38;5;21;01mpython\u001b[39;00m\u001b[38;5;21;01m.\u001b[39;00m\u001b[38;5;21;01mclient\u001b[39;00m \u001b[38;5;28;01mimport\u001b[39;00m device_lib\n\u001b[1;32m     10\u001b[0m tf\u001b[38;5;241m.\u001b[39mset_random_seed(\u001b[38;5;241m42\u001b[39m)\n",
      "\u001b[0;31mImportError\u001b[0m: cannot import name 'multi_gpu_model' from 'tensorflow.keras.utils' (/home/iotg/work/SWA/DeepLearningAnomalyDetection/kn_env/lib/python3.8/site-packages/keras/api/_v2/keras/utils/__init__.py)"
     ]
    }
   ],
   "source": [
    "import tensorflow as tf\n",
    "from tensorflow.keras import Input\n",
    "from tensorflow.keras.callbacks import EarlyStopping\n",
    "from tensorflow.keras.layers import Dense\n",
    "from tensorflow.keras.models import Model\n",
    "from tensorflow.keras.optimizers import Adam\n",
    "from tensorflow.keras.utils import multi_gpu_model\n",
    "from tensorflow.python.client import device_lib\n",
    "\n",
    "tf.set_random_seed(42)"
   ]
  },
  {
   "cell_type": "code",
   "execution_count": 7,
   "id": "78552a56-23e4-4295-a178-b625ac2c4ab9",
   "metadata": {},
   "outputs": [],
   "source": [
    "def get_available_gpus():\n",
    "    local_devices = device_lib.list_local_devices()\n",
    "    return [x.name for x in local_devices if x.device_type == \"GPU\"]"
   ]
  },
  {
   "cell_type": "markdown",
   "id": "81ca7bdf-bbf5-48e8-8542-4bb028fd1094",
   "metadata": {},
   "source": [
    "The boolean variable `COMBINE_MACHINE_ID` allows you to decide whether to perform modeling separately for each machine ID, or combine all data from the same machine type to perform modeling."
   ]
  },
  {
   "cell_type": "code",
   "execution_count": 8,
   "id": "34adbb79",
   "metadata": {},
   "outputs": [],
   "source": [
    "DATA_PATH = \"../../data/mimii-anomaly-detection\"\n",
    "IMAGE_PATH = \"./img\"\n",
    "MODEL_PATH = \"./models\"\n",
    "MERGE_MACHINE_ID = True\n",
    "\n",
    "os.makedirs(os.path.join(DATA_PATH, \"dataset\"), exist_ok=True)\n",
    "os.makedirs(MODEL_PATH, exist_ok=True)\n",
    "\n",
    "file_paths = sorted(\n",
    "    glob.glob(DATA_PATH + \"/*/*\" if MERGE_MACHINE_ID else DATA_PATH + \"/*/*/*\")\n",
    ")"
   ]
  },
  {
   "cell_type": "markdown",
   "id": "6870f533-d3a3-4517-a965-3af32fe38f6f",
   "metadata": {},
   "source": [
    "# Data Splitting and Preprocessing"
   ]
  },
  {
   "cell_type": "code",
   "execution_count": 9,
   "id": "404129ca-a017-40f8-85b8-9a9244d561cd",
   "metadata": {},
   "outputs": [
    {
     "name": "stdout",
     "output_type": "stream",
     "text": [
      "db: 6dB, machine type: fan\n"
     ]
    }
   ],
   "source": [
    "file_path = file_paths[0]  # the first machine ID or machine type selected\n",
    "file_path_split = file_path.split(\"/\")\n",
    "SUFFIX = \"_\".join([\"\", file_path_split[-1], file_path_split[-2]])\n",
    "\n",
    "if MERGE_MACHINE_ID:\n",
    "    print(f\"db: {file_path_split[-2]}, machine type: {file_path_split[-1]}\")\n",
    "\n",
    "else:\n",
    "    print(\n",
    "        f\"db: {file_path_split[-3]}, machine type: {file_path_split[-2]}, machine id: {file_path_split[-1]}\"\n",
    "    )\n",
    "    SUFFIX = \"_\".join([SUFFIX, file_path_split[-3]])"
   ]
  },
  {
   "cell_type": "markdown",
   "id": "1d83bb51-93f6-4adf-a435-1916f9aa1c25",
   "metadata": {},
   "source": [
    "Because unsupervised learning is used, all anomalous labels are assigned to the test set."
   ]
  },
  {
   "cell_type": "code",
   "execution_count": 10,
   "id": "04fe076f-09a8-4e64-8716-e35fe88e66f1",
   "metadata": {},
   "outputs": [
    {
     "name": "stdout",
     "output_type": "stream",
     "text": [
      "Train set has 3260 signals including abnormal 0 signals, but test set has 2290 signals including abnormal 1475 signals.\n"
     ]
    }
   ],
   "source": [
    "normal_files, abnormal_files = build_files_list(root_dir=file_path)\n",
    "normal_labels = np.zeros(len(normal_files))\n",
    "abnormal_labels = np.ones(len(abnormal_files))\n",
    "\n",
    "train_files, test_files, train_labels, test_labels = train_test_split(\n",
    "    normal_files, normal_labels, train_size=0.8, random_state=42, shuffle=True\n",
    ")\n",
    "\n",
    "test_files = np.concatenate((test_files, abnormal_files), axis=0)\n",
    "test_labels = np.concatenate((test_labels, abnormal_labels), axis=0)\n",
    "\n",
    "test_indices = np.arange(len(test_files))\n",
    "np.random.shuffle(test_indices)\n",
    "\n",
    "test_files = test_files[test_indices]\n",
    "test_labels = test_labels[test_indices]\n",
    "\n",
    "print(\n",
    "    f\"Train set has {train_labels.shape[0]} signals including abnormal {train_labels.sum():.0f} signals, \\\n",
    "but test set has {test_labels.shape[0]} signals including abnormal {test_labels.sum():.0f} signals.\"\n",
    ")"
   ]
  },
  {
   "cell_type": "code",
   "execution_count": 11,
   "id": "9dd514d6-75e7-4199-8d90-3611f8f79934",
   "metadata": {},
   "outputs": [],
   "source": [
    "dataset = {\n",
    "    \"train_files\": train_files,\n",
    "    \"test_files\": test_files,\n",
    "    \"train_labels\": train_labels,\n",
    "    \"test_labels\": test_labels,\n",
    "}\n",
    "\n",
    "for key, values in dataset.items():\n",
    "    file_name = os.path.join(DATA_PATH, \"dataset\", key + SUFFIX + \".txt\")\n",
    "    with open(file_name, \"w\") as f:\n",
    "        for item in values:\n",
    "            f.write(str(item) + \"\\n\")"
   ]
  },
  {
   "cell_type": "code",
   "execution_count": 12,
   "id": "06251cae-d042-44cb-9590-eb71052a5a7f",
   "metadata": {},
   "outputs": [
    {
     "name": "stdout",
     "output_type": "stream",
     "text": [
      "Train data already exists, loading from file...\n",
      "Train data has a (1007340, 320) shape.\n"
     ]
    }
   ],
   "source": [
    "n_fft = 2048\n",
    "hop_length = 512\n",
    "n_mels = 64\n",
    "frames = 5\n",
    "\n",
    "train_data_path = os.path.join(DATA_PATH, \"dataset\", \"train_data\" + SUFFIX + \".pkl\")\n",
    "\n",
    "if os.path.exists(train_data_path):\n",
    "    print(\"Train data already exists, loading from file...\")\n",
    "    train_data = load_pickle(train_data_path)\n",
    "\n",
    "else:\n",
    "    train_data = generate_dataset(\n",
    "        train_files, n_fft=n_fft, hop_length=hop_length, n_mels=n_mels, frames=frames\n",
    "    )\n",
    "    print(\"Saving train data to disk...\")\n",
    "    dump_pickle(train_data_path, train_data)\n",
    "    print(\"Done.\")\n",
    "\n",
    "print(f\"Train data has a {train_data.shape} shape.\")"
   ]
  },
  {
   "cell_type": "markdown",
   "id": "6cfa3e40-6238-4a80-949a-d25f11c7c737",
   "metadata": {},
   "source": [
    "# Model Training and Prediction with AutoEncoder"
   ]
  },
  {
   "cell_type": "code",
   "execution_count": 13,
   "id": "d2c0bfa5-09cd-4a5c-930a-bfca91ed7143",
   "metadata": {},
   "outputs": [],
   "source": [
    "def autoencoder(input_dims, model_name=None):\n",
    "    input_layer = Input(shape=(input_dims,))\n",
    "    output = Dense(64, activation=\"relu\")(input_layer)\n",
    "    output = Dense(64, activation=\"relu\")(output)\n",
    "    output = Dense(8, activation=\"relu\")(output)\n",
    "    output = Dense(64, activation=\"relu\")(output)\n",
    "    output = Dense(64, activation=\"relu\")(output)\n",
    "    output = Dense(input_dims, activation=None)(output)\n",
    "\n",
    "    return Model(inputs=input_layer, outputs=output, name=model_name)"
   ]
  },
  {
   "cell_type": "code",
   "execution_count": 14,
   "id": "65806b41-edab-496a-94b2-abcf5c9b20e3",
   "metadata": {},
   "outputs": [
    {
     "name": "stdout",
     "output_type": "stream",
     "text": [
      "Model: \"AutoEncoder\"\n",
      "_________________________________________________________________\n",
      " Layer (type)                Output Shape              Param #   \n",
      "=================================================================\n",
      " input_1 (InputLayer)        [(None, 320)]             0         \n",
      "                                                                 \n",
      " dense (Dense)               (None, 64)                20544     \n",
      "                                                                 \n",
      " dense_1 (Dense)             (None, 64)                4160      \n",
      "                                                                 \n",
      " dense_2 (Dense)             (None, 8)                 520       \n",
      "                                                                 \n",
      " dense_3 (Dense)             (None, 64)                576       \n",
      "                                                                 \n",
      " dense_4 (Dense)             (None, 64)                4160      \n",
      "                                                                 \n",
      " dense_5 (Dense)             (None, 320)               20800     \n",
      "                                                                 \n",
      "=================================================================\n",
      "Total params: 50,760\n",
      "Trainable params: 50,760\n",
      "Non-trainable params: 0\n",
      "_________________________________________________________________\n",
      "None\n"
     ]
    },
    {
     "name": "stderr",
     "output_type": "stream",
     "text": [
      "2022-04-08 09:16:47.551591: E tensorflow/stream_executor/cuda/cuda_driver.cc:271] failed call to cuInit: CUDA_ERROR_NO_DEVICE: no CUDA-capable device is detected\n",
      "2022-04-08 09:16:47.551626: I tensorflow/stream_executor/cuda/cuda_diagnostics.cc:156] kernel driver does not appear to be running on this host (iotg): /proc/driver/nvidia/version does not exist\n",
      "2022-04-08 09:16:47.551837: I tensorflow/core/platform/cpu_feature_guard.cc:151] This TensorFlow binary is optimized with oneAPI Deep Neural Network Library (oneDNN) to use the following CPU instructions in performance-critical operations:  AVX2 AVX512F FMA\n",
      "To enable them in other operations, rebuild TensorFlow with the appropriate compiler flags.\n"
     ]
    }
   ],
   "source": [
    "from tensorflow.python.client import device_lib\n",
    "MODEL_NAME = \"AutoEncoder\"\n",
    "model = autoencoder(n_mels * frames, model_name=MODEL_NAME)\n",
    "print(model.summary())\n",
    "\n",
    "gpu_count = len(get_available_gpus())\n",
    "if gpu_count > 1:\n",
    "    model = multi_gpu_model(model, gpus=gpu_count)"
   ]
  },
  {
   "cell_type": "code",
   "execution_count": 15,
   "id": "0fe1f5bb-828e-406f-97de-9a2933417d69",
   "metadata": {},
   "outputs": [
    {
     "name": "stdout",
     "output_type": "stream",
     "text": [
      "CPU times: user 35min 1s, sys: 7min 1s, total: 42min 2s\n",
      "Wall time: 11min 23s\n"
     ]
    }
   ],
   "source": [
    "%%time\n",
    "batch_size = 512\n",
    "epochs = 200\n",
    "\n",
    "model.compile(\n",
    "    optimizer=Adam(learning_rate=1e-03),\n",
    "    loss=\"mean_squared_error\"\n",
    ")\n",
    "\n",
    "history = model.fit(\n",
    "    train_data,\n",
    "    train_data,\n",
    "    batch_size=batch_size,\n",
    "    epochs=epochs,\n",
    "    verbose=False,\n",
    "    callbacks=[EarlyStopping(monitor=\"val_loss\", patience=10)],\n",
    "    validation_split=0.1,\n",
    "    shuffle=True\n",
    ")\n",
    "\n",
    "model.save(os.path.join(MODEL_PATH, MODEL_NAME + SUFFIX + \".h5\"))"
   ]
  },
  {
   "cell_type": "code",
   "execution_count": 16,
   "id": "7b6bcf57",
   "metadata": {},
   "outputs": [],
   "source": [
    "#!pip install selenium"
   ]
  },
  {
   "cell_type": "code",
   "execution_count": 17,
   "id": "efec0991-d2b9-4369-8e2d-1bd2ecd3bbef",
   "metadata": {},
   "outputs": [
    {
     "data": {
      "text/html": [
       "\n",
       "\n",
       "\n",
       "\n",
       "\n",
       "\n",
       "  <div class=\"bk-root\" id=\"48e10661-8491-44e3-b8b5-9b552e209bad\" data-root-id=\"1003\"></div>\n"
      ]
     },
     "metadata": {},
     "output_type": "display_data"
    },
    {
     "data": {
      "application/javascript": [
       "(function(root) {\n",
       "  function embed_document(root) {\n",
       "    \n",
       "  const docs_json = {\"70e0a2fb-cc6d-498c-a744-c987dae06cb9\":{\"defs\":[],\"roots\":{\"references\":[{\"attributes\":{\"below\":[{\"id\":\"1014\"}],\"center\":[{\"id\":\"1017\"},{\"id\":\"1021\"},{\"id\":\"1053\"}],\"height\":400,\"left\":[{\"id\":\"1018\"}],\"renderers\":[{\"id\":\"1041\"},{\"id\":\"1059\"}],\"title\":{\"id\":\"1004\"},\"toolbar\":{\"id\":\"1029\"},\"x_range\":{\"id\":\"1006\"},\"x_scale\":{\"id\":\"1010\"},\"y_range\":{\"id\":\"1008\"},\"y_scale\":{\"id\":\"1012\"}},\"id\":\"1003\",\"subtype\":\"Figure\",\"type\":\"Plot\"},{\"attributes\":{},\"id\":\"1026\",\"type\":\"ResetTool\"},{\"attributes\":{\"overlay\":{\"id\":\"1028\"}},\"id\":\"1024\",\"type\":\"BoxZoomTool\"},{\"attributes\":{},\"id\":\"1015\",\"type\":\"BasicTicker\"},{\"attributes\":{},\"id\":\"1019\",\"type\":\"BasicTicker\"},{\"attributes\":{\"label\":{\"value\":\"Training Loss\"},\"renderers\":[{\"id\":\"1041\"}]},\"id\":\"1054\",\"type\":\"LegendItem\"},{\"attributes\":{\"tools\":[{\"id\":\"1022\"},{\"id\":\"1023\"},{\"id\":\"1024\"},{\"id\":\"1025\"},{\"id\":\"1026\"},{\"id\":\"1027\"},{\"id\":\"1072\"}]},\"id\":\"1029\",\"type\":\"Toolbar\"},{\"attributes\":{\"line_alpha\":0.1,\"line_dash\":[2,4],\"x\":{\"field\":\"index\"},\"y\":{\"field\":\"loss\"}},\"id\":\"1039\",\"type\":\"Line\"},{\"attributes\":{\"click_policy\":\"hide\",\"coordinates\":null,\"group\":null,\"items\":[{\"id\":\"1054\"},{\"id\":\"1071\"}],\"label_text_font_size\":\"8pt\"},\"id\":\"1053\",\"type\":\"Legend\"},{\"attributes\":{\"data\":{\"index\":[0,1,2,3,4,5,6,7,8,9,10,11,12,13,14,15,16,17,18,19,20,21,22,23,24,25,26,27,28,29,30,31,32,33,34,35,36,37,38,39,40,41,42,43,44,45,46,47,48,49,50,51,52,53,54,55,56,57,58,59,60,61,62,63,64,65,66,67,68,69,70,71,72,73,74,75,76,77,78,79,80,81,82,83,84,85,86,87,88,89,90,91,92,93,94,95,96,97,98,99,100,101,102,103,104,105,106,107,108,109,110,111,112,113,114,115,116,117,118,119,120,121,122,123],\"loss\":[12.412813186645508,4.213866710662842,3.9761300086975098,3.857367515563965,3.810702323913574,3.7656922340393066,3.7196974754333496,3.6776723861694336,3.639333486557007,3.614572763442993,3.5921037197113037,3.5750651359558105,3.5610668659210205,3.550891399383545,3.536170244216919,3.523221731185913,3.507364273071289,3.4926869869232178,3.4783689975738525,3.4664597511291504,3.4550108909606934,3.4452545642852783,3.433934450149536,3.423818826675415,3.4163095951080322,3.4063611030578613,3.399305820465088,3.3944947719573975,3.389132022857666,3.3835816383361816,3.3782613277435303,3.3664968013763428,3.356675148010254,3.3523969650268555,3.345710277557373,3.3423540592193604,3.337381362915039,3.3330812454223633,3.3295931816101074,3.3278539180755615,3.3237059116363525,3.3207454681396484,3.3170244693756104,3.3144912719726562,3.312297821044922,3.3085737228393555,3.3072290420532227,3.303819179534912,3.302168130874634,3.2992188930511475,3.296494245529175,3.2942047119140625,3.2912724018096924,3.2887165546417236,3.2873623371124268,3.283588171005249,3.280219554901123,3.2775166034698486,3.2740707397460938,3.27065372467041,3.2672929763793945,3.264791488647461,3.2627222537994385,3.2634997367858887,3.256690502166748,3.255052089691162,3.2544381618499756,3.2514305114746094,3.249444007873535,3.2473127841949463,3.2464170455932617,3.2445108890533447,3.242542028427124,3.2408790588378906,3.23954176902771,3.2379801273345947,3.236506700515747,3.2352468967437744,3.233167886734009,3.232228994369507,3.231531858444214,3.228391647338867,3.228271245956421,3.2261812686920166,3.2246432304382324,3.2240607738494873,3.2228853702545166,3.220813035964966,3.2202556133270264,3.2203593254089355,3.2192704677581787,3.216946601867676,3.2172036170959473,3.2147958278656006,3.2155442237854004,3.2148149013519287,3.213205575942993,3.2118935585021973,3.210458755493164,3.211372137069702,3.2095749378204346,3.2087268829345703,3.206986904144287,3.209336996078491,3.2064082622528076,3.206263780593872,3.206225633621216,3.2048659324645996,3.204873561859131,3.2037739753723145,3.2021446228027344,3.2027547359466553,3.203155517578125,3.1993770599365234,3.20184063911438,3.201099157333374,3.19992995262146,3.198533058166504,3.1982614994049072,3.2014670372009277,3.1971688270568848,3.1978743076324463,3.1964516639709473,3.1951420307159424],\"val_loss\":[4.519176483154297,4.333557605743408,4.042123794555664,3.9193115234375,3.8924849033355713,3.8100833892822266,3.7646028995513916,3.719555139541626,3.701678991317749,3.677395820617676,3.6534390449523926,3.665717601776123,3.637037515640259,3.632183313369751,3.648965358734131,3.6498117446899414,3.5798110961914062,3.5773329734802246,3.5494942665100098,3.5464370250701904,3.5387372970581055,3.5824501514434814,3.51448392868042,3.5010929107666016,3.5346453189849854,3.5157010555267334,3.507434129714966,3.5008139610290527,3.4710347652435303,3.4898722171783447,3.4450740814208984,3.462476968765259,3.475771188735962,3.4358017444610596,3.4267866611480713,3.428071975708008,3.4363465309143066,3.4095423221588135,3.4363367557525635,3.437676191329956,3.4018805027008057,3.3935482501983643,3.4003918170928955,3.4061365127563477,3.405136823654175,3.4529898166656494,3.3895692825317383,3.3889780044555664,3.3888132572174072,3.392029047012329,3.396395206451416,3.384446382522583,3.390549898147583,3.371260643005371,3.378553628921509,3.3773043155670166,3.363086223602295,3.3716719150543213,3.3616716861724854,3.371386766433716,3.3571677207946777,3.3623299598693848,3.3562448024749756,3.3542027473449707,3.358203887939453,3.343035936355591,3.347893238067627,3.34981632232666,3.359543561935425,3.3416941165924072,3.340744972229004,3.3383285999298096,3.343867540359497,3.3563597202301025,3.3467869758605957,3.3326480388641357,3.3465702533721924,3.352010726928711,3.3325934410095215,3.329906702041626,3.3364264965057373,3.32712459564209,3.3300325870513916,3.3238139152526855,3.3289482593536377,3.3281593322753906,3.321220636367798,3.3175270557403564,3.314829111099243,3.327925443649292,3.3103926181793213,3.3112082481384277,3.3093769550323486,3.3107850551605225,3.3026909828186035,3.3312606811523438,3.303673028945923,3.3060710430145264,3.2994766235351562,3.2996537685394287,3.313502073287964,3.303116798400879,3.2961010932922363,3.3039610385894775,3.304640293121338,3.3268299102783203,3.3070805072784424,3.2918081283569336,3.2988662719726562,3.310969352722168,3.293412685394287,3.2880215644836426,3.293764352798462,3.2793021202087402,3.2848849296569824,3.3003885746002197,3.353761911392212,3.2926366329193115,3.29557204246521,3.3898844718933105,3.284686326980591,3.30517840385437,3.2992351055145264,3.297227144241333]},\"selected\":{\"id\":\"1051\"},\"selection_policy\":{\"id\":\"1050\"}},\"id\":\"1036\",\"type\":\"ColumnDataSource\"},{\"attributes\":{\"line_dash\":[2,4],\"x\":{\"field\":\"index\"},\"y\":{\"field\":\"loss\"}},\"id\":\"1038\",\"type\":\"Line\"},{\"attributes\":{},\"id\":\"1006\",\"type\":\"DataRange1d\"},{\"attributes\":{\"callback\":null,\"tooltips\":[[\"epoch\",\"@index\"],[\"training loss\",\"@loss\"],[\"validation loss\",\"@val_loss\"]]},\"id\":\"1072\",\"type\":\"HoverTool\"},{\"attributes\":{},\"id\":\"1025\",\"type\":\"SaveTool\"},{\"attributes\":{},\"id\":\"1022\",\"type\":\"PanTool\"},{\"attributes\":{\"bottom_units\":\"screen\",\"coordinates\":null,\"fill_alpha\":0.5,\"fill_color\":\"lightgrey\",\"group\":null,\"left_units\":\"screen\",\"level\":\"overlay\",\"line_alpha\":1.0,\"line_color\":\"black\",\"line_dash\":[4,4],\"line_width\":2,\"right_units\":\"screen\",\"syncable\":false,\"top_units\":\"screen\"},\"id\":\"1028\",\"type\":\"BoxAnnotation\"},{\"attributes\":{},\"id\":\"1027\",\"type\":\"HelpTool\"},{\"attributes\":{\"axis\":{\"id\":\"1014\"},\"coordinates\":null,\"grid_line_color\":null,\"group\":null,\"ticker\":null},\"id\":\"1017\",\"type\":\"Grid\"},{\"attributes\":{},\"id\":\"1045\",\"type\":\"BasicTickFormatter\"},{\"attributes\":{},\"id\":\"1010\",\"type\":\"LinearScale\"},{\"attributes\":{\"source\":{\"id\":\"1036\"}},\"id\":\"1042\",\"type\":\"CDSView\"},{\"attributes\":{},\"id\":\"1046\",\"type\":\"AllLabels\"},{\"attributes\":{\"axis_label\":\"# Epochs\",\"coordinates\":null,\"formatter\":{\"id\":\"1048\"},\"group\":null,\"major_label_policy\":{\"id\":\"1049\"},\"ticker\":{\"id\":\"1015\"}},\"id\":\"1014\",\"type\":\"LinearAxis\"},{\"attributes\":{\"axis\":{\"id\":\"1018\"},\"coordinates\":null,\"dimension\":1,\"group\":null,\"ticker\":null},\"id\":\"1021\",\"type\":\"Grid\"},{\"attributes\":{\"line_alpha\":0.2,\"line_dash\":[2,4],\"x\":{\"field\":\"index\"},\"y\":{\"field\":\"loss\"}},\"id\":\"1040\",\"type\":\"Line\"},{\"attributes\":{\"axis_label\":\"Loss\",\"coordinates\":null,\"formatter\":{\"id\":\"1045\"},\"group\":null,\"major_label_policy\":{\"id\":\"1046\"},\"ticker\":{\"id\":\"1019\"}},\"id\":\"1018\",\"type\":\"LinearAxis\"},{\"attributes\":{\"label\":{\"value\":\"Validation Loss\"},\"renderers\":[{\"id\":\"1059\"}]},\"id\":\"1071\",\"type\":\"LegendItem\"},{\"attributes\":{},\"id\":\"1048\",\"type\":\"BasicTickFormatter\"},{\"attributes\":{\"coordinates\":null,\"data_source\":{\"id\":\"1036\"},\"glyph\":{\"id\":\"1038\"},\"group\":null,\"hover_glyph\":null,\"muted_glyph\":{\"id\":\"1040\"},\"nonselection_glyph\":{\"id\":\"1039\"},\"view\":{\"id\":\"1042\"}},\"id\":\"1041\",\"type\":\"GlyphRenderer\"},{\"attributes\":{\"coordinates\":null,\"data_source\":{\"id\":\"1036\"},\"glyph\":{\"id\":\"1056\"},\"group\":null,\"hover_glyph\":null,\"muted_glyph\":{\"id\":\"1058\"},\"nonselection_glyph\":{\"id\":\"1057\"},\"view\":{\"id\":\"1060\"}},\"id\":\"1059\",\"type\":\"GlyphRenderer\"},{\"attributes\":{\"line_alpha\":0.1,\"line_color\":\"coral\",\"line_width\":1.5,\"x\":{\"field\":\"index\"},\"y\":{\"field\":\"val_loss\"}},\"id\":\"1057\",\"type\":\"Line\"},{\"attributes\":{},\"id\":\"1049\",\"type\":\"AllLabels\"},{\"attributes\":{},\"id\":\"1023\",\"type\":\"WheelZoomTool\"},{\"attributes\":{\"line_color\":\"coral\",\"line_width\":1.5,\"x\":{\"field\":\"index\"},\"y\":{\"field\":\"val_loss\"}},\"id\":\"1056\",\"type\":\"Line\"},{\"attributes\":{\"line_alpha\":0.2,\"line_color\":\"coral\",\"line_width\":1.5,\"x\":{\"field\":\"index\"},\"y\":{\"field\":\"val_loss\"}},\"id\":\"1058\",\"type\":\"Line\"},{\"attributes\":{},\"id\":\"1008\",\"type\":\"DataRange1d\"},{\"attributes\":{\"align\":\"center\",\"coordinates\":null,\"group\":null,\"text\":\"AutoEncoder: Loss per Epoch\",\"text_font_size\":\"12pt\"},\"id\":\"1004\",\"type\":\"Title\"},{\"attributes\":{\"source\":{\"id\":\"1036\"}},\"id\":\"1060\",\"type\":\"CDSView\"},{\"attributes\":{},\"id\":\"1012\",\"type\":\"LinearScale\"},{\"attributes\":{},\"id\":\"1050\",\"type\":\"UnionRenderers\"},{\"attributes\":{},\"id\":\"1051\",\"type\":\"Selection\"}],\"root_ids\":[\"1003\"]},\"title\":\"Bokeh Application\",\"version\":\"2.4.2\"}};\n",
       "  const render_items = [{\"docid\":\"70e0a2fb-cc6d-498c-a744-c987dae06cb9\",\"root_ids\":[\"1003\"],\"roots\":{\"1003\":\"48e10661-8491-44e3-b8b5-9b552e209bad\"}}];\n",
       "  root.Bokeh.embed.embed_items_notebook(docs_json, render_items);\n",
       "\n",
       "  }\n",
       "  if (root.Bokeh !== undefined) {\n",
       "    embed_document(root);\n",
       "  } else {\n",
       "    let attempts = 0;\n",
       "    const timer = setInterval(function(root) {\n",
       "      if (root.Bokeh !== undefined) {\n",
       "        clearInterval(timer);\n",
       "        embed_document(root);\n",
       "      } else {\n",
       "        attempts++;\n",
       "        if (attempts > 100) {\n",
       "          clearInterval(timer);\n",
       "          console.log(\"Bokeh: ERROR: Unable to run BokehJS code because BokehJS library is missing\");\n",
       "        }\n",
       "      }\n",
       "    }, 10, root)\n",
       "  }\n",
       "})(window);"
      ],
      "application/vnd.bokehjs_exec.v0+json": ""
     },
     "metadata": {
      "application/vnd.bokehjs_exec.v0+json": {
       "id": "1003"
      }
     },
     "output_type": "display_data"
    }
   ],
   "source": [
    "plot_loss_per_epoch(\n",
    "    history, model_name=MODEL_NAME, file_name=os.path.join(IMAGE_PATH, \"model_loss.svg\")\n",
    ")"
   ]
  },
  {
   "cell_type": "code",
   "execution_count": 18,
   "id": "8c503335-ed82-468a-89d7-1ca6cc0abe59",
   "metadata": {},
   "outputs": [
    {
     "data": {
      "application/vnd.jupyter.widget-view+json": {
       "model_id": "b7030df7b1084d0db12f392abe8e0087",
       "version_major": 2,
       "version_minor": 0
      },
      "text/plain": [
       "  0%|          | 0/2290 [00:00<?, ?it/s]"
      ]
     },
     "metadata": {},
     "output_type": "display_data"
    }
   ],
   "source": [
    "recon_errors = []\n",
    "\n",
    "for index in tqdm(range(len(test_files))):\n",
    "    signal, sr = load_sound_file(test_files[index])\n",
    "\n",
    "    features = extract_signal_features(\n",
    "        signal, sr, n_fft=n_fft, hop_length=hop_length, n_mels=n_mels, frames=frames\n",
    "    )\n",
    "\n",
    "    predictions = model.predict(features)\n",
    "    mse = np.mean(np.mean(np.square(features - predictions), axis=1))\n",
    "    recon_errors.append(mse)"
   ]
  },
  {
   "cell_type": "markdown",
   "id": "615c6e87-716e-4543-9c08-b93338ac35c7",
   "metadata": {},
   "source": [
    "# Model Evaluation"
   ]
  },
  {
   "cell_type": "code",
   "execution_count": 19,
   "id": "f923d9e7-6b08-4719-b6c2-3419ee0e7546",
   "metadata": {},
   "outputs": [
    {
     "data": {
      "text/html": [
       "\n",
       "\n",
       "\n",
       "\n",
       "\n",
       "\n",
       "  <div class=\"bk-root\" id=\"f67f63b7-c3a9-49e3-8299-fba9c04cb303\" data-root-id=\"1275\"></div>\n"
      ]
     },
     "metadata": {},
     "output_type": "display_data"
    },
    {
     "data": {
      "application/javascript": [
       "(function(root) {\n",
       "  function embed_document(root) {\n",
       "    \n",
       "  const docs_json = {\"b3b22910-5c5a-4f47-b1dc-7ef29eedf239\":{\"defs\":[],\"roots\":{\"references\":[{\"attributes\":{\"below\":[{\"id\":\"1286\"}],\"center\":[{\"id\":\"1289\"},{\"id\":\"1293\"},{\"id\":\"1326\"}],\"height\":400,\"left\":[{\"id\":\"1290\"}],\"renderers\":[{\"id\":\"1314\"},{\"id\":\"1334\"}],\"title\":{\"id\":\"1276\"},\"toolbar\":{\"id\":\"1301\"},\"x_range\":{\"id\":\"1278\"},\"x_scale\":{\"id\":\"1282\"},\"y_range\":{\"id\":\"1280\"},\"y_scale\":{\"id\":\"1284\"}},\"id\":\"1275\",\"subtype\":\"Figure\",\"type\":\"Plot\"},{\"attributes\":{\"axis_label\":\"Prediction Score\",\"coordinates\":null,\"formatter\":{\"id\":\"1321\"},\"group\":null,\"major_label_policy\":{\"id\":\"1322\"},\"ticker\":{\"id\":\"1287\"}},\"id\":\"1286\",\"type\":\"LinearAxis\"},{\"attributes\":{\"bottom\":{\"value\":0.0},\"fill_alpha\":{\"field\":\"alpha\"},\"fill_color\":{\"value\":\"crimson\"},\"left\":{\"field\":\"left\"},\"line_color\":{\"value\":null},\"right\":{\"field\":\"right\"},\"top\":{\"field\":\"percent\"}},\"id\":\"1310\",\"type\":\"Quad\"},{\"attributes\":{},\"id\":\"1321\",\"type\":\"BasicTickFormatter\"},{\"attributes\":{\"align\":\"center\",\"coordinates\":null,\"group\":null,\"text\":\"AutoEncoder: Prediction Score Histogram by Class\",\"text_font_size\":\"12pt\"},\"id\":\"1276\",\"type\":\"Title\"},{\"attributes\":{},\"id\":\"1322\",\"type\":\"AllLabels\"},{\"attributes\":{},\"id\":\"1282\",\"type\":\"LinearScale\"},{\"attributes\":{\"bottom\":{\"value\":0.0},\"fill_alpha\":{\"value\":0.2},\"fill_color\":{\"value\":\"indigo\"},\"hatch_alpha\":{\"value\":0.2},\"left\":{\"field\":\"left\"},\"line_alpha\":{\"value\":0.2},\"line_color\":{\"value\":null},\"right\":{\"field\":\"right\"},\"top\":{\"field\":\"percent\"}},\"id\":\"1333\",\"type\":\"Quad\"},{\"attributes\":{\"axis\":{\"id\":\"1286\"},\"coordinates\":null,\"group\":null,\"ticker\":null},\"id\":\"1289\",\"type\":\"Grid\"},{\"attributes\":{\"bottom\":{\"value\":0.0},\"fill_color\":{\"value\":\"tan\"},\"left\":{\"field\":\"left\"},\"line_color\":{\"value\":null},\"right\":{\"field\":\"right\"},\"top\":{\"field\":\"percent\"}},\"id\":\"1332\",\"type\":\"Quad\"},{\"attributes\":{},\"id\":\"1287\",\"type\":\"BasicTicker\"},{\"attributes\":{\"bottom\":{\"value\":0.0},\"fill_alpha\":{\"value\":0.1},\"fill_color\":{\"value\":\"indigo\"},\"hatch_alpha\":{\"value\":0.1},\"left\":{\"field\":\"left\"},\"line_alpha\":{\"value\":0.1},\"line_color\":{\"value\":null},\"right\":{\"field\":\"right\"},\"top\":{\"field\":\"percent\"}},\"id\":\"1331\",\"type\":\"Quad\"},{\"attributes\":{},\"id\":\"1278\",\"type\":\"DataRange1d\"},{\"attributes\":{\"start\":0.0},\"id\":\"1280\",\"type\":\"DataRange1d\"},{\"attributes\":{},\"id\":\"1291\",\"type\":\"BasicTicker\"},{\"attributes\":{\"bottom\":{\"value\":0.0},\"fill_alpha\":{\"value\":0.1},\"fill_color\":{\"value\":\"crimson\"},\"hatch_alpha\":{\"value\":0.1},\"left\":{\"field\":\"left\"},\"line_alpha\":{\"value\":0.1},\"line_color\":{\"value\":null},\"right\":{\"field\":\"right\"},\"top\":{\"field\":\"percent\"}},\"id\":\"1311\",\"type\":\"Quad\"},{\"attributes\":{\"axis\":{\"id\":\"1290\"},\"coordinates\":null,\"dimension\":1,\"group\":null,\"ticker\":null},\"id\":\"1293\",\"type\":\"Grid\"},{\"attributes\":{\"format\":\"0 %\"},\"id\":\"1349\",\"type\":\"NumeralTickFormatter\"},{\"attributes\":{},\"id\":\"1299\",\"type\":\"HelpTool\"},{\"attributes\":{},\"id\":\"1324\",\"type\":\"Selection\"},{\"attributes\":{\"data\":{\"alpha\":{\"__ndarray__\":\"UCWjHInO3j/0qs01bhfjP1rnWX64M+I/QlbFRfpK4D/NNW4XEwbfPyzWOs/yw90/PnN47rZ23D9TimEaeMTcPw1mPIxIStw/8m/pVZtr3D9KMUwDj5jbP4Ed8m/pVds/nBNFppY02z/u9T1JntDaPwrskH9Lr9o/jdvFhMF32j9x5XJOFJnaPxDL+ok3QNo/k7ovj60I2j/fvb4nyRPaP2Kt8yw/3Nk/R7eg9pH92T8WqmSUI9HZP/uzEV528tk/Yq3zLD/c2T8WqmSUI9HZP2Kt8yw/3Nk/Yq3zLD/c2T9irfMsP9zZP2Kt8yw/3Nk/\",\"dtype\":\"float64\",\"order\":\"little\",\"shape\":[30]},\"count\":[115,285,244,156,120,91,61,68,57,60,41,35,32,23,20,15,18,10,5,6,1,4,0,3,1,0,1,1,1,1],\"interval\":[\"2.95 to 3.58\",\"3.58 to 4.21\",\"4.21 to 4.84\",\"4.84 to 5.47\",\"5.47 to 6.09\",\"6.09 to 6.72\",\"6.72 to 7.35\",\"7.35 to 7.98\",\"7.98 to 8.61\",\"8.61 to 9.24\",\"9.24 to 9.87\",\"9.87 to 10.50\",\"10.50 to 11.13\",\"11.13 to 11.76\",\"11.76 to 12.39\",\"12.39 to 13.02\",\"13.02 to 13.64\",\"13.64 to 14.27\",\"14.27 to 14.90\",\"14.90 to 15.53\",\"15.53 to 16.16\",\"16.16 to 16.79\",\"16.79 to 17.42\",\"17.42 to 18.05\",\"18.05 to 18.68\",\"18.68 to 19.31\",\"19.31 to 19.94\",\"19.94 to 20.56\",\"20.56 to 21.19\",\"21.19 to 21.82\"],\"left\":{\"__ndarray__\":\"AAAAIOmXB0CamZnJYKAMQJqZmTls1BBAZmZmDqhYE0AzMzPj49wVQAAAALgfYRhAzMzMjFvlGkCZmZlhl2kdQGZmZjbT7R9AmpmZhQc5IUAAAABwJXsiQGZmZlpDvSNAzMzMRGH/JEAzMzMvf0EmQJmZmRmdgydAAAAABLvFKEBmZmbu2AcqQMzMzNj2SStAMzMzwxSMLECZmZmtMs4tQAAAAJhQEC9AMzMzQTcpMEBmZmY2RsowQJqZmStVazFAzMzMIGQMMkAAAAAWc60yQDMzMwuCTjNAZmZmAJHvM0CZmZn1n5A0QMzMzOquMTVA\",\"dtype\":\"float64\",\"order\":\"little\",\"shape\":[30]},\"percent\":[0.07796610169491526,0.19322033898305085,0.16542372881355932,0.10576271186440678,0.08135593220338982,0.06169491525423729,0.04135593220338983,0.04610169491525424,0.03864406779661017,0.04067796610169491,0.027796610169491524,0.023728813559322035,0.02169491525423729,0.015593220338983051,0.013559322033898305,0.010169491525423728,0.012203389830508475,0.006779661016949152,0.003389830508474576,0.004067796610169492,0.0006779661016949153,0.002711864406779661,0.0,0.002033898305084746,0.0006779661016949153,0.0,0.0006779661016949153,0.0006779661016949153,0.0006779661016949153,0.0006779661016949153],\"right\":{\"__ndarray__\":\"mpmZyWCgDECamZk5bNQQQGZmZg6oWBNAMzMz4+PcFUAAAAC4H2EYQMzMzIxb5RpAmZmZYZdpHUBmZmY20+0fQJqZmYUHOSFAAAAAcCV7IkBmZmZaQ70jQMzMzERh/yRAMzMzL39BJkCZmZkZnYMnQAAAAAS7xShAZmZm7tgHKkDMzMzY9kkrQDMzM8MUjCxAmZmZrTLOLUAAAACYUBAvQDMzM0E3KTBAZmZmNkbKMECamZkrVWsxQMzMzCBkDDJAAAAAFnOtMkAzMzMLgk4zQGZmZgCR7zNAmZmZ9Z+QNEDMzMzqrjE1QAAAAOC90jVA\",\"dtype\":\"float64\",\"order\":\"little\",\"shape\":[30]}},\"selected\":{\"id\":\"1346\"},\"selection_policy\":{\"id\":\"1345\"}},\"id\":\"1328\",\"type\":\"ColumnDataSource\"},{\"attributes\":{},\"id\":\"1345\",\"type\":\"UnionRenderers\"},{\"attributes\":{\"bottom\":{\"value\":0.0},\"fill_alpha\":{\"field\":\"alpha\"},\"fill_color\":{\"value\":\"indigo\"},\"left\":{\"field\":\"left\"},\"line_color\":{\"value\":null},\"right\":{\"field\":\"right\"},\"top\":{\"field\":\"percent\"}},\"id\":\"1330\",\"type\":\"Quad\"},{\"attributes\":{},\"id\":\"1298\",\"type\":\"ResetTool\"},{\"attributes\":{},\"id\":\"1297\",\"type\":\"SaveTool\"},{\"attributes\":{\"source\":{\"id\":\"1308\"}},\"id\":\"1315\",\"type\":\"CDSView\"},{\"attributes\":{\"callback\":null,\"tooltips\":[[\"interval\",\"@interval\"],[\"count\",\"@count\"],[\"percent\",\"@percent\"]]},\"id\":\"1351\",\"type\":\"HoverTool\"},{\"attributes\":{\"bottom\":{\"value\":0.0},\"fill_color\":{\"value\":\"tan\"},\"left\":{\"field\":\"left\"},\"line_color\":{\"value\":null},\"right\":{\"field\":\"right\"},\"top\":{\"field\":\"percent\"}},\"id\":\"1312\",\"type\":\"Quad\"},{\"attributes\":{\"overlay\":{\"id\":\"1300\"}},\"id\":\"1296\",\"type\":\"BoxZoomTool\"},{\"attributes\":{},\"id\":\"1294\",\"type\":\"PanTool\"},{\"attributes\":{},\"id\":\"1319\",\"type\":\"AllLabels\"},{\"attributes\":{\"label\":{\"value\":\"False\"},\"renderers\":[{\"id\":\"1314\"}]},\"id\":\"1327\",\"type\":\"LegendItem\"},{\"attributes\":{\"label\":{\"value\":\"True\"},\"renderers\":[{\"id\":\"1334\"}]},\"id\":\"1348\",\"type\":\"LegendItem\"},{\"attributes\":{\"data\":{\"alpha\":{\"__ndarray__\":\"90EyoJ6p3D900j5IBtTjP6vvC0avzuI/svQbCY3x4T/EP9uaXQrhP/5GQmN8zNs/siX4Nn+F2T87aR8kA+rZPyni0En7INk/KeLQSfsg2T9xhuwhrOTYP4kSS7+R0Ng/6ELFNCiA2D/QtmaXQpTYP+hCxTQogNg/6ELFNCiA2D/oQsU0KIDYPxhbgm/zV9g/GFuCb/NX2D/oQsU0KIDYPw==\",\"dtype\":\"float64\",\"order\":\"little\",\"shape\":[20]},\"count\":[55,195,169,147,124,44,15,20,10,10,7,6,2,3,2,2,2,0,0,2],\"interval\":[\"2.25 to 2.54\",\"2.54 to 2.82\",\"2.82 to 3.10\",\"3.10 to 3.39\",\"3.39 to 3.67\",\"3.67 to 3.96\",\"3.96 to 4.24\",\"4.24 to 4.53\",\"4.53 to 4.81\",\"4.81 to 5.10\",\"5.10 to 5.38\",\"5.38 to 5.67\",\"5.67 to 5.95\",\"5.95 to 6.23\",\"6.23 to 6.52\",\"6.52 to 6.80\",\"6.80 to 7.09\",\"7.09 to 7.37\",\"7.37 to 7.66\",\"7.66 to 7.94\"],\"left\":{\"__ndarray__\":\"AAAAoHUCAkAzMzObHEkEQGZmZpbDjwZAmpmZkWrWCEDNzMyMER0LQAAAAIi4Yw1ANDMzg1+qD0A0MzM/g/gQQM3MzLzWGxJAZmZmOio/E0AAAAC4fWIUQJqZmTXRhRVANDMzsySpFkDNzMwweMwXQGdmZq7L7xhAAAAALB8TGkCamZmpcjYbQDQzMyfGWRxAzczMpBl9HUBnZmYibaAeQA==\",\"dtype\":\"float64\",\"order\":\"little\",\"shape\":[20]},\"percent\":[0.06748466257668712,0.2392638036809816,0.20736196319018405,0.18036809815950922,0.1521472392638037,0.053987730061349694,0.018404907975460124,0.024539877300613498,0.012269938650306749,0.012269938650306749,0.008588957055214725,0.007361963190184049,0.00245398773006135,0.0036809815950920245,0.00245398773006135,0.00245398773006135,0.00245398773006135,0.0,0.0,0.00245398773006135],\"right\":{\"__ndarray__\":\"MzMzmxxJBEBmZmaWw48GQJqZmZFq1ghAzczMjBEdC0AAAACIuGMNQDQzM4Nfqg9ANDMzP4P4EEDNzMy81hsSQGZmZjoqPxNAAAAAuH1iFECamZk10YUVQDQzM7MkqRZAzczMMHjMF0BnZmauy+8YQAAAACwfExpAmpmZqXI2G0A0MzMnxlkcQM3MzKQZfR1AZ2ZmIm2gHkAAAACgwMMfQA==\",\"dtype\":\"float64\",\"order\":\"little\",\"shape\":[20]}},\"selected\":{\"id\":\"1324\"},\"selection_policy\":{\"id\":\"1323\"}},\"id\":\"1308\",\"type\":\"ColumnDataSource\"},{\"attributes\":{},\"id\":\"1284\",\"type\":\"LinearScale\"},{\"attributes\":{},\"id\":\"1323\",\"type\":\"UnionRenderers\"},{\"attributes\":{\"source\":{\"id\":\"1328\"}},\"id\":\"1335\",\"type\":\"CDSView\"},{\"attributes\":{},\"id\":\"1346\",\"type\":\"Selection\"},{\"attributes\":{\"bottom\":{\"value\":0.0},\"fill_alpha\":{\"value\":0.2},\"fill_color\":{\"value\":\"crimson\"},\"hatch_alpha\":{\"value\":0.2},\"left\":{\"field\":\"left\"},\"line_alpha\":{\"value\":0.2},\"line_color\":{\"value\":null},\"right\":{\"field\":\"right\"},\"top\":{\"field\":\"percent\"}},\"id\":\"1313\",\"type\":\"Quad\"},{\"attributes\":{\"click_policy\":\"hide\",\"coordinates\":null,\"group\":null,\"items\":[{\"id\":\"1327\"},{\"id\":\"1348\"}],\"label_text_font_size\":\"8pt\"},\"id\":\"1326\",\"type\":\"Legend\"},{\"attributes\":{\"tools\":[{\"id\":\"1294\"},{\"id\":\"1295\"},{\"id\":\"1296\"},{\"id\":\"1297\"},{\"id\":\"1298\"},{\"id\":\"1299\"},{\"id\":\"1351\"}]},\"id\":\"1301\",\"type\":\"Toolbar\"},{\"attributes\":{\"bottom_units\":\"screen\",\"coordinates\":null,\"fill_alpha\":0.5,\"fill_color\":\"lightgrey\",\"group\":null,\"left_units\":\"screen\",\"level\":\"overlay\",\"line_alpha\":1.0,\"line_color\":\"black\",\"line_dash\":[4,4],\"line_width\":2,\"right_units\":\"screen\",\"syncable\":false,\"top_units\":\"screen\"},\"id\":\"1300\",\"type\":\"BoxAnnotation\"},{\"attributes\":{\"axis_label\":\"# Samples\",\"coordinates\":null,\"formatter\":{\"id\":\"1349\"},\"group\":null,\"major_label_policy\":{\"id\":\"1319\"},\"ticker\":{\"id\":\"1291\"}},\"id\":\"1290\",\"type\":\"LinearAxis\"},{\"attributes\":{\"coordinates\":null,\"data_source\":{\"id\":\"1328\"},\"glyph\":{\"id\":\"1330\"},\"group\":null,\"hover_glyph\":{\"id\":\"1332\"},\"muted_glyph\":{\"id\":\"1333\"},\"nonselection_glyph\":{\"id\":\"1331\"},\"view\":{\"id\":\"1335\"}},\"id\":\"1334\",\"type\":\"GlyphRenderer\"},{\"attributes\":{},\"id\":\"1295\",\"type\":\"WheelZoomTool\"},{\"attributes\":{\"coordinates\":null,\"data_source\":{\"id\":\"1308\"},\"glyph\":{\"id\":\"1310\"},\"group\":null,\"hover_glyph\":{\"id\":\"1312\"},\"muted_glyph\":{\"id\":\"1313\"},\"nonselection_glyph\":{\"id\":\"1311\"},\"view\":{\"id\":\"1315\"}},\"id\":\"1314\",\"type\":\"GlyphRenderer\"}],\"root_ids\":[\"1275\"]},\"title\":\"Bokeh Application\",\"version\":\"2.4.2\"}};\n",
       "  const render_items = [{\"docid\":\"b3b22910-5c5a-4f47-b1dc-7ef29eedf239\",\"root_ids\":[\"1275\"],\"roots\":{\"1275\":\"f67f63b7-c3a9-49e3-8299-fba9c04cb303\"}}];\n",
       "  root.Bokeh.embed.embed_items_notebook(docs_json, render_items);\n",
       "\n",
       "  }\n",
       "  if (root.Bokeh !== undefined) {\n",
       "    embed_document(root);\n",
       "  } else {\n",
       "    let attempts = 0;\n",
       "    const timer = setInterval(function(root) {\n",
       "      if (root.Bokeh !== undefined) {\n",
       "        clearInterval(timer);\n",
       "        embed_document(root);\n",
       "      } else {\n",
       "        attempts++;\n",
       "        if (attempts > 100) {\n",
       "          clearInterval(timer);\n",
       "          console.log(\"Bokeh: ERROR: Unable to run BokehJS code because BokehJS library is missing\");\n",
       "        }\n",
       "      }\n",
       "    }, 10, root)\n",
       "  }\n",
       "})(window);"
      ],
      "application/vnd.bokehjs_exec.v0+json": ""
     },
     "metadata": {
      "application/vnd.bokehjs_exec.v0+json": {
       "id": "1275"
      }
     },
     "output_type": "display_data"
    }
   ],
   "source": [
    "stack = np.column_stack((range(len(recon_errors)), recon_errors))\n",
    "score_false = stack[test_labels == 0][:, 1]\n",
    "score_true = stack[test_labels == 1][:, 1]\n",
    "\n",
    "plot_histogram_by_class(\n",
    "    score_false,\n",
    "    score_true,\n",
    "    bins=[20, 30],\n",
    "    model_name=MODEL_NAME,\n",
    "    file_name=os.path.join(IMAGE_PATH, \"recon_error_dist.svg\"),\n",
    ")"
   ]
  },
  {
   "cell_type": "code",
   "execution_count": 20,
   "id": "87cab09b-1956-45a2-8340-c7e6da5ca53c",
   "metadata": {},
   "outputs": [
    {
     "data": {
      "text/html": [
       "\n",
       "\n",
       "\n",
       "\n",
       "\n",
       "\n",
       "  <div class=\"bk-root\" id=\"f7630f4d-4976-4df8-8869-867ab24fa98c\" data-root-id=\"1584\"></div>\n"
      ]
     },
     "metadata": {},
     "output_type": "display_data"
    },
    {
     "data": {
      "application/javascript": [
       "(function(root) {\n",
       "  function embed_document(root) {\n",
       "    \n",
       "  const docs_json = {\"1c8a656d-5b9b-4d05-877f-41f9fabd97bc\":{\"defs\":[],\"roots\":{\"references\":[{\"attributes\":{\"below\":[{\"id\":\"1595\"}],\"center\":[{\"id\":\"1598\"},{\"id\":\"1602\"},{\"id\":\"1634\"},{\"id\":\"1657\"}],\"height\":400,\"left\":[{\"id\":\"1599\"}],\"renderers\":[{\"id\":\"1622\"},{\"id\":\"1641\"}],\"title\":{\"id\":\"1585\"},\"toolbar\":{\"id\":\"1610\"},\"x_range\":{\"id\":\"1587\"},\"x_scale\":{\"id\":\"1591\"},\"y_range\":{\"id\":\"1589\"},\"y_scale\":{\"id\":\"1593\"}},\"id\":\"1584\",\"subtype\":\"Figure\",\"type\":\"Plot\"},{\"attributes\":{\"bottom\":2.0,\"coordinates\":null,\"fill_alpha\":0.1,\"fill_color\":\"magenta\",\"group\":null,\"line_color\":\"darkmagenta\",\"top\":7.0},\"id\":\"1657\",\"type\":\"BoxAnnotation\"},{\"attributes\":{\"label\":{\"value\":\"Abnormal Signals\"},\"renderers\":[{\"id\":\"1641\"}]},\"id\":\"1655\",\"type\":\"LegendItem\"},{\"attributes\":{},\"id\":\"1631\",\"type\":\"UnionRenderers\"},{\"attributes\":{\"axis_label\":\"Reconstruction Error\",\"coordinates\":null,\"formatter\":{\"id\":\"1626\"},\"group\":null,\"major_label_policy\":{\"id\":\"1627\"},\"ticker\":{\"id\":\"1600\"}},\"id\":\"1599\",\"type\":\"LinearAxis\"},{\"attributes\":{\"overlay\":{\"id\":\"1609\"}},\"id\":\"1605\",\"type\":\"BoxZoomTool\"},{\"attributes\":{\"source\":{\"id\":\"1617\"}},\"id\":\"1623\",\"type\":\"CDSView\"},{\"attributes\":{\"source\":{\"id\":\"1636\"}},\"id\":\"1642\",\"type\":\"CDSView\"},{\"attributes\":{},\"id\":\"1606\",\"type\":\"SaveTool\"},{\"attributes\":{\"fill_alpha\":{\"value\":0.2},\"fill_color\":{\"value\":\"crimson\"},\"hatch_alpha\":{\"value\":0.2},\"line_alpha\":{\"value\":0.2},\"line_color\":{\"value\":null},\"x\":{\"field\":\"index\"},\"y\":{\"field\":\"error\"}},\"id\":\"1621\",\"type\":\"Scatter\"},{\"attributes\":{\"axis\":{\"id\":\"1599\"},\"coordinates\":null,\"dimension\":1,\"group\":null,\"ticker\":null},\"id\":\"1602\",\"type\":\"Grid\"},{\"attributes\":{},\"id\":\"1632\",\"type\":\"Selection\"},{\"attributes\":{},\"id\":\"1630\",\"type\":\"AllLabels\"},{\"attributes\":{},\"id\":\"1589\",\"type\":\"DataRange1d\"},{\"attributes\":{\"coordinates\":null,\"data_source\":{\"id\":\"1636\"},\"glyph\":{\"id\":\"1638\"},\"group\":null,\"hover_glyph\":null,\"muted_glyph\":{\"id\":\"1640\"},\"nonselection_glyph\":{\"id\":\"1639\"},\"view\":{\"id\":\"1642\"}},\"id\":\"1641\",\"type\":\"GlyphRenderer\"},{\"attributes\":{},\"id\":\"1587\",\"type\":\"DataRange1d\"},{\"attributes\":{\"callback\":null,\"tooltips\":[[\"index\",\"@index\"],[\"error\",\"@error\"]]},\"id\":\"1658\",\"type\":\"HoverTool\"},{\"attributes\":{\"coordinates\":null,\"data_source\":{\"id\":\"1617\"},\"glyph\":{\"id\":\"1619\"},\"group\":null,\"hover_glyph\":null,\"muted_glyph\":{\"id\":\"1621\"},\"nonselection_glyph\":{\"id\":\"1620\"},\"view\":{\"id\":\"1623\"}},\"id\":\"1622\",\"type\":\"GlyphRenderer\"},{\"attributes\":{\"tools\":[{\"id\":\"1603\"},{\"id\":\"1604\"},{\"id\":\"1605\"},{\"id\":\"1606\"},{\"id\":\"1607\"},{\"id\":\"1608\"},{\"id\":\"1658\"}]},\"id\":\"1610\",\"type\":\"Toolbar\"},{\"attributes\":{\"fill_alpha\":{\"value\":0.1},\"fill_color\":{\"value\":\"crimson\"},\"hatch_alpha\":{\"value\":0.1},\"line_alpha\":{\"value\":0.1},\"line_color\":{\"value\":null},\"x\":{\"field\":\"index\"},\"y\":{\"field\":\"error\"}},\"id\":\"1620\",\"type\":\"Scatter\"},{\"attributes\":{\"fill_alpha\":{\"value\":0.2},\"fill_color\":{\"value\":\"indigo\"},\"hatch_alpha\":{\"value\":0.2},\"line_alpha\":{\"value\":0.2},\"line_color\":{\"value\":null},\"x\":{\"field\":\"index\"},\"y\":{\"field\":\"error\"}},\"id\":\"1640\",\"type\":\"Scatter\"},{\"attributes\":{\"fill_alpha\":{\"value\":0.6},\"fill_color\":{\"value\":\"crimson\"},\"line_color\":{\"value\":null},\"x\":{\"field\":\"index\"},\"y\":{\"field\":\"error\"}},\"id\":\"1619\",\"type\":\"Scatter\"},{\"attributes\":{},\"id\":\"1608\",\"type\":\"HelpTool\"},{\"attributes\":{},\"id\":\"1627\",\"type\":\"AllLabels\"},{\"attributes\":{\"label\":{\"value\":\"Normal Signals\"},\"renderers\":[{\"id\":\"1622\"}]},\"id\":\"1635\",\"type\":\"LegendItem\"},{\"attributes\":{},\"id\":\"1591\",\"type\":\"LinearScale\"},{\"attributes\":{},\"id\":\"1629\",\"type\":\"BasicTickFormatter\"},{\"attributes\":{\"fill_alpha\":{\"value\":0.1},\"fill_color\":{\"value\":\"indigo\"},\"hatch_alpha\":{\"value\":0.1},\"line_alpha\":{\"value\":0.1},\"line_color\":{\"value\":null},\"x\":{\"field\":\"index\"},\"y\":{\"field\":\"error\"}},\"id\":\"1639\",\"type\":\"Scatter\"},{\"attributes\":{},\"id\":\"1604\",\"type\":\"WheelZoomTool\"},{\"attributes\":{},\"id\":\"1652\",\"type\":\"UnionRenderers\"},{\"attributes\":{},\"id\":\"1653\",\"type\":\"Selection\"},{\"attributes\":{},\"id\":\"1600\",\"type\":\"BasicTicker\"},{\"attributes\":{\"align\":\"center\",\"coordinates\":null,\"group\":null,\"text\":\"AutoEncoder: Threshold Range Exploration\",\"text_font_size\":\"12pt\"},\"id\":\"1585\",\"type\":\"Title\"},{\"attributes\":{\"axis_label\":\"Samples\",\"coordinates\":null,\"formatter\":{\"id\":\"1629\"},\"group\":null,\"major_label_policy\":{\"id\":\"1630\"},\"ticker\":{\"id\":\"1596\"}},\"id\":\"1595\",\"type\":\"LinearAxis\"},{\"attributes\":{\"coordinates\":null,\"group\":null,\"items\":[{\"id\":\"1635\"},{\"id\":\"1655\"}],\"label_text_font_size\":\"8pt\"},\"id\":\"1634\",\"type\":\"Legend\"},{\"attributes\":{},\"id\":\"1603\",\"type\":\"PanTool\"},{\"attributes\":{},\"id\":\"1596\",\"type\":\"BasicTicker\"},{\"attributes\":{\"fill_alpha\":{\"value\":0.6},\"fill_color\":{\"value\":\"indigo\"},\"line_color\":{\"value\":null},\"x\":{\"field\":\"index\"},\"y\":{\"field\":\"error\"}},\"id\":\"1638\",\"type\":\"Scatter\"},{\"attributes\":{},\"id\":\"1607\",\"type\":\"ResetTool\"},{\"attributes\":{\"data\":{\"error\":{\"__ndarray__\":\"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\",\"dtype\":\"float64\",\"order\":\"little\",\"shape\":[1475]},\"index\":{\"__ndarray__\":\"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\",\"dtype\":\"float64\",\"order\":\"little\",\"shape\":[1475]}},\"selected\":{\"id\":\"1653\"},\"selection_policy\":{\"id\":\"1652\"}},\"id\":\"1636\",\"type\":\"ColumnDataSource\"},{\"attributes\":{\"bottom_units\":\"screen\",\"coordinates\":null,\"fill_alpha\":0.5,\"fill_color\":\"lightgrey\",\"group\":null,\"left_units\":\"screen\",\"level\":\"overlay\",\"line_alpha\":1.0,\"line_color\":\"black\",\"line_dash\":[4,4],\"line_width\":2,\"right_units\":\"screen\",\"syncable\":false,\"top_units\":\"screen\"},\"id\":\"1609\",\"type\":\"BoxAnnotation\"},{\"attributes\":{},\"id\":\"1593\",\"type\":\"LinearScale\"},{\"attributes\":{},\"id\":\"1626\",\"type\":\"BasicTickFormatter\"},{\"attributes\":{\"data\":{\"error\":{\"__ndarray__\":\"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\",\"dtype\":\"float64\",\"order\":\"little\",\"shape\":[815]},\"index\":{\"__ndarray__\":\"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\",\"dtype\":\"float64\",\"order\":\"little\",\"shape\":[815]}},\"selected\":{\"id\":\"1632\"},\"selection_policy\":{\"id\":\"1631\"}},\"id\":\"1617\",\"type\":\"ColumnDataSource\"},{\"attributes\":{\"axis\":{\"id\":\"1595\"},\"coordinates\":null,\"group\":null,\"ticker\":null},\"id\":\"1598\",\"type\":\"Grid\"}],\"root_ids\":[\"1584\"]},\"title\":\"Bokeh Application\",\"version\":\"2.4.2\"}};\n",
       "  const render_items = [{\"docid\":\"1c8a656d-5b9b-4d05-877f-41f9fabd97bc\",\"root_ids\":[\"1584\"],\"roots\":{\"1584\":\"f7630f4d-4976-4df8-8869-867ab24fa98c\"}}];\n",
       "  root.Bokeh.embed.embed_items_notebook(docs_json, render_items);\n",
       "\n",
       "  }\n",
       "  if (root.Bokeh !== undefined) {\n",
       "    embed_document(root);\n",
       "  } else {\n",
       "    let attempts = 0;\n",
       "    const timer = setInterval(function(root) {\n",
       "      if (root.Bokeh !== undefined) {\n",
       "        clearInterval(timer);\n",
       "        embed_document(root);\n",
       "      } else {\n",
       "        attempts++;\n",
       "        if (attempts > 100) {\n",
       "          clearInterval(timer);\n",
       "          console.log(\"Bokeh: ERROR: Unable to run BokehJS code because BokehJS library is missing\");\n",
       "        }\n",
       "      }\n",
       "    }, 10, root)\n",
       "  }\n",
       "})(window);"
      ],
      "application/vnd.bokehjs_exec.v0+json": ""
     },
     "metadata": {
      "application/vnd.bokehjs_exec.v0+json": {
       "id": "1584"
      }
     },
     "output_type": "display_data"
    }
   ],
   "source": [
    "THRESHOLD_MIN = 2.0\n",
    "THRESHOLD_MAX = 7.0\n",
    "\n",
    "p = figure(\n",
    "    plot_width=600,\n",
    "    plot_height=400,\n",
    "    title=f\"{MODEL_NAME}: Threshold Range Exploration\",\n",
    "    x_axis_label=\"Samples\",\n",
    "    y_axis_label=\"Reconstruction Error\",\n",
    ")\n",
    "\n",
    "source = ColumnDataSource(\n",
    "    dict(index=stack[test_labels == 0][:, 0], error=stack[test_labels == 0][:, 1])\n",
    ")\n",
    "p.scatter(\n",
    "    \"index\",\n",
    "    \"error\",\n",
    "    fill_alpha=0.6,\n",
    "    fill_color=\"crimson\",\n",
    "    line_color=None,\n",
    "    legend_label=\"Normal Signals\",\n",
    "    source=source,\n",
    ")\n",
    "\n",
    "source = ColumnDataSource(\n",
    "    dict(index=stack[test_labels == 1][:, 0], error=stack[test_labels == 1][:, 1])\n",
    ")\n",
    "p.scatter(\n",
    "    \"index\",\n",
    "    \"error\",\n",
    "    fill_alpha=0.6,\n",
    "    fill_color=\"indigo\",\n",
    "    line_color=None,\n",
    "    legend_label=\"Abnormal Signals\",\n",
    "    source=source,\n",
    ")\n",
    "\n",
    "source = ColumnDataSource(\n",
    "    data=dict(\n",
    "        index=stack[:, 0],\n",
    "        threshold_min=np.repeat(THRESHOLD_MIN, stack.shape[0]),\n",
    "        threshold_max=np.repeat(THRESHOLD_MAX, stack.shape[0]),\n",
    "    )\n",
    ")\n",
    "\n",
    "box = BoxAnnotation(\n",
    "    bottom=THRESHOLD_MIN,\n",
    "    top=THRESHOLD_MAX,\n",
    "    fill_alpha=0.1,\n",
    "    fill_color=\"magenta\",\n",
    "    line_color=\"darkmagenta\",\n",
    "    line_width=1.0,\n",
    ")\n",
    "p.add_layout(box)\n",
    "\n",
    "p.legend.label_text_font_size = \"8pt\"\n",
    "p.legend.location = \"top_right\"\n",
    "p.title.align = \"center\"\n",
    "p.title.text_font_size = \"12pt\"\n",
    "\n",
    "p.add_tools(HoverTool(tooltips=[(\"index\", \"@index\"), (\"error\", \"@error\")]))\n",
    "show(p)\n",
    "\n",
    "p.output_backend = \"svg\"\n",
    "_ = export_svgs(p, filename=os.path.join(IMAGE_PATH, \"thr_range_exp.svg\"))"
   ]
  },
  {
   "cell_type": "code",
   "execution_count": 21,
   "id": "8e942a91-6fd4-43d9-a85f-2f9b82ed8e9d",
   "metadata": {},
   "outputs": [],
   "source": [
    "THRESHOLD_STEP = 0.2\n",
    "thresholds = np.arange(THRESHOLD_MIN, THRESHOLD_MAX + THRESHOLD_STEP, THRESHOLD_STEP)\n",
    "errors = []\n",
    "\n",
    "for threshold in thresholds:\n",
    "    predictions = get_prediction(stack[:, 1], threshold=threshold)\n",
    "    conf_mat = confusion_matrix(test_labels, predictions)\n",
    "    errors.append([threshold, conf_mat[1, 0], conf_mat[0, 1]])\n",
    "\n",
    "errors = np.array(errors)"
   ]
  },
  {
   "cell_type": "code",
   "execution_count": 22,
   "id": "b27ade12-c641-40bd-893c-9773242b1220",
   "metadata": {},
   "outputs": [
    {
     "data": {
      "text/html": [
       "\n",
       "\n",
       "\n",
       "\n",
       "\n",
       "\n",
       "  <div class=\"bk-root\" id=\"65353d79-ffcd-4eef-9d71-88391b60561b\" data-root-id=\"1922\"></div>\n"
      ]
     },
     "metadata": {},
     "output_type": "display_data"
    },
    {
     "data": {
      "application/javascript": [
       "(function(root) {\n",
       "  function embed_document(root) {\n",
       "    \n",
       "  const docs_json = {\"04a62095-3db5-434a-8669-8862805da2d7\":{\"defs\":[],\"roots\":{\"references\":[{\"attributes\":{\"below\":[{\"id\":\"1933\"}],\"center\":[{\"id\":\"1936\"},{\"id\":\"1940\"},{\"id\":\"1972\"}],\"height\":400,\"left\":[{\"id\":\"1937\"}],\"renderers\":[{\"id\":\"1960\"},{\"id\":\"1978\"},{\"id\":\"1984\"},{\"id\":\"2001\"}],\"title\":{\"id\":\"1923\"},\"toolbar\":{\"id\":\"1948\"},\"x_range\":{\"id\":\"1925\"},\"x_scale\":{\"id\":\"1929\"},\"y_range\":{\"id\":\"1927\"},\"y_scale\":{\"id\":\"1931\"}},\"id\":\"1922\",\"subtype\":\"Figure\",\"type\":\"Plot\"},{\"attributes\":{},\"id\":\"1938\",\"type\":\"BasicTicker\"},{\"attributes\":{\"fill_alpha\":{\"value\":0.2},\"fill_color\":{\"value\":\"white\"},\"hatch_alpha\":{\"value\":0.2},\"hatch_color\":{\"value\":\"crimson\"},\"line_alpha\":{\"value\":0.2},\"line_color\":{\"value\":\"crimson\"},\"x\":{\"field\":\"threshold\"},\"y\":{\"field\":\"false_negative\"}},\"id\":\"1977\",\"type\":\"Circle\"},{\"attributes\":{},\"id\":\"1941\",\"type\":\"PanTool\"},{\"attributes\":{\"axis_label\":\"Reconstruction Error Threshold (%)\",\"coordinates\":null,\"formatter\":{\"id\":\"1967\"},\"group\":null,\"major_label_policy\":{\"id\":\"1968\"},\"ticker\":{\"id\":\"1934\"}},\"id\":\"1933\",\"type\":\"LinearAxis\"},{\"attributes\":{\"tools\":[{\"id\":\"1941\"},{\"id\":\"1942\"},{\"id\":\"1943\"},{\"id\":\"1944\"},{\"id\":\"1945\"},{\"id\":\"1946\"},{\"id\":\"2003\"}]},\"id\":\"1948\",\"type\":\"Toolbar\"},{\"attributes\":{\"fill_color\":{\"value\":\"white\"},\"hatch_color\":{\"value\":\"indigo\"},\"line_color\":{\"value\":\"indigo\"},\"x\":{\"field\":\"threshold\"},\"y\":{\"field\":\"false_positive\"}},\"id\":\"1998\",\"type\":\"Circle\"},{\"attributes\":{},\"id\":\"1944\",\"type\":\"SaveTool\"},{\"attributes\":{},\"id\":\"1965\",\"type\":\"AllLabels\"},{\"attributes\":{},\"id\":\"1927\",\"type\":\"DataRange1d\"},{\"attributes\":{},\"id\":\"1931\",\"type\":\"LinearScale\"},{\"attributes\":{\"line_alpha\":0.1,\"line_color\":\"indigo\",\"x\":{\"field\":\"threshold\"},\"y\":{\"field\":\"false_positive\"}},\"id\":\"1982\",\"type\":\"Line\"},{\"attributes\":{\"coordinates\":null,\"data_source\":{\"id\":\"1955\"},\"glyph\":{\"id\":\"1975\"},\"group\":null,\"hover_glyph\":null,\"muted_glyph\":{\"id\":\"1977\"},\"nonselection_glyph\":{\"id\":\"1976\"},\"view\":{\"id\":\"1979\"}},\"id\":\"1978\",\"type\":\"GlyphRenderer\"},{\"attributes\":{\"line_color\":\"indigo\",\"x\":{\"field\":\"threshold\"},\"y\":{\"field\":\"false_positive\"}},\"id\":\"1981\",\"type\":\"Line\"},{\"attributes\":{\"callback\":null,\"tooltips\":[[\"threshold\",\"@threshold\"],[\"false_negative\",\"@false_negative\"],[\"false_positive\",\"@false_positive\"]]},\"id\":\"2003\",\"type\":\"HoverTool\"},{\"attributes\":{},\"id\":\"1946\",\"type\":\"HelpTool\"},{\"attributes\":{\"coordinates\":null,\"data_source\":{\"id\":\"1955\"},\"glyph\":{\"id\":\"1957\"},\"group\":null,\"hover_glyph\":null,\"muted_glyph\":{\"id\":\"1959\"},\"nonselection_glyph\":{\"id\":\"1958\"},\"view\":{\"id\":\"1961\"}},\"id\":\"1960\",\"type\":\"GlyphRenderer\"},{\"attributes\":{\"fill_color\":{\"value\":\"white\"},\"hatch_color\":{\"value\":\"crimson\"},\"line_color\":{\"value\":\"crimson\"},\"x\":{\"field\":\"threshold\"},\"y\":{\"field\":\"false_negative\"}},\"id\":\"1975\",\"type\":\"Circle\"},{\"attributes\":{},\"id\":\"1969\",\"type\":\"UnionRenderers\"},{\"attributes\":{\"data\":{\"false_negative\":{\"__ndarray__\":\"AAAAAAAAAAAAAAAAAAAAAAAAAAAAAAAAAAAAAAAAAAAAAAAAAAAAAAAAAAAAAPA/AAAAAAAANkAAAAAAAABPQAAAAAAAAF5AAAAAAABgakAAAAAAAIByQAAAAAAAAHlAAAAAAABgfkAAAAAAAKiBQAAAAAAA4INAAAAAAADAhUAAAAAAADCHQAAAAAAAoIhAAAAAAADwiUAAAAAAACCLQAAAAAAAQIxAAAAAAAB4jUAAAAAAADiOQAAAAAAAOI9AAAAAAADYj0AAAAAAAESQQA==\",\"dtype\":\"float64\",\"order\":\"little\",\"shape\":[26]},\"false_positive\":{\"__ndarray__\":\"AAAAAAB4iUAAAAAAAHiJQAAAAAAAYIhAAAAAAAAYh0AAAAAAAEiCQAAAAAAAwHxAAAAAAADwdUAAAAAAAIBuQAAAAAAAYGJAAAAAAABAWUAAAAAAAIBTQAAAAAAAgFBAAAAAAAAATEAAAAAAAABGQAAAAAAAAEJAAAAAAAAAOkAAAAAAAAA2QAAAAAAAADNAAAAAAAAAMUAAAAAAAAAmQAAAAAAAACJAAAAAAAAAIEAAAAAAAAAYQAAAAAAAABhAAAAAAAAAEEAAAAAAAAAAQA==\",\"dtype\":\"float64\",\"order\":\"little\",\"shape\":[26]},\"threshold\":{\"__ndarray__\":\"AAAAAAAAAECamZmZmZkBQDQzMzMzMwNAzszMzMzMBEBoZmZmZmYGQAIAAAAAAAhAnJmZmZmZCUA2MzMzMzMLQNDMzMzMzAxAamZmZmZmDkACAAAAAAAQQM/MzMzMzBBAnJmZmZmZEUBpZmZmZmYSQDYzMzMzMxNAAwAAAAAAFEDQzMzMzMwUQJ2ZmZmZmRVAamZmZmZmFkA3MzMzMzMXQAQAAAAAABhA0czMzMzMGECemZmZmZkZQGtmZmZmZhpAODMzMzMzG0AFAAAAAAAcQA==\",\"dtype\":\"float64\",\"order\":\"little\",\"shape\":[26]}},\"selected\":{\"id\":\"1970\"},\"selection_policy\":{\"id\":\"1969\"}},\"id\":\"1955\",\"type\":\"ColumnDataSource\"},{\"attributes\":{\"fill_alpha\":{\"value\":0.1},\"fill_color\":{\"value\":\"white\"},\"hatch_alpha\":{\"value\":0.1},\"hatch_color\":{\"value\":\"indigo\"},\"line_alpha\":{\"value\":0.1},\"line_color\":{\"value\":\"indigo\"},\"x\":{\"field\":\"threshold\"},\"y\":{\"field\":\"false_positive\"}},\"id\":\"1999\",\"type\":\"Circle\"},{\"attributes\":{},\"id\":\"1925\",\"type\":\"DataRange1d\"},{\"attributes\":{},\"id\":\"1929\",\"type\":\"LinearScale\"},{\"attributes\":{\"axis\":{\"id\":\"1937\"},\"coordinates\":null,\"dimension\":1,\"group\":null,\"ticker\":null},\"id\":\"1940\",\"type\":\"Grid\"},{\"attributes\":{\"line_alpha\":0.1,\"line_color\":\"crimson\",\"x\":{\"field\":\"threshold\"},\"y\":{\"field\":\"false_negative\"}},\"id\":\"1958\",\"type\":\"Line\"},{\"attributes\":{\"coordinates\":null,\"data_source\":{\"id\":\"1955\"},\"glyph\":{\"id\":\"1998\"},\"group\":null,\"hover_glyph\":null,\"muted_glyph\":{\"id\":\"2000\"},\"nonselection_glyph\":{\"id\":\"1999\"},\"view\":{\"id\":\"2002\"}},\"id\":\"2001\",\"type\":\"GlyphRenderer\"},{\"attributes\":{\"label\":{\"value\":\"False Positive\"},\"renderers\":[{\"id\":\"1984\"}]},\"id\":\"1996\",\"type\":\"LegendItem\"},{\"attributes\":{\"axis\":{\"id\":\"1933\"},\"coordinates\":null,\"group\":null,\"ticker\":null},\"id\":\"1936\",\"type\":\"Grid\"},{\"attributes\":{\"line_alpha\":0.2,\"line_color\":\"crimson\",\"x\":{\"field\":\"threshold\"},\"y\":{\"field\":\"false_negative\"}},\"id\":\"1959\",\"type\":\"Line\"},{\"attributes\":{\"overlay\":{\"id\":\"1947\"}},\"id\":\"1943\",\"type\":\"BoxZoomTool\"},{\"attributes\":{\"align\":\"center\",\"coordinates\":null,\"group\":null,\"text\":\"AutoEncoder: Best Threshold Exploration\",\"text_font_size\":\"12pt\"},\"id\":\"1923\",\"type\":\"Title\"},{\"attributes\":{\"click_policy\":\"hide\",\"coordinates\":null,\"group\":null,\"items\":[{\"id\":\"1973\"},{\"id\":\"1996\"}],\"label_text_font_size\":\"8pt\",\"location\":\"top_left\"},\"id\":\"1972\",\"type\":\"Legend\"},{\"attributes\":{\"fill_alpha\":{\"value\":0.1},\"fill_color\":{\"value\":\"white\"},\"hatch_alpha\":{\"value\":0.1},\"hatch_color\":{\"value\":\"crimson\"},\"line_alpha\":{\"value\":0.1},\"line_color\":{\"value\":\"crimson\"},\"x\":{\"field\":\"threshold\"},\"y\":{\"field\":\"false_negative\"}},\"id\":\"1976\",\"type\":\"Circle\"},{\"attributes\":{\"line_color\":\"crimson\",\"x\":{\"field\":\"threshold\"},\"y\":{\"field\":\"false_negative\"}},\"id\":\"1957\",\"type\":\"Line\"},{\"attributes\":{},\"id\":\"1945\",\"type\":\"ResetTool\"},{\"attributes\":{},\"id\":\"1967\",\"type\":\"BasicTickFormatter\"},{\"attributes\":{\"source\":{\"id\":\"1955\"}},\"id\":\"1979\",\"type\":\"CDSView\"},{\"attributes\":{\"fill_alpha\":{\"value\":0.2},\"fill_color\":{\"value\":\"white\"},\"hatch_alpha\":{\"value\":0.2},\"hatch_color\":{\"value\":\"indigo\"},\"line_alpha\":{\"value\":0.2},\"line_color\":{\"value\":\"indigo\"},\"x\":{\"field\":\"threshold\"},\"y\":{\"field\":\"false_positive\"}},\"id\":\"2000\",\"type\":\"Circle\"},{\"attributes\":{\"bottom_units\":\"screen\",\"coordinates\":null,\"fill_alpha\":0.5,\"fill_color\":\"lightgrey\",\"group\":null,\"left_units\":\"screen\",\"level\":\"overlay\",\"line_alpha\":1.0,\"line_color\":\"black\",\"line_dash\":[4,4],\"line_width\":2,\"right_units\":\"screen\",\"syncable\":false,\"top_units\":\"screen\"},\"id\":\"1947\",\"type\":\"BoxAnnotation\"},{\"attributes\":{\"label\":{\"value\":\"False Negative\"},\"renderers\":[{\"id\":\"1960\"}]},\"id\":\"1973\",\"type\":\"LegendItem\"},{\"attributes\":{},\"id\":\"1934\",\"type\":\"BasicTicker\"},{\"attributes\":{},\"id\":\"1968\",\"type\":\"AllLabels\"},{\"attributes\":{\"source\":{\"id\":\"1955\"}},\"id\":\"1961\",\"type\":\"CDSView\"},{\"attributes\":{\"source\":{\"id\":\"1955\"}},\"id\":\"2002\",\"type\":\"CDSView\"},{\"attributes\":{\"source\":{\"id\":\"1955\"}},\"id\":\"1985\",\"type\":\"CDSView\"},{\"attributes\":{},\"id\":\"1970\",\"type\":\"Selection\"},{\"attributes\":{\"line_alpha\":0.2,\"line_color\":\"indigo\",\"x\":{\"field\":\"threshold\"},\"y\":{\"field\":\"false_positive\"}},\"id\":\"1983\",\"type\":\"Line\"},{\"attributes\":{},\"id\":\"1964\",\"type\":\"BasicTickFormatter\"},{\"attributes\":{\"coordinates\":null,\"data_source\":{\"id\":\"1955\"},\"glyph\":{\"id\":\"1981\"},\"group\":null,\"hover_glyph\":null,\"muted_glyph\":{\"id\":\"1983\"},\"nonselection_glyph\":{\"id\":\"1982\"},\"view\":{\"id\":\"1985\"}},\"id\":\"1984\",\"type\":\"GlyphRenderer\"},{\"attributes\":{},\"id\":\"1942\",\"type\":\"WheelZoomTool\"},{\"attributes\":{\"axis_label\":\"# Samples\",\"coordinates\":null,\"formatter\":{\"id\":\"1964\"},\"group\":null,\"major_label_policy\":{\"id\":\"1965\"},\"ticker\":{\"id\":\"1938\"}},\"id\":\"1937\",\"type\":\"LinearAxis\"}],\"root_ids\":[\"1922\"]},\"title\":\"Bokeh Application\",\"version\":\"2.4.2\"}};\n",
       "  const render_items = [{\"docid\":\"04a62095-3db5-434a-8669-8862805da2d7\",\"root_ids\":[\"1922\"],\"roots\":{\"1922\":\"65353d79-ffcd-4eef-9d71-88391b60561b\"}}];\n",
       "  root.Bokeh.embed.embed_items_notebook(docs_json, render_items);\n",
       "\n",
       "  }\n",
       "  if (root.Bokeh !== undefined) {\n",
       "    embed_document(root);\n",
       "  } else {\n",
       "    let attempts = 0;\n",
       "    const timer = setInterval(function(root) {\n",
       "      if (root.Bokeh !== undefined) {\n",
       "        clearInterval(timer);\n",
       "        embed_document(root);\n",
       "      } else {\n",
       "        attempts++;\n",
       "        if (attempts > 100) {\n",
       "          clearInterval(timer);\n",
       "          console.log(\"Bokeh: ERROR: Unable to run BokehJS code because BokehJS library is missing\");\n",
       "        }\n",
       "      }\n",
       "    }, 10, root)\n",
       "  }\n",
       "})(window);"
      ],
      "application/vnd.bokehjs_exec.v0+json": ""
     },
     "metadata": {
      "application/vnd.bokehjs_exec.v0+json": {
       "id": "1922"
      }
     },
     "output_type": "display_data"
    }
   ],
   "source": [
    "p = figure(\n",
    "    plot_width=600,\n",
    "    plot_height=400,\n",
    "    title=f\"{MODEL_NAME}: Best Threshold Exploration\",\n",
    "    x_axis_label=\"Reconstruction Error Threshold (%)\",\n",
    "    y_axis_label=\"# Samples\",\n",
    ")\n",
    "\n",
    "source = ColumnDataSource(\n",
    "    data=dict(\n",
    "        threshold=errors[:, 0], false_negative=errors[:, 1], false_positive=errors[:, 2]\n",
    "    )\n",
    ")\n",
    "\n",
    "p.line(\n",
    "    x=\"threshold\",\n",
    "    y=\"false_negative\",\n",
    "    color=\"crimson\",\n",
    "    legend_label=\"False Negative\",\n",
    "    source=source,\n",
    ")\n",
    "p.circle(\n",
    "    x=\"threshold\", y=\"false_negative\", color=\"crimson\", fill_color=\"white\", source=source\n",
    ")\n",
    "p.line(\n",
    "    x=\"threshold\",\n",
    "    y=\"false_positive\",\n",
    "    color=\"indigo\",\n",
    "    legend_label=\"False Positive\",\n",
    "    source=source,\n",
    ")\n",
    "p.circle(\n",
    "    x=\"threshold\", y=\"false_positive\", color=\"indigo\", fill_color=\"white\", source=source\n",
    ")\n",
    "\n",
    "p.legend.label_text_font_size = \"8pt\"\n",
    "p.legend.location = \"top_left\"\n",
    "p.legend.click_policy = \"hide\"\n",
    "p.title.align = \"center\"\n",
    "p.title.text_font_size = \"12pt\"\n",
    "\n",
    "p.add_tools(\n",
    "    HoverTool(\n",
    "        tooltips=[\n",
    "            (\"threshold\", \"@threshold\"),\n",
    "            (\"false_negative\", \"@false_negative\"),\n",
    "            (\"false_positive\", \"@false_positive\"),\n",
    "        ]\n",
    "    )\n",
    ")\n",
    "show(p)\n",
    "\n",
    "p.output_backend = \"svg\"\n",
    "_ = export_svgs(p, filename=os.path.join(IMAGE_PATH, \"best_thr_exp.svg\"))"
   ]
  },
  {
   "cell_type": "code",
   "execution_count": 23,
   "id": "025c99d8-8cc3-4891-99fb-ce34f716c455",
   "metadata": {},
   "outputs": [
    {
     "data": {
      "text/html": [
       "\n",
       "\n",
       "\n",
       "\n",
       "\n",
       "\n",
       "  <div class=\"bk-root\" id=\"54e68fb2-5cc2-4cd7-b81f-592b4a08cd89\" data-root-id=\"2239\"></div>\n"
      ]
     },
     "metadata": {},
     "output_type": "display_data"
    },
    {
     "data": {
      "application/javascript": [
       "(function(root) {\n",
       "  function embed_document(root) {\n",
       "    \n",
       "  const docs_json = {\"20f59a9b-446e-43ba-9bc2-bb692923e4c0\":{\"defs\":[],\"roots\":{\"references\":[{\"attributes\":{\"below\":[{\"id\":\"2250\"}],\"center\":[{\"id\":\"2253\"},{\"id\":\"2257\"},{\"id\":\"2280\"},{\"id\":\"2281\"},{\"id\":\"2282\"},{\"id\":\"2283\"}],\"height\":300,\"left\":[{\"id\":\"2254\"}],\"renderers\":[{\"id\":\"2278\"}],\"title\":{\"id\":\"2240\"},\"toolbar\":{\"id\":\"2265\"},\"width\":330,\"x_range\":{\"id\":\"2242\"},\"x_scale\":{\"id\":\"2246\"},\"y_range\":{\"id\":\"2244\"},\"y_scale\":{\"id\":\"2248\"}},\"id\":\"2239\",\"subtype\":\"Figure\",\"type\":\"Plot\"},{\"attributes\":{\"source\":{\"id\":\"2273\"}},\"id\":\"2279\",\"type\":\"CDSView\"},{\"attributes\":{},\"id\":\"2244\",\"type\":\"DataRange1d\"},{\"attributes\":{},\"id\":\"2337\",\"type\":\"Selection\"},{\"attributes\":{},\"id\":\"2262\",\"type\":\"ResetTool\"},{\"attributes\":{\"fill_alpha\":{\"value\":0.2},\"fill_color\":{\"field\":\"n_samples\",\"transform\":{\"id\":\"2272\"}},\"hatch_alpha\":{\"value\":0.2},\"height\":{\"value\":1},\"line_alpha\":{\"value\":0.2},\"line_color\":{\"value\":\"white\"},\"line_width\":{\"value\":1.5},\"width\":{\"value\":1},\"x\":{\"field\":\"true_class\"},\"y\":{\"field\":\"predicted_class\"}},\"id\":\"2277\",\"type\":\"Rect\"},{\"attributes\":{\"axis_label\":\"Predicted Class\",\"axis_line_color\":null,\"coordinates\":null,\"formatter\":{\"id\":\"2332\"},\"group\":null,\"major_label_overrides\":{\"0\":\"False\",\"1\":\"True\"},\"major_label_policy\":{\"id\":\"2333\"},\"major_tick_line_color\":null,\"minor_tick_line_color\":null,\"ticker\":{\"id\":\"2286\"}},\"id\":\"2254\",\"type\":\"LinearAxis\"},{\"attributes\":{\"fill_alpha\":{\"value\":0.1},\"fill_color\":{\"field\":\"n_samples\",\"transform\":{\"id\":\"2272\"}},\"hatch_alpha\":{\"value\":0.1},\"height\":{\"value\":1},\"line_alpha\":{\"value\":0.1},\"line_color\":{\"value\":\"white\"},\"line_width\":{\"value\":1.5},\"width\":{\"value\":1},\"x\":{\"field\":\"true_class\"},\"y\":{\"field\":\"predicted_class\"}},\"id\":\"2276\",\"type\":\"Rect\"},{\"attributes\":{\"axis\":{\"id\":\"2250\"},\"coordinates\":null,\"grid_line_color\":null,\"group\":null,\"ticker\":null},\"id\":\"2253\",\"type\":\"Grid\"},{\"attributes\":{},\"id\":\"2334\",\"type\":\"BasicTickFormatter\"},{\"attributes\":{\"data\":{\"n_samples\":[668,147,120,1355],\"predicted_class\":[0,0,1,1],\"true_class\":[0,1,0,1]},\"selected\":{\"id\":\"2337\"},\"selection_policy\":{\"id\":\"2336\"}},\"id\":\"2273\",\"type\":\"ColumnDataSource\"},{\"attributes\":{\"coordinates\":null,\"data_source\":{\"id\":\"2273\"},\"glyph\":{\"id\":\"2275\"},\"group\":null,\"hover_glyph\":null,\"muted_glyph\":{\"id\":\"2277\"},\"nonselection_glyph\":{\"id\":\"2276\"},\"view\":{\"id\":\"2279\"}},\"id\":\"2278\",\"type\":\"GlyphRenderer\"},{\"attributes\":{},\"id\":\"2332\",\"type\":\"BasicTickFormatter\"},{\"attributes\":{},\"id\":\"2248\",\"type\":\"LinearScale\"},{\"attributes\":{},\"id\":\"2263\",\"type\":\"HelpTool\"},{\"attributes\":{\"coordinates\":null,\"group\":null,\"text\":\"1355\",\"text_baseline\":\"middle\",\"text_color\":\"black\",\"text_font_size\":\"10px\",\"text_font_style\":\"bold\",\"x\":1,\"x_offset\":-7.5,\"y\":1},\"id\":\"2283\",\"type\":\"Label\"},{\"attributes\":{},\"id\":\"2335\",\"type\":\"AllLabels\"},{\"attributes\":{\"axis\":{\"id\":\"2254\"},\"coordinates\":null,\"dimension\":1,\"grid_line_color\":null,\"group\":null,\"ticker\":null},\"id\":\"2257\",\"type\":\"Grid\"},{\"attributes\":{\"coordinates\":null,\"group\":null,\"text\":\"668\",\"text_baseline\":\"middle\",\"text_color\":\"white\",\"text_font_size\":\"10px\",\"text_font_style\":\"bold\",\"x\":0,\"x_offset\":-6.5,\"y\":0},\"id\":\"2280\",\"type\":\"Label\"},{\"attributes\":{},\"id\":\"2261\",\"type\":\"SaveTool\"},{\"attributes\":{\"ticks\":[0,1]},\"id\":\"2284\",\"type\":\"FixedTicker\"},{\"attributes\":{},\"id\":\"2333\",\"type\":\"AllLabels\"},{\"attributes\":{},\"id\":\"2242\",\"type\":\"DataRange1d\"},{\"attributes\":{\"axis_label\":\"True Class\",\"axis_line_color\":null,\"coordinates\":null,\"formatter\":{\"id\":\"2334\"},\"group\":null,\"major_label_overrides\":{\"0\":\"False\",\"1\":\"True\"},\"major_label_policy\":{\"id\":\"2335\"},\"major_tick_line_color\":null,\"minor_tick_line_color\":null,\"ticker\":{\"id\":\"2284\"}},\"id\":\"2250\",\"type\":\"LinearAxis\"},{\"attributes\":{},\"id\":\"2258\",\"type\":\"PanTool\"},{\"attributes\":{},\"id\":\"2336\",\"type\":\"UnionRenderers\"},{\"attributes\":{},\"id\":\"2259\",\"type\":\"WheelZoomTool\"},{\"attributes\":{\"coordinates\":null,\"group\":null,\"text\":\"147\",\"text_baseline\":\"middle\",\"text_color\":\"white\",\"text_font_size\":\"10px\",\"text_font_style\":\"bold\",\"x\":0,\"x_offset\":-6.5,\"y\":1},\"id\":\"2281\",\"type\":\"Label\"},{\"attributes\":{\"overlay\":{\"id\":\"2264\"}},\"id\":\"2260\",\"type\":\"BoxZoomTool\"},{\"attributes\":{\"ticks\":[0,1]},\"id\":\"2286\",\"type\":\"FixedTicker\"},{\"attributes\":{\"align\":\"center\",\"coordinates\":null,\"group\":null,\"text\":\"AutoEncoder: Confusion Matrix\"},\"id\":\"2240\",\"type\":\"Title\"},{\"attributes\":{\"high\":1355,\"low\":120,\"palette\":[\"#000000\",\"#010101\",\"#020202\",\"#030303\",\"#040404\",\"#050505\",\"#060606\",\"#070707\",\"#080808\",\"#090909\",\"#0a0a0a\",\"#0b0b0b\",\"#0c0c0c\",\"#0d0d0d\",\"#0e0e0e\",\"#0f0f0f\",\"#101010\",\"#111111\",\"#121212\",\"#131313\",\"#141414\",\"#151515\",\"#161616\",\"#171717\",\"#181818\",\"#191919\",\"#1a1a1a\",\"#1b1b1b\",\"#1c1c1c\",\"#1d1d1d\",\"#1e1e1e\",\"#1f1f1f\",\"#202020\",\"#212121\",\"#222222\",\"#232323\",\"#242424\",\"#252525\",\"#262626\",\"#272727\",\"#282828\",\"#292929\",\"#2a2a2a\",\"#2b2b2b\",\"#2c2c2c\",\"#2d2d2d\",\"#2e2e2e\",\"#2f2f2f\",\"#303030\",\"#313131\",\"#323232\",\"#333333\",\"#343434\",\"#353535\",\"#363636\",\"#373737\",\"#383838\",\"#393939\",\"#3a3a3a\",\"#3b3b3b\",\"#3c3c3c\",\"#3d3d3d\",\"#3e3e3e\",\"#3f3f3f\",\"#404040\",\"#414141\",\"#424242\",\"#434343\",\"#444444\",\"#454545\",\"#464646\",\"#474747\",\"#484848\",\"#494949\",\"#4a4a4a\",\"#4b4b4b\",\"#4c4c4c\",\"#4d4d4d\",\"#4e4e4e\",\"#4f4f4f\",\"#505050\",\"#515151\",\"#525252\",\"#535353\",\"#545454\",\"#555555\",\"#565656\",\"#575757\",\"#585858\",\"#595959\",\"#5a5a5a\",\"#5b5b5b\",\"#5c5c5c\",\"#5d5d5d\",\"#5e5e5e\",\"#5f5f5f\",\"#606060\",\"#616161\",\"#626262\",\"#636363\",\"#646464\",\"#656565\",\"#666666\",\"#676767\",\"#686868\",\"#696969\",\"#6a6a6a\",\"#6b6b6b\",\"#6c6c6c\",\"#6d6d6d\",\"#6e6e6e\",\"#6f6f6f\",\"#707070\",\"#717171\",\"#727272\",\"#737373\",\"#747474\",\"#757575\",\"#767676\",\"#777777\",\"#787878\",\"#797979\",\"#7a7a7a\",\"#7b7b7b\",\"#7c7c7c\",\"#7d7d7d\",\"#7e7e7e\",\"#7f7f7f\",\"#808080\",\"#818181\",\"#828282\",\"#838383\",\"#848484\",\"#858585\",\"#868686\",\"#878787\",\"#888888\",\"#898989\",\"#8a8a8a\",\"#8b8b8b\",\"#8c8c8c\",\"#8d8d8d\",\"#8e8e8e\",\"#8f8f8f\",\"#909090\",\"#919191\",\"#929292\",\"#939393\",\"#949494\",\"#959595\",\"#969696\",\"#979797\",\"#989898\",\"#999999\",\"#9a9a9a\",\"#9b9b9b\",\"#9c9c9c\",\"#9d9d9d\",\"#9e9e9e\",\"#9f9f9f\",\"#a0a0a0\",\"#a1a1a1\",\"#a2a2a2\",\"#a3a3a3\",\"#a4a4a4\",\"#a5a5a5\",\"#a6a6a6\",\"#a7a7a7\",\"#a8a8a8\",\"#a9a9a9\",\"#aaaaaa\",\"#ababab\",\"#acacac\",\"#adadad\",\"#aeaeae\",\"#afafaf\",\"#b0b0b0\",\"#b1b1b1\",\"#b2b2b2\",\"#b3b3b3\",\"#b4b4b4\",\"#b5b5b5\",\"#b6b6b6\",\"#b7b7b7\",\"#b8b8b8\",\"#b9b9b9\",\"#bababa\",\"#bbbbbb\",\"#bcbcbc\",\"#bdbdbd\",\"#bebebe\",\"#bfbfbf\",\"#c0c0c0\",\"#c1c1c1\",\"#c2c2c2\",\"#c3c3c3\",\"#c4c4c4\",\"#c5c5c5\",\"#c6c6c6\",\"#c7c7c7\",\"#c8c8c8\",\"#c9c9c9\",\"#cacaca\",\"#cbcbcb\",\"#cccccc\",\"#cdcdcd\",\"#cecece\",\"#cfcfcf\",\"#d0d0d0\",\"#d1d1d1\",\"#d2d2d2\",\"#d3d3d3\",\"#d4d4d4\",\"#d5d5d5\",\"#d6d6d6\",\"#d7d7d7\",\"#d8d8d8\",\"#d9d9d9\",\"#dadada\",\"#dbdbdb\",\"#dcdcdc\",\"#dddddd\",\"#dedede\",\"#dfdfdf\",\"#e0e0e0\",\"#e1e1e1\",\"#e2e2e2\",\"#e3e3e3\",\"#e4e4e4\",\"#e5e5e5\",\"#e6e6e6\",\"#e7e7e7\",\"#e8e8e8\",\"#e9e9e9\",\"#eaeaea\",\"#ebebeb\",\"#ececec\",\"#ededed\",\"#eeeeee\",\"#efefef\",\"#f0f0f0\",\"#f1f1f1\",\"#f2f2f2\",\"#f3f3f3\",\"#f4f4f4\",\"#f5f5f5\",\"#f6f6f6\",\"#f7f7f7\",\"#f8f8f8\",\"#f9f9f9\",\"#fafafa\",\"#fbfbfb\",\"#fcfcfc\",\"#fdfdfd\",\"#fefefe\",\"#ffffff\"]},\"id\":\"2272\",\"type\":\"LinearColorMapper\"},{\"attributes\":{\"bottom_units\":\"screen\",\"coordinates\":null,\"fill_alpha\":0.5,\"fill_color\":\"lightgrey\",\"group\":null,\"left_units\":\"screen\",\"level\":\"overlay\",\"line_alpha\":1.0,\"line_color\":\"black\",\"line_dash\":[4,4],\"line_width\":2,\"right_units\":\"screen\",\"syncable\":false,\"top_units\":\"screen\"},\"id\":\"2264\",\"type\":\"BoxAnnotation\"},{\"attributes\":{\"tools\":[{\"id\":\"2258\"},{\"id\":\"2259\"},{\"id\":\"2260\"},{\"id\":\"2261\"},{\"id\":\"2262\"},{\"id\":\"2263\"}]},\"id\":\"2265\",\"type\":\"Toolbar\"},{\"attributes\":{},\"id\":\"2246\",\"type\":\"LinearScale\"},{\"attributes\":{\"coordinates\":null,\"group\":null,\"text\":\"120\",\"text_baseline\":\"middle\",\"text_color\":\"white\",\"text_font_size\":\"10px\",\"text_font_style\":\"bold\",\"x\":1,\"x_offset\":-6.5,\"y\":0},\"id\":\"2282\",\"type\":\"Label\"},{\"attributes\":{\"fill_alpha\":{\"value\":0.6},\"fill_color\":{\"field\":\"n_samples\",\"transform\":{\"id\":\"2272\"}},\"hatch_alpha\":{\"value\":0.6},\"height\":{\"value\":1},\"line_alpha\":{\"value\":0.6},\"line_color\":{\"value\":\"white\"},\"line_width\":{\"value\":1.5},\"width\":{\"value\":1},\"x\":{\"field\":\"true_class\"},\"y\":{\"field\":\"predicted_class\"}},\"id\":\"2275\",\"type\":\"Rect\"}],\"root_ids\":[\"2239\"]},\"title\":\"Bokeh Application\",\"version\":\"2.4.2\"}};\n",
       "  const render_items = [{\"docid\":\"20f59a9b-446e-43ba-9bc2-bb692923e4c0\",\"root_ids\":[\"2239\"],\"roots\":{\"2239\":\"54e68fb2-5cc2-4cd7-b81f-592b4a08cd89\"}}];\n",
       "  root.Bokeh.embed.embed_items_notebook(docs_json, render_items);\n",
       "\n",
       "  }\n",
       "  if (root.Bokeh !== undefined) {\n",
       "    embed_document(root);\n",
       "  } else {\n",
       "    let attempts = 0;\n",
       "    const timer = setInterval(function(root) {\n",
       "      if (root.Bokeh !== undefined) {\n",
       "        clearInterval(timer);\n",
       "        embed_document(root);\n",
       "      } else {\n",
       "        attempts++;\n",
       "        if (attempts > 100) {\n",
       "          clearInterval(timer);\n",
       "          console.log(\"Bokeh: ERROR: Unable to run BokehJS code because BokehJS library is missing\");\n",
       "        }\n",
       "      }\n",
       "    }, 10, root)\n",
       "  }\n",
       "})(window);"
      ],
      "application/vnd.bokehjs_exec.v0+json": ""
     },
     "metadata": {
      "application/vnd.bokehjs_exec.v0+json": {
       "id": "2239"
      }
     },
     "output_type": "display_data"
    },
    {
     "name": "stdout",
     "output_type": "stream",
     "text": [
      "Accuracy: 88.34%, Precision: 90.21%, Recall: 91.86%, F1: 91.03%\n"
     ]
    }
   ],
   "source": [
    "THRESHOLD = 3.6\n",
    "predictions = get_prediction(stack[:, 1], threshold=THRESHOLD)\n",
    "\n",
    "plot_confusion_matrix(\n",
    "    confusion_matrix(test_labels, predictions),\n",
    "    model_name=MODEL_NAME,\n",
    "    file_name=os.path.join(IMAGE_PATH, \"conf_mat.svg\"),\n",
    ")\n",
    "\n",
    "print(\n",
    "    f\"Accuracy: {accuracy_score(test_labels, predictions):.2%}, \\\n",
    "Precision: {precision_score(test_labels, predictions):.2%}, \\\n",
    "Recall: {recall_score(test_labels, predictions):.2%}, \\\n",
    "F1: {f1_score(test_labels, predictions):.2%}\"\n",
    ")"
   ]
  },
  {
   "cell_type": "code",
   "execution_count": 24,
   "id": "d63c4858",
   "metadata": {},
   "outputs": [
    {
     "name": "stdout",
     "output_type": "stream",
     "text": [
      "Accuracy: 88.34%, Precision: 90.21%, Recall: 91.86%, F1: 91.03%\n"
     ]
    }
   ],
   "source": [
    "print(\n",
    "    f\"Accuracy: {accuracy_score(test_labels, predictions):.2%}, \\\n",
    "Precision: {precision_score(test_labels, predictions):.2%}, \\\n",
    "Recall: {recall_score(test_labels, predictions):.2%}, \\\n",
    "F1: {f1_score(test_labels, predictions):.2%}\"\n",
    ")"
   ]
  },
  {
   "cell_type": "code",
   "execution_count": 25,
   "id": "ce9c6acd-f64d-43ef-94ac-406e9d38ab36",
   "metadata": {},
   "outputs": [
    {
     "data": {
      "text/html": [
       "\n",
       "\n",
       "\n",
       "\n",
       "\n",
       "\n",
       "  <div class=\"bk-root\" id=\"54e1853d-0dd6-409a-b373-ff20f35e6e82\" data-root-id=\"2492\"></div>\n"
      ]
     },
     "metadata": {},
     "output_type": "display_data"
    },
    {
     "data": {
      "application/javascript": [
       "(function(root) {\n",
       "  function embed_document(root) {\n",
       "    \n",
       "  const docs_json = {\"1535b1b0-b4c4-4204-952c-c10afbcad7f3\":{\"defs\":[],\"roots\":{\"references\":[{\"attributes\":{\"below\":[{\"id\":\"2503\"}],\"center\":[{\"id\":\"2506\"},{\"id\":\"2510\"},{\"id\":\"2542\"}],\"height\":400,\"left\":[{\"id\":\"2507\"}],\"renderers\":[{\"id\":\"2530\"},{\"id\":\"2548\"}],\"title\":{\"id\":\"2493\"},\"toolbar\":{\"id\":\"2518\"},\"x_range\":{\"id\":\"2495\"},\"x_scale\":{\"id\":\"2499\"},\"y_range\":{\"id\":\"2497\"},\"y_scale\":{\"id\":\"2501\"}},\"id\":\"2492\",\"subtype\":\"Figure\",\"type\":\"Plot\"},{\"attributes\":{\"align\":\"center\",\"coordinates\":null,\"group\":null,\"text\":\"AutoEncoder: ROC Curve\",\"text_font_size\":\"12pt\"},\"id\":\"2493\",\"type\":\"Title\"},{\"attributes\":{},\"id\":\"2539\",\"type\":\"UnionRenderers\"},{\"attributes\":{\"overlay\":{\"id\":\"2517\"}},\"id\":\"2513\",\"type\":\"BoxZoomTool\"},{\"attributes\":{\"tools\":[{\"id\":\"2511\"},{\"id\":\"2512\"},{\"id\":\"2513\"},{\"id\":\"2514\"},{\"id\":\"2515\"},{\"id\":\"2516\"}]},\"id\":\"2518\",\"type\":\"Toolbar\"},{\"attributes\":{\"axis\":{\"id\":\"2507\"},\"coordinates\":null,\"dimension\":1,\"group\":null,\"ticker\":null},\"id\":\"2510\",\"type\":\"Grid\"},{\"attributes\":{\"source\":{\"id\":\"2525\"}},\"id\":\"2549\",\"type\":\"CDSView\"},{\"attributes\":{},\"id\":\"2499\",\"type\":\"LinearScale\"},{\"attributes\":{},\"id\":\"2501\",\"type\":\"LinearScale\"},{\"attributes\":{\"format\":\"0%\"},\"id\":\"2550\",\"type\":\"NumeralTickFormatter\"},{\"attributes\":{},\"id\":\"2540\",\"type\":\"Selection\"},{\"attributes\":{},\"id\":\"2516\",\"type\":\"HelpTool\"},{\"attributes\":{},\"id\":\"2512\",\"type\":\"WheelZoomTool\"},{\"attributes\":{\"format\":\"0%\"},\"id\":\"2552\",\"type\":\"NumeralTickFormatter\"},{\"attributes\":{\"bottom_units\":\"screen\",\"coordinates\":null,\"fill_alpha\":0.5,\"fill_color\":\"lightgrey\",\"group\":null,\"left_units\":\"screen\",\"level\":\"overlay\",\"line_alpha\":1.0,\"line_color\":\"black\",\"line_dash\":[4,4],\"line_width\":2,\"right_units\":\"screen\",\"syncable\":false,\"top_units\":\"screen\"},\"id\":\"2517\",\"type\":\"BoxAnnotation\"},{\"attributes\":{\"axis_label\":\"True Positive Rate\",\"coordinates\":null,\"formatter\":{\"id\":\"2552\"},\"group\":null,\"major_label_policy\":{\"id\":\"2535\"},\"ticker\":{\"id\":\"2508\"}},\"id\":\"2507\",\"type\":\"LinearAxis\"},{\"attributes\":{},\"id\":\"2515\",\"type\":\"ResetTool\"},{\"attributes\":{},\"id\":\"2508\",\"type\":\"BasicTicker\"},{\"attributes\":{\"axis\":{\"id\":\"2503\"},\"coordinates\":null,\"grid_line_color\":null,\"group\":null,\"ticker\":null},\"id\":\"2506\",\"type\":\"Grid\"},{\"attributes\":{\"line_alpha\":0.2,\"line_color\":\"coral\",\"line_width\":1.5,\"x\":{\"field\":\"fpr\"},\"y\":{\"field\":\"tpr\"}},\"id\":\"2529\",\"type\":\"Line\"},{\"attributes\":{},\"id\":\"2504\",\"type\":\"BasicTicker\"},{\"attributes\":{\"label\":{\"value\":\"AUROC: 93.64%\"},\"renderers\":[{\"id\":\"2530\"}]},\"id\":\"2543\",\"type\":\"LegendItem\"},{\"attributes\":{\"line_color\":\"coral\",\"line_width\":1.5,\"x\":{\"field\":\"fpr\"},\"y\":{\"field\":\"tpr\"}},\"id\":\"2527\",\"type\":\"Line\"},{\"attributes\":{\"line_dash\":[6],\"x\":{\"field\":\"fpr\"},\"y\":{\"field\":\"fpr\"}},\"id\":\"2545\",\"type\":\"Line\"},{\"attributes\":{},\"id\":\"2497\",\"type\":\"DataRange1d\"},{\"attributes\":{},\"id\":\"2495\",\"type\":\"DataRange1d\"},{\"attributes\":{\"line_alpha\":0.2,\"line_dash\":[6],\"x\":{\"field\":\"fpr\"},\"y\":{\"field\":\"fpr\"}},\"id\":\"2547\",\"type\":\"Line\"},{\"attributes\":{\"data\":{\"fpr\":{\"__ndarray__\":\"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\",\"dtype\":\"float64\",\"order\":\"little\",\"shape\":[412]},\"thr\":{\"__ndarray__\":\"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\",\"dtype\":\"float32\",\"order\":\"little\",\"shape\":[412]},\"tpr\":{\"__ndarray__\":\"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\",\"dtype\":\"float64\",\"order\":\"little\",\"shape\":[412]}},\"selected\":{\"id\":\"2540\"},\"selection_policy\":{\"id\":\"2539\"}},\"id\":\"2525\",\"type\":\"ColumnDataSource\"},{\"attributes\":{\"coordinates\":null,\"data_source\":{\"id\":\"2525\"},\"glyph\":{\"id\":\"2527\"},\"group\":null,\"hover_glyph\":null,\"muted_glyph\":{\"id\":\"2529\"},\"nonselection_glyph\":{\"id\":\"2528\"},\"view\":{\"id\":\"2531\"}},\"id\":\"2530\",\"type\":\"GlyphRenderer\"},{\"attributes\":{\"coordinates\":null,\"data_source\":{\"id\":\"2525\"},\"glyph\":{\"id\":\"2545\"},\"group\":null,\"hover_glyph\":null,\"muted_glyph\":{\"id\":\"2547\"},\"nonselection_glyph\":{\"id\":\"2546\"},\"view\":{\"id\":\"2549\"}},\"id\":\"2548\",\"type\":\"GlyphRenderer\"},{\"attributes\":{},\"id\":\"2538\",\"type\":\"AllLabels\"},{\"attributes\":{},\"id\":\"2514\",\"type\":\"SaveTool\"},{\"attributes\":{\"coordinates\":null,\"group\":null,\"items\":[{\"id\":\"2543\"}],\"label_text_font_size\":\"8pt\",\"location\":\"bottom_right\"},\"id\":\"2542\",\"type\":\"Legend\"},{\"attributes\":{},\"id\":\"2535\",\"type\":\"AllLabels\"},{\"attributes\":{\"line_alpha\":0.1,\"line_color\":\"coral\",\"line_width\":1.5,\"x\":{\"field\":\"fpr\"},\"y\":{\"field\":\"tpr\"}},\"id\":\"2528\",\"type\":\"Line\"},{\"attributes\":{},\"id\":\"2511\",\"type\":\"PanTool\"},{\"attributes\":{\"axis_label\":\"False Positive Rate\",\"coordinates\":null,\"formatter\":{\"id\":\"2550\"},\"group\":null,\"major_label_policy\":{\"id\":\"2538\"},\"ticker\":{\"id\":\"2504\"}},\"id\":\"2503\",\"type\":\"LinearAxis\"},{\"attributes\":{\"source\":{\"id\":\"2525\"}},\"id\":\"2531\",\"type\":\"CDSView\"},{\"attributes\":{\"line_alpha\":0.1,\"line_dash\":[6],\"x\":{\"field\":\"fpr\"},\"y\":{\"field\":\"fpr\"}},\"id\":\"2546\",\"type\":\"Line\"}],\"root_ids\":[\"2492\"]},\"title\":\"Bokeh Application\",\"version\":\"2.4.2\"}};\n",
       "  const render_items = [{\"docid\":\"1535b1b0-b4c4-4204-952c-c10afbcad7f3\",\"root_ids\":[\"2492\"],\"roots\":{\"2492\":\"54e1853d-0dd6-409a-b373-ff20f35e6e82\"}}];\n",
       "  root.Bokeh.embed.embed_items_notebook(docs_json, render_items);\n",
       "\n",
       "  }\n",
       "  if (root.Bokeh !== undefined) {\n",
       "    embed_document(root);\n",
       "  } else {\n",
       "    let attempts = 0;\n",
       "    const timer = setInterval(function(root) {\n",
       "      if (root.Bokeh !== undefined) {\n",
       "        clearInterval(timer);\n",
       "        embed_document(root);\n",
       "      } else {\n",
       "        attempts++;\n",
       "        if (attempts > 100) {\n",
       "          clearInterval(timer);\n",
       "          console.log(\"Bokeh: ERROR: Unable to run BokehJS code because BokehJS library is missing\");\n",
       "        }\n",
       "      }\n",
       "    }, 10, root)\n",
       "  }\n",
       "})(window);"
      ],
      "application/vnd.bokehjs_exec.v0+json": ""
     },
     "metadata": {
      "application/vnd.bokehjs_exec.v0+json": {
       "id": "2492"
      }
     },
     "output_type": "display_data"
    }
   ],
   "source": [
    "plot_roc_curve(\n",
    "    roc_curve(test_labels, recon_errors),\n",
    "    roc_auc_score(test_labels, recon_errors),\n",
    "    model_name=MODEL_NAME,\n",
    "    file_name=os.path.join(IMAGE_PATH, \"roc_curve.svg\"),\n",
    ")"
   ]
  },
  {
   "cell_type": "code",
   "execution_count": 26,
   "id": "67dfe6d4-35cc-473a-968a-71dbe38551f2",
   "metadata": {},
   "outputs": [
    {
     "data": {
      "text/html": [
       "\n",
       "\n",
       "\n",
       "\n",
       "\n",
       "\n",
       "  <div class=\"bk-root\" id=\"ea7b38c1-2fba-4d24-8a0b-ce0636074dc5\" data-root-id=\"2766\"></div>\n"
      ]
     },
     "metadata": {},
     "output_type": "display_data"
    },
    {
     "data": {
      "application/javascript": [
       "(function(root) {\n",
       "  function embed_document(root) {\n",
       "    \n",
       "  const docs_json = {\"893efab4-a51a-4e03-af4f-ee382b50322e\":{\"defs\":[],\"roots\":{\"references\":[{\"attributes\":{\"below\":[{\"id\":\"2777\"}],\"center\":[{\"id\":\"2780\"},{\"id\":\"2784\"},{\"id\":\"2816\"},{\"id\":\"2818\"}],\"height\":400,\"left\":[{\"id\":\"2781\"}],\"renderers\":[{\"id\":\"2804\"}],\"title\":{\"id\":\"2767\"},\"toolbar\":{\"id\":\"2792\"},\"x_range\":{\"id\":\"2769\"},\"x_scale\":{\"id\":\"2773\"},\"y_range\":{\"id\":\"2771\"},\"y_scale\":{\"id\":\"2775\"}},\"id\":\"2766\",\"subtype\":\"Figure\",\"type\":\"Plot\"},{\"attributes\":{\"overlay\":{\"id\":\"2791\"}},\"id\":\"2787\",\"type\":\"BoxZoomTool\"},{\"attributes\":{\"format\":\"0%\"},\"id\":\"2820\",\"type\":\"NumeralTickFormatter\"},{\"attributes\":{\"axis_label\":\"Precision\",\"coordinates\":null,\"formatter\":{\"id\":\"2822\"},\"group\":null,\"major_label_policy\":{\"id\":\"2809\"},\"ticker\":{\"id\":\"2782\"}},\"id\":\"2781\",\"type\":\"LinearAxis\"},{\"attributes\":{},\"id\":\"2782\",\"type\":\"BasicTicker\"},{\"attributes\":{\"line_alpha\":0.2,\"line_color\":\"coral\",\"x\":{\"field\":\"recall\"},\"y\":{\"field\":\"precision\"}},\"id\":\"2803\",\"type\":\"Line\"},{\"attributes\":{},\"id\":\"2773\",\"type\":\"LinearScale\"},{\"attributes\":{\"line_color\":\"coral\",\"x\":{\"field\":\"recall\"},\"y\":{\"field\":\"precision\"}},\"id\":\"2801\",\"type\":\"Line\"},{\"attributes\":{},\"id\":\"2788\",\"type\":\"SaveTool\"},{\"attributes\":{\"axis_label\":\"Recall\",\"coordinates\":null,\"formatter\":{\"id\":\"2820\"},\"group\":null,\"major_label_policy\":{\"id\":\"2812\"},\"ticker\":{\"id\":\"2778\"}},\"id\":\"2777\",\"type\":\"LinearAxis\"},{\"attributes\":{\"axis\":{\"id\":\"2781\"},\"coordinates\":null,\"dimension\":1,\"group\":null,\"ticker\":null},\"id\":\"2784\",\"type\":\"Grid\"},{\"attributes\":{},\"id\":\"2814\",\"type\":\"Selection\"},{\"attributes\":{},\"id\":\"2813\",\"type\":\"UnionRenderers\"},{\"attributes\":{\"data\":{\"lower_band\":{\"__ndarray__\":\"AAAAAAAAAAAAAAAAAAAAAAAAAAAAAAAAAAAAAAAAAAAAAAAAAAAAAAAAAAAAAAAAAAAAAAAAAAAAAAAAAAAAAAAAAAAAAAAAAAAAAAAAAAAAAAAAAAAAAAAAAAAAAAAAAAAAAAAAAAAAAAAAAAAAAAAAAAAAAAAAAAAAAAAAAAAAAAAAAAAAAAAAAAAAAAAAAAAAAAAAAAAAAAAAAAAAAAAAAAAAAAAAAAAAAAAAAAAAAAAAAAAAAAAAAAAAAAAAAAAAAAAAAAAAAAAAAAAAAAAAAAAAAAAAAAAAAAAAAAAAAAAAAAAAAAAAAAAAAAAAAAAAAAAAAAAAAAAAAAAAAAAAAAAAAAAAAAAAAAAAAAAAAAAAAAAAAAAAAAAAAAAAAAAAAAAAAAAAAAAAAAAAAAAAAAAAAAAAAAAAAAAAAAAAAAAAAAAAAAAAAAAAAAAAAAAAAAAAAAAAAAAAAAAAAAAAAAAAAAAAAAAAAAAAAAAAAAAAAAAAAAAAAAAAAAAAAAAAAAAAAAAAAAAAAAAAAAAAAAAAAAAAAAAAAAAAAAAAAAAAAAAAAAAAAAAAAAAAAAAAAAAAAAAAAAAAAAAAAAAAAAAAAAAAAAAAAAAAAAAAAAAAAAAAAAAAAAAAAAAAAAAAAAAAAAAAAAAAAAAAAAAAAAAAAAAAAAAAAAAAAAAAAAAAAAAAAAAAAAAAAAAAAAAAAAAAAAAAAAAAAAAAAAAAAAAAAAAAAAAAAAAAAAAAAAAAAAAAAAAAAAAAAAAAAAAAAAAAAAAAAAAAAAAAAAAAAAAAAAAAAAAAAAAAAAAAAAAAAAAAAAAAAAAAAAAAAAAAAAAAAAAAAAAAAAAAAAAAAAAAAAAAAAAAAAAAAAAAAAAAAAAAAAAAAAAAAAAAAAAAAAAAAAAAAAAAAAAAAAAAAAAAAAAAAAAAAAAAAAAAAAAAAAAAAAAAAAAAAAAAAAAAAAAAAAAAAAAAAAAAAAAAAAAAAAAAAAAAAAAAAAAAAAAAAAAAAAAAAAAAAAAAAAAAAAAAAAAAAAAAAAAAAAAAAAAAAAAAAAAAAAAAAAAAAAAAAAAAAAAAAAAAAAAAAAAAAAAAAAAAAAAAAAAAAAAAAAAAAAAAAAAAAAAAAAAAAAAAAAAAAAAAAAAAAAAAAAAAAAAAAAAAAAAAAAAAAAAAAAAAAAAAAAAAAAAAAAAAAAAAAAAAAAAAAAAAAAAAAAAAAAAAAAAAAAAAAAAAAAAAAAAAAAAAAAAAAAAAAAAAAAAAAAAAAAAAAAAAAAAAAAAAAAAAAAAAAAAAAAAAAAAAAAAAAAAAAAAAAAAAAAAAAAAAAAAAAAAAAAAAAAAAAAAAAAAAAAAAAAAAAAAAAAAAAAAAAAAAAAAAAAAAAAAAAAAAAAAAAAAAAAAAAAAAAAAAAAAAAAAAAAAAAAAAAAAAAAAAAAAAAAAAAAAAAAAAAAAAAAAAAAAAAAAAAAAAAAAAAAAAAAAAAAAAAAAAAAAAAAAAAAAAAAAAAAAAAAAAAAAAAAAAAAAAAAAAAAAAAAAAAAAAAAAAAAAAAAAAAAAAAAAAAAAAAAAAAAAAAAAAAAAAAAAAAAAAAAAAAAAAAAAAAAAAAAAAAAAAAAAAAAAAAAAAAAAAAAAAAAAAAAAAAAAAAAAAAAAAAAAAAAAAAAAAAAAAAAAAAAAAAAAAAAAAAAAAAAAAAAAAAAAAAAAAAAAAAAAAAAAAAAAAAAAAAAAAAAAAAAAAAAAAAAAAAAAAAAAAAAAAAAAAAAAAAAAAAAAAAAAAAAAAAAAAAAAAAAAAAAAAAAAAAAAAAAAAAAAAAAAAAAAAAAAAAAAAAAAAAAAAAAAAAAAAAAAAAAAAAAAAAAAAAAAAAAAAAAAAAAAAAAAAAAAAAAAAAAAAAAAAAAAAAAAAAAAAAAAAAAAAAAAAAAAAAAAAAAAAAAAAAAAAAAAAAAAAAAAAAAAAAAAAAAAAAAAAAAAAAAAAAAAAAAAAAAAAAAAAAAAAAAAAAAAAAAAAAAAAAAAAAAAAAAAAAAAAAAAAAAAAAAAAAAAAAAAAAAAAAAAAAAAAAAAAAAAAAAAAAAAAAAAAAAAAAAAAAAAAAAAAAAAAAAAAAAAAAAAAAAAAAAAAAAAAAAAAAAAAAAAAAAAAAAAAAAAAAAAAAAAAAAAAAAAAAAAAAAAAAAAAAAAAAAAAAAAAAAAAAAAAAAAAAAAAAAAAAAAAAAAAAAAAAAAAAAAAAAAAAAAAAAAAAAAAAAAAAAAAAAAAAAAAAAAAAAAAAAAAAAAAAAAAAAAAAAAAAAAAAAAAAAAAAAAAAAAAAAAAAAAAAAAAAAAAAAAAAAAAAAAAAAAAAAAAAAAAAAAAAAAAAAAAAAAAAAAAAAAAAAAAAAAAAAAAAAAAAAAAAAAAAAAAAAAAAAAAAAAAAAAAAAAAAAAAAAAAAAAAAAAAAAAAAAAAAAAAAAAAAAAAAAAAAAAAAAAAAAAAAAAAAAAAAAAAAAAAAAAAAAAAAAAAAAAAAAAAAAAAAAAAAAAAAAAAAAAAAAAAAAAAAAAAAAAAAAAAAAAAAAAAAAAAAAAAAAAAAAAAAAAAAAAAAAAAAAAAAAAAAAAAAAAAAAAAAAAAAAAAAAAAAAAAAAAAAAAAAAAAAAAAAAAAAAAAAAAAAAAAAAAAAAAAAAAAAAAAAAAAAAAAAAAAAAAAAAAAAAAAAAAAAAAAAAAAAAAAAAAAAAAAAAAAAAAAAAAAAAAAAAAAAAAAAAAAAAAAAAAAAAAAAAAAAAAAAAAAAAAAAAAAAAAAAAAAAAAAAAAAAAAAAAAAAAAAAAAAAAAAAAAAAAAAAAAAAAAAAAAAAAAAAAAAAAAAAAAAAAAAAAAAAAAAAAAAAAAAAAAAAAAAAAAAAAAAAAAAAAAAAAAAAAAAAAAAAAAAAAAAAAAAAAAAAAAAAAAAAAAAAAAAAAAAAAAAAAAAAAAAAAAAAAAAAAAAAAAAAAAAAAAAAAAAAAAAAAAAAAAAAAAAAAAAAAAAAAAAAAAAAAAAAAAAAAAAAAAAAAAAAAAAAAAAAAAAAAAAAAAAAAAAAAAAAAAAAAAAAAAAAAAAAAAAAAAAAAAAAAAAAAAAAAAAAAAAAAAAAAAAAAAAAAAAAAAAAAAAAAAAAAAAAAAAAAAAAAAAAAAAAAAAAAAAAAAAAAAAAAAAAAAAAAAAAAAAAAAAAAAAAAAAAAAAAAAAAAAAAAAAAAAAAAAAAAAAAAAAAAAAAAAAAAAAAAAAAAAAAAAAAAAAAAAAAAAAAAAAAAAAAAAAAAAAAAAAAAAAAAAAAAAAAAAAAAAAAAAAAAAAAAAAAAAAAAAAAAAAAAAAAAAAAAAAAAAAAAAAAAAAAAAAAAAAAAAAAAAAAAAAAAAAAAAAAAAAAAAAAAAAAAAAAAAAAAAAAAAAAAAAAAAAAAAAAAAAAAAAAAAAAAAAAAAAAAAAAAAAAAAAAAAAAAAAAAAAAAAAAAAAAAAAAAAAAAAAAAAAAAAAAAAAAAAAAAAAAAAAAAAAAAAAAAAAAAAAAAAAAAAAAAAAAAAAAAAAAAAAAAAAAAAAAAAAAAAAAAAAAAAAAAAAAAAAAAAAAAAAAAAAAAAAAAAAAAAAAAAAAAAAAAAAAAAAAAAAAAAAAAAAAAAAAAAAAAAAAAAAAAAAAAAAAAAAAAAAAAAAAAAAAAAAAAAAAAAAAAAAAAAAAAAAAAAAAAAAAAAAAAAAAAAAAAAAAAAAAAAAAAAAAAAAAAAAAAAAAAAAAAAAAAAAAAAAAAAAAAAAAAAAAAAAAAAAAAAAAAAAAAAAAAAAAAAAAAAAAAAAAAAAAAAAAAAAAAAAAAAAAAAAAAAAAAAAAAAAAAAAAAAAAAAAAAAAAAAAAAAAAAAAAAAAAAAAAAAAAAAAAAAAAAAAAAAAAAAAAAAAAAAAAAAAAAAAAAAAAAAAAAAAAAAAAAAAAAAAAAAAAAAAAAAAAAAAAAAAAAAAAAAAAAAAAAAAAAAAAAAAAAAAAAAAAAAAAAAAAAAAAAAAAAAAAAAAAAAAAAAAAAAAAAAAAAAAAAAAAAAAAAAAAAAAAAAAAAAAAAAAAAAAAAAAAAAAAAAAAAAAAAAAAAAAAAAAAAAAAAAAAAAAAAAAAAAAAAAAAAAAAAAAAAAAAAAAAAAAAAAAAAAAAAAAAAAAAAAAAAAAAAAAAAAAAAAAAAAAAAAAAAAAAAAAAAAAAAAAAAAAAAAAAAAAAAAAAAAAAAAAAAAAAAAAAAAAAAAAAAAAAAAAAAAAAAAAAAAAAAAAAAAAAAAAAAAAAAAAAAAAAAAAAAAAAAAAAAAAAAAAAAAAAAAAAAAAAAAAAAAAAAAAAAAAAAAAAAAAAAAAAAAAAAAAAAAAAAAAAAAAAAAAAAAAAAAAAAAAAAAAAAAAAAAAAAAAAAAAAAAAAAAAAAAAAAAAAAAAAAAAAAAAAAAAAAAAAAAAAAAAAAAAAAAAAAAAAAAAAAAAAAAAAAAAAAAAAAAAAAAAAAAAAAAAAAAAAAAAAAAAAAAAAAAAAAAAAAAAAAAAAAAAAAAAAAAAAAAAAAAAAAAAAAAAAAAAAAAAAAAAAAAAAAAAAAAAAAAAAAAAAAAAAAAAAAAAAAAAAAAAAAAAAAAAAAAAAAAAAAAAAAAAAAAAAAAAAAAAAAAAAAAAAAAAAAAAAAAAAAAAAAAAAAAAAAAAAAAAAAAAAAAAAAAAAAAAAAAAAAAAAAAAAAAAAAAAAAAAAAAAAAAAAAAAAAAAAAAAAAAAAAAAAAAAAAAAAAAAAAAAAAAAAAAAAAAAAAAAAAAAAAAAAAAAAAAAAAAAAAAAAAAAAAAAAAAAAAAAAAAAAAAAAAAAAAAAAAAAAAAAAAAAAAAAAAAAAAAAAAAAAAAAAAAAAAAAAAAAAAAAAAAAAAAAAAAAAAAAAAAAAAAAAAAAAAAAAAAAAAAAAAAAAAAAAAAAAAAAAAAAAAAAAAAAAAAAAAAAAAAAAAAAAAAAAAAAAAAAAAAAAAAAAAAAAAAAAAAAAAAAAAAAAAAAAAAAAAAAAAAAAAAAAAAAAAAAAAAAAAAAAAAAAAAAAAAAAAAAAAAAAAAAAAAAAAAAAAAAAAAAAAAAAAAAAAAAAAAAAAAAAAAAAAAAAAAAAAAAAAAAAAAAAAAAAAAAAAAAAAAAAAAAAAAAAAAAAAAAAAAAAAAAAAAAAAAAAAAAAAAAAAAAAAAAAAAAAAAAAAAAAAAAAAAAAAAAAAAAAAAAAAAAAAAAAAAAAAAAAAAAAAAAAAAAAAAAAAAAAAAAAAAAAAAAAAAAAAAAAAAAAAAAAAAAAAAAAAAAAAAAAAAAAAAAAAAAAAAAAAAAAAAAAAAAAAAAAAAAAAAAAAAAAAAAAAAAAAAAAAAAAAAAAAAAAAAAAAAAAAAAAAAAAAAAAAAAAAAAAAAAAAAAAAAAAAAAAAAAAAAAAAAAAAAAAAAAAAAAAAAAAAAAAAAAAAAAAAAAAAAAAAAAAAAAAAAAAAAAAAAAAAAAAAAAAAAAAAAAAAAAAAAAAAAAAAAAAAAAAAAAAAAAAAAAAAAAAAAAAAAAAAAAAAAAAAAAAAAAAAAAAAAAAAAAAAAAAAAAAAAAAAAAAAAAAAAAAAAAAAAAAAAAAAAAAAAAAAAAAAAAAAAAAAAAAAAAAAAAAAAAAAAAAAAAAAAAAAAAAAAAAAAAAAAAAAAAAAAAAAAAAAAAAAAAAAAAAAAAAAAAAAAAAAAAAAAAAAAAAAAAAAAAAAAAAAAAAAAAAAAAAAAAAAAAAAAAAAAAAAAAAAAAAAAAAAAAAAAAAAAAAAAAAAAAAAAAAAAAAAAAAAAAAAAAAAAAAAAAAAAAAAAAAAAAAAAAAAAAAAAAAAAAAAAAAAAAAAAAAAAAAAAAAAAAAAAAAAAAAAAAAAAAAAAAAAAAAAAAAAAAAAAAAAAAAAAAAAAAAAAAAAAAAAAAAAAAAAAAAAAAAAAAAAAAAAAAAAAAAAAAAAAAAAAAAAAAAAAAAAAAAAAAAAAAAAAAAAAAAAAAAAAAAAAAAAAAAAAAAAAAAAAAAAAAAAAAAAAAAAAAAAAAAAAAAAAAAAAAAAAAAAAAAAAAAAAAAAAAAAAAAAAAAAAAAAAAAAAAAAAAAAAAAAAAAAAAAAAAAAAAAAAAAAAAAAAAAAAAAAAAAAAAAAAAAAAAAAAAAAAAAAAAAAAAAAAAAAAAAAAAAAAAAAAAAAAAAAAAAAAAAAAAAAAAAAAAAAAAAAAAAAAAAAAAAAAAAAAAAAAAAAAAAAAAAAAAAAAAAAAAAAAAAAAAAAAAAAAAAAAAAAAAAAAAAAAAAAAAAAAAAAAAAAAAAAAAAAAAAAAAAAAAAAAAAAAAAAAAAAAAAAAAAAAAAAAAAAAAAAAAAAAAAAAAAAAAAAAAAAAAAAAAAAAAAAAAAAAAAAAAAAAAAAAAAAAAAAAAAAAAAAAAAAAAAAAAAAAAAAAAAAAAAAAAAAAAAAAAAAAAAAAAAAAAAAAAAAAAAAAAAAAAAAAAAAAAAAAAAAAAAAAAAAAAAAAAAAAAAAAAAAAAAAAAAAAAAAAAAAAAAAAAAAAAAAAAAAAAAAAAAAAAAAAAAAAAAAAAAAAAAAAAAAAAAAAAAAAAAAAAAAAAAAAAAAAAAAAAAAAAAAAAAAAAAAAAAAAAAAAAAAAAAAAAAAAAAAAAAAAAAAAAAAAAAAAAAAAAAAAAAAAAAAAAAAAAAAAAAAAAAAAAAAAAAAAAAAAAAAAAAAAAAAAAAAAAAAAAAAAAAAAAAAAAAAAAAAAAAAAAAAAAAAAAAAAAAAAAAAAAAAAAAAAAAAAAAAAAAAAAAAAAAAAAAAAAAAAAAAAAAAAAAAAAAAAAAAAAAAAAAAAAAAAAAAAAAAAAAAAAAAAAAAAAAAAAAAAAAAAAAAAAAAAAAAAAAAAAAAAAAAAAAAAAAAAAAAAAAAAAAAAAAAAAAAAAAAAAAAAAAAAAAAAAAAAAAAAAAAAAAAAAAAAAAAAAAAAAAAAAAAAAAAAAAAAAAAAAAAAAAAAAAAAAAAAAAAAAAAAAAAAAAAAAAAAAAAAAAAAAAAAAAAAAAAAAAAAAAAAAAAAAAAAAAAAAAAAAAAAAAAAAAAAAAAAAAAAAAAAAAAAAAAAAAAAAAAAAAAAAAAAAAAAAAAAAAAAAAAAAAAAAAAAAAAAAAAAAAAAAAAAAAAAAAAAAAAAAAAAAAAAAAAAAAAAAAAAAAAAAAAAAAAAAAAAAAAAAAAAAAAAAAAAAAAAAAAAAAAAAAAAAAAAAAAAAAAAAAAAAAAAAAAAAAAAAAAAAAAAAAAAAAAAAAAAAAAAAAAAAAAAAAAAAAAAAAAAAAAAAAAAAAAAAAAAAAAAAAAAAAAAAAAAAAAAAAAAAAAAAAAAAAAAAAAAAAAAAAAAAAAAAAAAAAAAAAAAAAAAAAAAAAAAAAAAAAAAAAAAAAAAAAAAAAAAAAAAAAAAAAAAAAAAAAAAAAAAAAAAAAAAAAAAAAAAAAAAAAAAAAAAAAAAAAAAAAAAAAAAAAAAAAAAAAAAAAAAAAAAAAAAAAAAAAAAAAAAAAAAAAAAAAAAAAAAAAAAAAAAAAAAAAAAAAAAAAAAAAAAAAAAAAAAAAAAAAAAAAAAAAAAAAAAAAAAAAAAAAAAAAAAAAAAAAAAAAAAAAAAAAAAAAAAAAAAAAAAAAAAAAAAAAAAAAAAAAAAAAAAAAAAAAAAAAAAAAAAAAAAAAAAAAAAAAAAAAAAAAAAAAAAAAAAAAAAAAAAAAAAAAAAAAAAAAAAAAAAAAAAAAAAAAAAAAAAAAAAAAAAAAAAAAAAAAAAAAAAAAAAAAAAAAAAAAAAAAAAAAAAAAAAAAAAAAAAAAAAAAAAAAAAAAAAAAAAAAAAAAAAAAAAAAAAAAAAAAAAAAAAAAAAAAAAAAAAAAAAAAAAAAAAAAAAAAAAAAAAAAAAAAAAAAAAAAAAAAAAAAAAAAAAAAAAAAAAAAAAAAAAAAAAAAAAAAAAAAAAAAAAAAAAAAAAAAAAAAAAAAAAAAAAAAAAAAAAAAAAAAAAAAAAAAAAAAAAAAAAAAAAAAAAAAAAAAAAAAAAAAAAAAAAAAAAAAAAAAAAAAAAAAAAAAAAAAAAAAAAAAAAAAAAAAAAAAAAAAAAAAAAAAAAAAAAAAAAAAAAAAAAAAAAAAAAAAAAAAAAAAAAAAAAAAAAAAAAAAAAAAAAAAAAAAAAAAAAAAAAAAAAAAAAAAAAAAAAAAAAAAAAAAAAAAAAAAAAAAAAAAAAAAAAAAAAAAAAAAAAAAAAAAAAAAAAAAAAAAAAAAAAAAAAAAAAAAAAAAAAAAAAAAAAAAAAAAAAAAAAAAAAAAAAAAAAAAAAAAAAAAAAAAAAAAAAAAAAAAAAAAAAAAAAAAAAAAAAAAAAAAAAAAAAAAAAAAAAAAAAAAAAAAAAAAAAAAAAAAAAAAAAAAAAAAAAAAAAAAAAAAAAAAAAAAAAAAAAAAAAAAAAAAAAAAAAAAAAAAAAAAAAAAAAAAAAAAAAAAAAAAAAAAAAAAAAAAAAAAAAAAAAAAAAAAAAAAAAAAAAAAAAAAAAAAAAAAAAAAAAAAAAAAAAAAAAAAAAAAAAAAAAAAAAAAAAAAAAAAAAAAAAAAAAAAAAAAAAAAAAAAAAAAAAAAAAAAAAAAAAAAAAAAAAAAAAAAAAAAAAAAAAAAAAAAAAAAAAAAAAAAAAAAAAAAAAAAAAAAAAAAAAAAAAAAAAAAAAAAAAAAAAAAAAAAAAAAAAAAAAAAAAAAAAAAAAAAAAAAAAAAAAAAAAAAAAAAAAAAAAAAAAAAAAAAAAAAAAAAAAAAAAAAAAAAAAAAAAAAAAAAAAAAAAAAAAAAAAAAAAAAAAAAAAAAAAAAAAAAAAAAAAAAAAAAAAAAAAAAAAAAAAAAAAAAAAAAAAAAAAAAAAAAAAAAAAAAAAAAAAAAAAAAAAAAAAAAAAAAAAAAAAAAAAAAAAAAAAAAAAAAAAAAAAAAAAAAAAAAAAAAAAAAAAAAAAAAAAAAAAAAAAAAAAAAAAAAAAAAAAAAAAAAAAAAAAAAAAAAAAAAAAAAAAAAAAAAAAAAAAAAAAAAAAAAAAAAAAAAAAAAAAAAAAAAAAAAAAAAAAAAAAAAAAAAAAAAAAAAAAAAAAAAAAAAAAAAAAAAAAAAAAAAAAAAAAAAAAAAAAAAAAAAAAAAAAAAAAAAAAAAAAAAAAAAAAAAAAAAAAAAAAAAAAAAAAAAAAAAAAAAAAAAAAAAAAAAAAAAAAAAAAAAAAAAAAAAAAAAAAAAAAAAAAAAAAAAAAAAAAAAAAAAAAAAAAAAAAAAAAAAAAAAAAAAAAAAAAAAAAAAAAAAAAAAAAAAAAAAAAAAAAAAAAAAAAAAAAAAAAAAAAAAAAAAAAAAAAAAAAAAAAAAAAAAAAAAAAAAAAAAAAAAAAAAAAAAAAAAAAAAAAAAAAAAAAAAAAAAAAAAAAAAAAAAAAAAAAAAAAAAAAAAAAAAAAAAAAAAAAAAAAAAAAAAAAAAAAAAAAAAAAAAAAAAAAAAAAAAAAAAAAAAAAAAAAAAAAAAAAAAAAAAAAAAAAAAAAAAAAAAAAAAAAAAAAAAAAAAAAAAAAAAAAAAAAAAAAAAAAAAAAAAAAAAAAAAAAAAAAAAAAAAAAAAAAAAAAAAAAAAAAAAAAAAAAAAAAAAAAAAAAAAAAAAAAAAAAAAAAAAAAAAAAAAAAAAAAAAAAAAAAAAAAAAAAAAAAAAAAAAAAAAAAAAAAAAAAAAAAAAAAAAAAAAAAAAAAAAAAAAAAAAAAAAAAAAAAAAAAAAAAAAAAAAAAAAAAAAAAAAAAAAAAAAAAAAAAAAAAAAAAAAAAAAAAAAAAAAAAAAAAAAAAAAAAAAAAAAAAAAAAAAAAAAAAAAAAAAAAAAAAAAAAAAAAAAAAAAAAAAAAAAAAAAAAAAAAAAAAAAAAAAAAAAAAAAAAAAAAAAAAAAAAAAAAAAAAAAAAAAAAAAAAAAAAAAAAAAAAAAAAAAAAAAAAAAAAAAAAAAAAAAAAAAAAAAAAAAAAAAAAAAAAAAAAAAAAAAAAAAAAAAAAAAAAAAAAAAAAAAAAAAAAAAAAAAAAAAAAAAAAAAAAAAAAAAAAAAAAAAAAAAAAAAAAAAAAAAAAAAAAAAAAAAAAAAAAAAAAAAAAAAAAAAAAAAAAAAAAAAAAAAAAAAAAAAAAAAAAAAAAAAAAAAAAAAAAAAAAAAAAAAAAAAAAAAAAAAAAAAAAAAAAAAAAAAAAAAAAAAAAAAAAAAAAAAAAAAAAAAAAAAAAAAAAAAAAAAAAAAAAAAAAAAAAAAAAAAAAAAAAAAAAAAAAAAAAAAAAAAAAAAAAAAAAAAAAAAAAAAAAAAAAAAAAAAAAAAAAAAAAAAAAAAAAAAAAAAAAAAAAAAAAAAAAAAAAAAAAAAAAAAAAAAAAAAAAAAAAAAAAAAAAAAAAAAAAAAAAAAAAAAAAAAAAAAAAAAAAAAAAAAAAAAAAAAAAAAAAAAAAAAAAAAAAAAAAAAAAAAAAAAAAAAAAAAAAAAAAAAAAAAAAAAAAAAAAAAAAAAAAAAAAAAAAAAAAAAAAAAAAAAAAAAAAAAAAAAAAAAAAAAAAAAAAAAAAAAAAAAAAAAAAAAAAAAAAAAAAAAAAAAAAAAAAAAAAAAAAAAAAAAAAAAAAAAAAAAAAAAAAAAAAAAAAAAAAAAAAAAAAAAAAAAAAAAAAAAAAAAAAAAAAAAAAAAAAAAAAAAAAAAAAAAAAAAAAAAAAAAAAAAAAAAAAAAAAAAAAAAAAAAAAAAAAAAAAAAAAAAAAAAAAAAAAAAAAAAAAAAAAAAAAAAAAAAAAAAAAAAAAAAAAAAAAAAAAAAAAAAAAAAAAAAAAAAAAAAAAAAAAAAAAAAAAAAAAAAAAAAAAAAAAAAAAAAAAAAAAAAAAAAAAAAAAAAAAAAAAAAAAAAAAAAAAAAAAAAAAAAAAAAAAAAAAAAAAAAAAAAAAAAAAAAAAAAAAAAAAAAAAAAAAAAAAAAAAAAAAAAAAAAAAAAAAAAAAAAAAAAAAAAAAAAAAAAAAAAAAAAAAAAAAAAAAAAAAAAAAAAAAAAAAAAAAAAAAAAAAAAAAAAAAAAAAAAAAAAAAAAAAAAAAAAAAAAAAAAAAAAAAAAAAAAAAAAAAAAAAAAAAAAAAAAAAAAAAAAAAAAAAAAAAAAAAAAAAAAAAAAAAAAAAAAAAAAAAAAAAAAAAAAAAAAAAAAAAAAAAAAAAAAAAAAAAAAAAAAAAAAAAAAAAAAAAAAAAAAAAAAAAAAAAAAAAAAAAAAAAAAAAAAAAAAAAAAAAAAAAAAAAAAAAAAAAAAAAAAAAAAAAAAAAAAAAAAAAAAAAAAAAAAAAAAAAAAAAAAAAAAAAAAAAAAAAAAAAAAAAAAAAAAAAAAAAAAAAAAAAAAAAAAAAAAAAAAAAAAAAAAAAAAAAAAAAAAAAAAAAAAAAAAAAAAAAAAAAAAAAAAAAAAAAAAAAAAAAAAAAAAAAAAAAAAAAAAAAAAAAAAAAAAAAAAAAAAAAAAAAAAAAAAAAAAAAAAAAAAAAAAAAAAAAAAAAAAAAAAAAAAAAAAAAAAAAAAAAAAAAAAAAAAAAAAAAAAAAAAAAAAAAAAAAAAAAAAAAAAAAAAAAAAAAAAAAAAAAAAAAAAAAAAAAAAAAAAAAAAAAAAAAAAAAAAAAAAAAAAAAAAAAAAAAAAAAAAAAAAAAAAAAAAAAAAAAAAAAAAAAAAAAAAAAAAAAAAAAAAAAAAAAAAAAAAAAAAAAAAAAAAAAAAAAAAAAAAAAAAAAAAAAAAAAAAAAAAAAAAAAAAAAAAAAAAAAAAAAAAAAAAAAAAAAAAAAAAAAAAAAAAAAAAAAAAAAAAAAAAAAAAAAAAAAAAAAAAAAAAAAAAAAAAAAAAAAAAAAAAAAAAAAAAAAAAAAAAAAAAAAAAAAAAAAAAAAAAAAAAAAAAAAAAAAAAAAAAAAAAAAAAAAAAAAAAAAAAAAAAAAAAAAAAAAAAAAAAAAAAAAAAAAAAAAAAAAAAAAAAAAAAAAAAAAAAAAAAAAAAAAAAAAAAAAAAAAAAAAAAAAAAAAAAAAAAAAAAAAAAAAAAAAAAAAAAAAAAAAAAAAAAAAAAAAAAAAAAAAAAAAAAAAAAAAAAAAAAAAAAAAAAAAAAAAAAAAAAAAAAAAAAAAAAAAAAAAAAAAAAAAAAAAAAAAAAAAAAAAAAAAAAAAAAAAAAAAAAAAAAAAAAAAAAAAAAAAAAAAAAAAAAAAAAAAAAAAAAAAAAAAAAAAAAAAAAAAAAAAAAAAAAAAAAAAAAAAAAAAAAAAAAAAAAAAAAAAAAAAAAAAAAAAAAAAAAAAAAAAAAAAAAAAAAAAAAAAAAAAAAAAAAAAAAAAAAAAAAAAAAAAAAAAAAAAAAAAAAAAAAAAAAAAAAAAAAAAAAAAAAAAAAAAAAAAAAAAAAAAAAAAAAAAAAAAAAAAAAAAAAAAAAAAAAAAAAAAAAAAAAAAAAAAAAAAAAAAAAAAAAAAAAAAAAAAAAAAAAAAAAAAAAAAAAAAAAAAAAAAAAAAAAAAAAAAAAAAAAAAAAAAAAAAAAAAAAAAAAAAAAAAAAAAAAAAAAAAAAAAAAAAAAAAAAAAAAAAAAAAAAAAAAAAAAAAAAAAAAAAAAAAAAAAAAAAAAAAAAAAAAAAAAAAAAAAAAAAAAAAAAAAAAAAAAAAAAAAAAAAAAAAAAAAAAAAAAAAAAAAAAAAAAAAAAAAAAAAAAAAAAAAAAAAAAAAAAAAAAAAAAAAAAAAAAAAAAAAAAAAAAAAAAAAAAAAAAAAAAAAAAAAAAAAAAAAAAAAAAAAAAAAAAAAAAAAAAAAAAAAAAAAAAAAAAAAAAAAAAAAAAAAAAAAAAAAAAAAAAAAAAAAAAAAAAAAAAAAAAAAAAAAAAAAAAAAAAAAAAAAAAAAAAAAAAAAAAAAAAAAAAAAAAAAAAAAAAAAAAAAAAAAAAAAAAAAAAAAAAAAAAAAAAAAAAAAAAAAAAAAAAAAAAAAAAAAAAAAAAAAAAAAAAAAAAAAAAAAAAAAAAAAAAAAAAAAAAAAAAAAAAAAAAAAAAAAAAAAAAAAAAAAAAAAAAAAAAAAAAAAAAAAAAAAAAAAAAAAAAAAAAAAAAAAAAAAAAAAAAAAAAAAAAAAAAAAAAAAAAAAAAAAAAAAAAAAAAAAAAAAAAAAAAAAAAAAAAAAAAAAAAAAAAAAAAAAAAAAAAAAAAAAAAAAAAAAAAAAAAAAAAAAAAAAAAAAAAAAAAAAAAAAAAAAAAAAAAAAAAAAAAAAAAAAAAAAAAAAAAAAAAAAAAAAAAAAAAAAAAAAAAAAAAAAAAAAAAAAAAAAAAAAAAAAAAAAAAAAAAAAAAAAAAAAAAAAAAAAAAAAAAAAAAAAAAAAAAAAAAAAAAAAAAAAAAAAAAAAAAAAAAAAAAAAAAAAAAAAAAAAAAAAAAAAAAAAAAAAAAAAAAAAAAAAAAAAAAAAAAAAAAAAAAAAAAAAAAAAAAAAAAAAAAAAAAAAAAAAAAAAAAAAAAAAAAAAAAAAAAAAAAAAAAAAAAAAAAAAAAAAAAAAAAAAAAAAAAAAAAAAAAAAAAAAAAAAAAAAAAAAAAAAAAAAAAAAAAAAAAAAAAAAAAAAAAAAAAAAAAAAAAAAAAAAAAAAAAAAAAAAAAAAAAAAAAAAAAAAAAAAAAAAAAAAAAAAAAAAAAAAAAAAAAAAAAAAAAAAAAAAAAAAAAAAAAAAAAAAAAAAAAAAAAAAAAAAAAAAAAAAAAAAAAAAAAAAAAAAAAAAAAAAAAAAAAAAAAAAAAAAAAAAAAAAAAAAAAAAAAAAAAAAAAAAAAAAAAAAAAAAAAAAAAAAAAAAAAAAAAAAAAAAAAAAAAAAAAAAAAAAAAAAAAAAAAAAAAAAAAAAAAAAAAAAAAAAAAAAAAAAAAAAAAAAAAAAAAAAAAAAAAAAAAAAAAAAAAAAAAAAAAAAAAAAAAAAAAAAAAAAAAAAAAAAAAAAAAAAAAAAAAAAAAAAAAAAAAAAAAAAAAAAAAAAAAAAAAAAAAAAAAAAAAAAAAAAAAAAAAAAAAAAAAAAAAAAAAAAAAAAAAAAAAAAAAAAAAAAAAAAAAAAAAAAAAAAAAAAAAAAAAAAAAAAAAAAAAAAAAAAAAAAAAAAAAAAAAAAAAAAAAAAAAAAAAAAAAAAAAAAAAAAAAAAAAAAAAAAAAAAAAAAAAAAAAAAAAAAAAAAAAAAAAAAAAAAAAAAAAAAAAAAAAAAAAAAAAAAAAAAAAAAAAAAAAAAAAAAAAAAAAAAAAAAAAAAAAAAAAAAAAAAAAAAAAAAAAAAAAAAAAAAAAAAAAAAAAAAAAAAAAAAAAAAAAAAAAAAAAAAAAAAAAAAAAAAAAAAAAAAAAAAAAAAAAAAAAAAAAAAAAAAAAAAAAAAAAAAAAAAAAAAAAAAAAAAAAAAAAAAAAAAAAAAAAAAAAAAAAAAAAAAAAAAAAAAAAAAAAAAAAAAAAAAAAAAAAAAAAAAAAAAAAAAAAAAAAAAAAAAAAAAAAAAAAAAAAAAAAAAAAAAAAAAAAAAAAAAAAAAAAAAAAAAAAAAAAAAAAAAAAAAAAAAAAAAAAAAAAAAAAAAAAAAAAAAAAAAAAAAAAAAAAAAAAAAAAAAAAAAAAAAAAAAAAAAAAAAAAAAAAAAAAAAAAAAAAAAAAAAAAAAAAAAAAAAAAAAAAAAAAAAAAAAAAAAAAAAAAAAAAAAAAAAAAAAAAAAAAAAAAAAAAAAAAAAAAAAAAAAAAAAAAAAAAAAAAAAAAAAAAAAAAAAAAAAAAAAAAAAAAAAAAAAAAAAAAAAAAAAAAAAAAAAAAAAAAAAAAAAAAAAAAAAAAAAAAAAAAAAAAAAAAAAAAAAAAAAAAAAAAAAAAAAAAAAAAAAAAAAAAAAAAAAAAAAAAAAAAAAAAAAAAAAAAAAAAAAAAAAAAAAAAAAAAAAAAAAAAAAAAAAAAAAAAAAAAAAAAAAAAAAAAAAAAAAAAAAAAAAAAAAAAAAAAAAAAAAAAAAAAAAAAAAAAAAAAAAAAAAAAAAAAAAAAAAAAAAAAAAAAAAAAAAAAAAAAAAAAAAAAAAAAAAAAAAAAAAAAAAAAAAAAAAAAAAAAAAAAAAAAAAAAAAAAAAAAAAAAAAAAAAAAAAAAAAAAAAAAAAAAAAAAAAAAAAAAAAAAAAAAAAAAAAAAAAAAAAAAAAAAAAAAAAAAAAAAAAAAAAAAAAAAAAAAAAAAAAAAAAAAAAAAAAAAAAAAAAAAAAAAAAAAAAAAAAAAAAAAAAAAAAAAAAAAAAAAAAAAAAAAAAAAAAAAAAAAAAAAAAAAAAAAAAAAAAAAAAAAAAAAAAAAAAAAAAAAAAAAAAAAAAAAAAAAAAAAAAAAAAAAAAAAAAAAAAAAAAAAAAAAAAAAAAAAAAAAAAAAAAAAAAAAAAAAAAAAAAAAAAAAAAAAAAAAAAAAAAAAAAAAAAAAAAAAAAAAAAAAAAAAAAAAAAAAAAAAAAAAAAAAAAAAAAAAAAAAAAAAAAAAAAAAAAAAAAAAAAAAAAAAAAAAAAAAAAAAAAAAAAAAAAAAAAAAAAAAAAAAAAAAAAAAAAAAAAAAAAAAAAAAAAAAAAAAAAAAAAAAAAAAAAAAAAAAAAAAAAAAAAAAAAAAAAAAAAAAAAAAAAAAAAAAAAAAAAAAAAAAAAAAAAAAAAAAAAAAAAAAAAAAAAAAAAAAAAAAAAAAAAAAAAAAAAAAAAAAAAAAAAAAAAAAAAAAAAAAAAAAAAAAAAAAAAAAAAAAAAAAAAAAAAAAAAAAAAAAAAAAAAAAAAAAAAAAAAAAAAAAAAAAAAAAAAAAAAAAAAAAAAAAAAAAAAAAAAAAAAAAAAAAAAAAAAAAAAAAAAAAAAAAAAAAAAAAAAAAAAAAAAAAAAAAAAAAAAAAAAAAAAAAAAAAAAAAAAAAAAAAAAAAAAAAAAAAAAAAAAAAAAAAAAAAAAAAAAAAAAAAAAAAAAAAAAAAAAAAAAAAAAAAAAAAAAAAAAAAAAAAAAAAAAAAAAAAAAAAAAAAAAAAAAAAAAAAAAAAAAAAAAAAAAAAAAAAAAAAAAAAAAAAAAAAAAAAAAAAAAAAAAAAAAAAAAAAAAAAAAAAAAAAAAAAAAAAAAAAAAAAAAAAAAAAAAAAAAAAAAAAAAAAAAAAAAAAAAAAAAAAAAAAAAAAAAAAAAAAAAAAAAAAAAAAAAAAAAAAAAAAAAAAAAAAAAAAAAAAAAAAAAAAAAAAAAAAAAAAAAAAAAAAAAAAAAAAAAAAAAAAAAAAAAAAAAAAAAAAAAAAAAAAAAAAAAAAAAAAAAAAAAAAAAAAAAAAAAAAAAAAAAAAAAAAAAAAAAAAAAAAAAAAAAAAAAAAAAAAAAAAAAAAAAAAAAAAAAAAAAAAAAAAAAAAAAAAAAAAAAAAAAAAAAAAAAAAAAAAAAAAAAAAAAAAAAAAAAAAAAAAAAAAAAAAAAAAAAAAAAAAAAAAAAAAAAAAAAAAAAAAAAAAAAAAAAAAAAAAAAAAAAAAAAAAAAAAAAAAAAAAAAAAAAAAAAAAAAAAAAAAAAAAAAAAAAAAAAAAAAAAAAAAAAAAAAAAAAAAAAAAAAAAAAAAAAAAAAAAAAAAAAAAAAAAAAAAAAAAAAAAAAAAAAAAAAAAAAAAAAAAAAAAAAAAAAAAAAAAAAAAAAAAAAAAAAAAAAAAAAAAAAAAAAAAAAAAAAAAAAAAAAAAAAAAAAAAAAAAAAAAAAAAAAAAAAAAAAAAAAAAAAAAAAAAAAAAAAAAAAAAAAAAAAAAAAAAAAAAAAAAAAAAAAAAAAAAAAAAAAAAAAAAAAAAAAAAAAAAAAAAAAAAAAAAAAAAAAAAAAAAAAAAAAAAAAAAAAAAAAAAAAAAAAAAAAAAAAAAAAAAAAAAAAAAAAAAAAAAAAAAAAAAAAAAAAAAAAAAAAAAAAAAAAAAAAAAAAAAAAAAAAAAAAAAAAAAAAAAAAAAAAAAAAAAAAAAAAAAAAAAAAAAAAAAAAAAAAAAAAAAAAAAAAAAAAAAAAAAAAAAAAAAAAAAAAAAAAAAAAAAAAAAAAAAAAAAAAAAAAAAAAAAAAAAAAAAAAAAAAAAAAAAAAAAAAAAAAAAAAAAAAAAAAAAAAAAAAAAAAAAAAAAAAAAAAAAAAAAAAAAAAAAAAAAAAAAAAAAAAAAAAAAAAAAAAAAAAAAAAAAAAAAAAAAAAAAAAAAAAAAAAAAAAAAAAAAAAAAAAAAAAAAAAAAAAAAAAAAAAAAAAAAAAAAAAAAAAAAAAAAAAAAAAAAAAAAAAAAAAAAAAAAAAAAAAAAAAAAAAAAAAAAAAAAAAAAAAAAAAAAAAAAAAAAAAAAAAAAAAAAAAAAAAAAAAAAAAAAAAAAAAAAAAAAAAAAAAAAAAAAAAAAAAAAAAAAAAAAAAAAAAAAAAAAAAAAAAAAAAAAAAAAAAAAAAAAAAAAAAAAAAAAAAAAAAAAAAAAAAAAAAAAAAAAAAAAAAAAAAAAAAAAAAAAAAAAAAAAAAAAAAAAAAAAAAAAAAAAAAAAAAAAAAAAAAAAAAAAAAAAAAAAAAAAAAAAAAAAAAAAAAAAAAAAAAAAAAAAAAAAAAAAAAAAAAAAAAAAAAAAAAAAAAAAAAAAAAAAAAAAAAAAAAAAAAAAAAAAAAAAAAAAAAAAAAAAAAAAAAAAAAAAAAAAAAAAAAAAAAAAAAAAAAAAAAAAAAAAAAAAAAAAAAAAAAAAAAAAAAAAAAAAAAAAAAAAAAAAAAAAAAAAAAAAAAAAAAAAAAAAAAAAAAAAAAAAAAAAAAAAAAAAAAAAAAAAAAAAAAAAAAAAAAAAAAAAAAAAAAAAAAAAAAAAAAAAAAAAAAAAAAAAAAAAAAAAAAAAAAAAAAAAAAAAAAAAAAAAAAAAAAAAAAAAAAAAAAAAAAAAAAAAAAAAAAAAAAAAAAAAAAAAAAAAAAAAAAAAAAAAAAAAAAAAAAAAAAAAAAAAAAAAAAAAAAAAAAAAAAAAAAAAAAAAAAAAAAAAAAAAAAAAAAAAAAAAAAAAAAAAAAAAAAAAAAAAAAAAAAAAAAAAAAAAAAAAAAAAAAAAAAAAAAAAAAAAAAAAAAAAAAAAAAAAAAAAAAAAAAAAAAAAAAAAAAAAAAAAAAAAAAAAAAAAAAAAAAAAAAAAAAAAAAAAAAAAAAAAAAAAAAAAAAAAAAAAAAAAAAAAAAAAAAAAAAAAAAAAAAAAAAAAAAAAAAAAAAAAAAAAAAAAAAAAAAAAAAAAAAAAAAAAAAAAAAAAAAAAAAAAAAAAAAAAAAAAAAAAAAAAAAAAAAAAAAAAAAAAAAAAAAAAAAAAAAAAAAAAAAAAAAAAAAAAAAAAAAAAAAAAAAAAAAAAAAAAAAAAAAAAAAAAAAAAAAAAAAAAAAAAAAAAAAAAAAAAAAAAAAAAAAAAAAAAAAAAAAAAAAAAAAAAAAAAAAAAAAAAAAAAAAAAAAAAAAAAAAAAAAAAAAAAAAAAAAAAAAAAAAAAAAAAAAAAAAAAAAAAAAAAAAAAAAAAAAAAAAAAAAAAAAAAAAAAAAAAAAAAAAAAAAAAAAAAAAAAAAAAAAAAAAAAAAAAAAAAAAAAAAAAAAAAAAAAAAAAAAAAAAAAAAAAAAAAAAAAAAAAAAAAAAAAAAAAAAAAAAAAAAAAAAAAAAAAAAAAAAAAAAAAAAAAAAAAAAAAAAAAAAAAAAAAAAAAAAAAAAAAAAAAAAAAAAAAAAAAAAAAAAAAAAAAAAAAAAAAAAAAAAAAAAAAAAAAAAAAAAAAAAAAAAAAAAAAAAAAAAAAAAAAAAAAAAAAAAAAAAAAAAAAAAAAAAAAAAAAAAAAAAAAAAAAAAAAAAAAAAAAAAAAAAAAAAAAAAAAAAAAAAAAAAAAAAAAAAAAAAAAAAAAAAAAAAAAAAAAAAAAAAAAAAAAAAAAAAAAAAAAAAAAAAAAAAAAAAAAAAAAAAAAAAAAAAAAAAAAAAAAAAAAAAAAAAAAAAAAAAAAAAAAAAAAAAAAAAAAAAAAAAAAAAAAAAAAAAAAAAAAAAAAAAAAAAAAAAAAAAAAAAAAAAAAAAAAAAAAAAAAAAAAAAAAAAAAAAAAAAAAAAAAAAAAAAAAAAAAAAAAAAAAAAAAAAAAAAAAAAAAAAAAAAAAAAAAAAAAAAAAAAAAAAAAAAAAAAAAAAAAAAAAAAAAAAAAAAAAAAAAAAAAAAAAAAAAAAAAAAAAAAAAAAAAAAAAAAAAAAAAAAAAAAAAAAAAAAAAAAAAAAAAAAAAAAAAAAAAAAAAAAAAAAAAAAAAAAAAAAAAAAAAAAAAAAAAAAAAAAAAAAAAAAAAAAAAAAAAAAAAAAAAAAAAAAAAAAAAAAAAAAAAAAAAAAAAAAAAAAAAAAAAAAAAAAAAAAAAAAAAAAAAAAAAAAAAAAAAAAAAAAAAAAAAAAAAAAAAAAAAAAAAAAAAAAAAAAAAAAAAAAAAAAAAAAAAAAAAAAAAAAAAAAAAAAAAAAAAAAAAAAAAAAAAAAAAAAAAAAAAAAAAAAAAAAAAAAAAAAAAAAAAAAAAAAAAAAAAAAAAAAAAAAAAAAAAAAAAAAAAAAAAAAAAAAAAAAAAAAAAAAAAAAAAAAAAAAAAAAAAAAAAAAAAAAAAAAAAAAAAAAAAAAAAAAAAAAAAAAAAAAAAAAAAAAAAAAAAAAAAAAAAAAAAAAAAAAAAAAAAAAAAAAAAAAAAAAAAAAAAAAAAAAAAAAAAAAAAAAAAAAAAAAAAAAAAAAAAAAAAAAAAAAAAAAAAAAAAAAAAAAAAAAAAAAAAAAAAAAAAAAAAAAAAAAAAAAAAAAAAAAAAAAAAAAAAAAAAAAAAAAAAAAAAAAAAAAAAAAAAAAAAAAAAAAAAAAAAAAAAAAAAAAAAAAAAAAAAAAAAAAAAAAAAAAAAAAAAAAAAAAAAAAAAAAAAAAAAAAAAAAAAAAAAAAAAAAAAAAAAAAAAAAAAAAAAAAAAAAAAAAAAAAAAAAAAAAAAAAAAAAAAAAAAAAAAAAAAAAAAAAAAAAAAAAAAAAAAAAAAAAAAAAAAAAAAAAAAAAAAAAAAAAAAAAAAAAAAAAAAAAAAAAAAAAAAAAAAAAAAAAAAAAAAAAAAAAAAAAAAAAAAAAAAAAAAAAAAAAAAAAAAAAAAAAAAAAAAAAAAAAAAAAAAAAAAAAAAAAAAAAAAAAAAAAAAAAAAAAAAAAAAAAAAAAAAAAAAAAAAAAAAAAAAAAAAAAAAAAAAAAAAAAAAAAAAAAAAAAAAAAAAAAAAAAAAAAAAAAAAAAAAAAAAAAAAAAAAAAAAAAAAAAAAAAAAAAAAAAAAAAAAAAAAAAAAAAAAAAAAAAAAAAAAAAAAAAAAAAAAAAAAAAAAAAAAAAAAAAAAAAAAAAAAAAAAAAAAAAAAAAAAAAAAAAAAAAAAAAAAAAAAAAAAAAAAAAAAAAAAAAAAAAAAAAAAAAAAAAAAAAAAAAAAAAAAAAAAAAAAAAAAAAAAAAAAAAAAAAAAAAAAAAAAAAAAAAAAAAAAAAAAAAAAAAAAAAAAAAAAAAAAAAAAAAAAAAAAAAAAAAAAAAAAAAAAAAAAAAAAAAAAAAAAAAAAAAAAAAAAAAAAAAAAAAAAAAAAAAAAAAAAAAAAAAAAAAAAAAAAAAAAAAAAAAAAAAAAAAAAAAAAAAAAAAAAAAAAAAAAAAAAAAAAAAAAAAAAAAAAAAAAAAAAAAAAAAAAAAAAAAAAAAAAAAAAAAAAAAAAAAAAAAAAAAAAAAAAAAAAAAAAAAAAAAAAAAAAAAAAAAAAAAAAAAAAAAAAAAAAAAAAAAAAAAAAAAAAAAAAAAAAAAAAAAAAAAAAAAAAAAAAAAAAAAAAAAAAAAAAAAAAAAAAAAAAAAAAAAAAAAAAAAAAA==\",\"dtype\":\"float64\",\"order\":\"little\",\"shape\":[1958]},\"precision\":{\"__ndarray__\":\"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\",\"dtype\":\"float64\",\"order\":\"little\",\"shape\":[1958]},\"recall\":{\"__ndarray__\":\"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\",\"dtype\":\"float64\",\"order\":\"little\",\"shape\":[1958]},\"thr\":{\"__ndarray__\":\"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\",\"dtype\":\"float32\",\"order\":\"little\",\"shape\":[1957]}},\"selected\":{\"id\":\"2814\"},\"selection_policy\":{\"id\":\"2813\"}},\"id\":\"2799\",\"type\":\"ColumnDataSource\"},{\"attributes\":{},\"id\":\"2785\",\"type\":\"PanTool\"},{\"attributes\":{},\"id\":\"2771\",\"type\":\"DataRange1d\"},{\"attributes\":{\"align\":\"center\",\"coordinates\":null,\"group\":null,\"text\":\"AutoEncoder: Precision - Recall Curve\",\"text_font_size\":\"12pt\"},\"id\":\"2767\",\"type\":\"Title\"},{\"attributes\":{\"base\":{\"field\":\"recall\"},\"coordinates\":null,\"fill_alpha\":0.2,\"fill_color\":\"coral\",\"group\":null,\"level\":\"underlay\",\"lower\":{\"field\":\"lower_band\"},\"source\":{\"id\":\"2799\"},\"upper\":{\"field\":\"precision\"}},\"id\":\"2818\",\"type\":\"Band\"},{\"attributes\":{\"line_alpha\":0.1,\"line_color\":\"coral\",\"x\":{\"field\":\"recall\"},\"y\":{\"field\":\"precision\"}},\"id\":\"2802\",\"type\":\"Line\"},{\"attributes\":{},\"id\":\"2775\",\"type\":\"LinearScale\"},{\"attributes\":{},\"id\":\"2786\",\"type\":\"WheelZoomTool\"},{\"attributes\":{},\"id\":\"2769\",\"type\":\"DataRange1d\"},{\"attributes\":{\"coordinates\":null,\"data_source\":{\"id\":\"2799\"},\"glyph\":{\"id\":\"2801\"},\"group\":null,\"hover_glyph\":null,\"muted_glyph\":{\"id\":\"2803\"},\"nonselection_glyph\":{\"id\":\"2802\"},\"view\":{\"id\":\"2805\"}},\"id\":\"2804\",\"type\":\"GlyphRenderer\"},{\"attributes\":{\"axis\":{\"id\":\"2777\"},\"coordinates\":null,\"grid_line_color\":null,\"group\":null,\"ticker\":null},\"id\":\"2780\",\"type\":\"Grid\"},{\"attributes\":{\"source\":{\"id\":\"2799\"}},\"id\":\"2805\",\"type\":\"CDSView\"},{\"attributes\":{},\"id\":\"2812\",\"type\":\"AllLabels\"},{\"attributes\":{\"tools\":[{\"id\":\"2785\"},{\"id\":\"2786\"},{\"id\":\"2787\"},{\"id\":\"2788\"},{\"id\":\"2789\"},{\"id\":\"2790\"}]},\"id\":\"2792\",\"type\":\"Toolbar\"},{\"attributes\":{},\"id\":\"2789\",\"type\":\"ResetTool\"},{\"attributes\":{\"label\":{\"value\":\"AUPRC: 95.95%\"},\"renderers\":[{\"id\":\"2804\"}]},\"id\":\"2817\",\"type\":\"LegendItem\"},{\"attributes\":{\"bottom_units\":\"screen\",\"coordinates\":null,\"fill_alpha\":0.5,\"fill_color\":\"lightgrey\",\"group\":null,\"left_units\":\"screen\",\"level\":\"overlay\",\"line_alpha\":1.0,\"line_color\":\"black\",\"line_dash\":[4,4],\"line_width\":2,\"right_units\":\"screen\",\"syncable\":false,\"top_units\":\"screen\"},\"id\":\"2791\",\"type\":\"BoxAnnotation\"},{\"attributes\":{},\"id\":\"2809\",\"type\":\"AllLabels\"},{\"attributes\":{\"coordinates\":null,\"group\":null,\"items\":[{\"id\":\"2817\"}],\"label_text_font_size\":\"8pt\"},\"id\":\"2816\",\"type\":\"Legend\"},{\"attributes\":{\"format\":\"0%\"},\"id\":\"2822\",\"type\":\"NumeralTickFormatter\"},{\"attributes\":{},\"id\":\"2790\",\"type\":\"HelpTool\"},{\"attributes\":{},\"id\":\"2778\",\"type\":\"BasicTicker\"}],\"root_ids\":[\"2766\"]},\"title\":\"Bokeh Application\",\"version\":\"2.4.2\"}};\n",
       "  const render_items = [{\"docid\":\"893efab4-a51a-4e03-af4f-ee382b50322e\",\"root_ids\":[\"2766\"],\"roots\":{\"2766\":\"ea7b38c1-2fba-4d24-8a0b-ce0636074dc5\"}}];\n",
       "  root.Bokeh.embed.embed_items_notebook(docs_json, render_items);\n",
       "\n",
       "  }\n",
       "  if (root.Bokeh !== undefined) {\n",
       "    embed_document(root);\n",
       "  } else {\n",
       "    let attempts = 0;\n",
       "    const timer = setInterval(function(root) {\n",
       "      if (root.Bokeh !== undefined) {\n",
       "        clearInterval(timer);\n",
       "        embed_document(root);\n",
       "      } else {\n",
       "        attempts++;\n",
       "        if (attempts > 100) {\n",
       "          clearInterval(timer);\n",
       "          console.log(\"Bokeh: ERROR: Unable to run BokehJS code because BokehJS library is missing\");\n",
       "        }\n",
       "      }\n",
       "    }, 10, root)\n",
       "  }\n",
       "})(window);"
      ],
      "application/vnd.bokehjs_exec.v0+json": ""
     },
     "metadata": {
      "application/vnd.bokehjs_exec.v0+json": {
       "id": "2766"
      }
     },
     "output_type": "display_data"
    },
    {
     "name": "stderr",
     "output_type": "stream",
     "text": [
      "WARNING:bokeh.io.export:There were browser warnings and/or errors that may have affected your export\n",
      "WARNING:bokeh.io.export:file:///home/iotg/work/SWA/sound-anomaly-detection-with-autoencoders/bokehq915nva4.html 266:909 \"[bokeh]\" \"data source has columns of inconsistent lengths\"\n",
      "WARNING:bokeh.io.export:file:///home/iotg/work/SWA/sound-anomaly-detection-with-autoencoders/bokehq915nva4.html 266:909 \"[bokeh]\" \"data source has columns of inconsistent lengths\"\n",
      "WARNING:bokeh.io.export:file:///home/iotg/work/SWA/sound-anomaly-detection-with-autoencoders/bokehq915nva4.html 266:909 \"[bokeh]\" \"data source has columns of inconsistent lengths\"\n",
      "WARNING:bokeh.io.export:file:///home/iotg/work/SWA/sound-anomaly-detection-with-autoencoders/bokehq915nva4.html 266:909 \"[bokeh]\" \"data source has columns of inconsistent lengths\"\n",
      "WARNING:bokeh.io.export:file:///home/iotg/work/SWA/sound-anomaly-detection-with-autoencoders/bokehq915nva4.html 266:909 \"[bokeh]\" \"data source has columns of inconsistent lengths\"\n",
      "WARNING:bokeh.io.export:file:///home/iotg/work/SWA/sound-anomaly-detection-with-autoencoders/bokehq915nva4.html 266:909 \"[bokeh]\" \"data source has columns of inconsistent lengths\"\n",
      "WARNING:bokeh.io.export:file:///home/iotg/work/SWA/sound-anomaly-detection-with-autoencoders/bokehq915nva4.html 266:909 \"[bokeh]\" \"data source has columns of inconsistent lengths\"\n",
      "WARNING:bokeh.io.export:file:///home/iotg/work/SWA/sound-anomaly-detection-with-autoencoders/bokehq915nva4.html 266:909 \"[bokeh]\" \"data source has columns of inconsistent lengths\"\n",
      "WARNING:bokeh.io.export:file:///home/iotg/work/SWA/sound-anomaly-detection-with-autoencoders/bokehq915nva4.html 266:909 \"[bokeh]\" \"data source has columns of inconsistent lengths\"\n",
      "WARNING:bokeh.io.export:file:///home/iotg/work/SWA/sound-anomaly-detection-with-autoencoders/bokehq915nva4.html 266:909 \"[bokeh]\" \"data source has columns of inconsistent lengths\"\n",
      "WARNING:bokeh.io.export:file:///home/iotg/work/SWA/sound-anomaly-detection-with-autoencoders/bokehq915nva4.html 266:909 \"[bokeh]\" \"data source has columns of inconsistent lengths\"\n",
      "WARNING:bokeh.io.export:file:///home/iotg/work/SWA/sound-anomaly-detection-with-autoencoders/bokehq915nva4.html 266:909 \"[bokeh]\" \"data source has columns of inconsistent lengths\"\n",
      "WARNING:bokeh.io.export:file:///home/iotg/work/SWA/sound-anomaly-detection-with-autoencoders/bokehq915nva4.html 266:909 \"[bokeh]\" \"data source has columns of inconsistent lengths\"\n",
      "WARNING:bokeh.io.export:file:///home/iotg/work/SWA/sound-anomaly-detection-with-autoencoders/bokehq915nva4.html 266:909 \"[bokeh]\" \"data source has columns of inconsistent lengths\"\n",
      "WARNING:bokeh.io.export:file:///home/iotg/work/SWA/sound-anomaly-detection-with-autoencoders/bokehq915nva4.html 266:909 \"[bokeh]\" \"data source has columns of inconsistent lengths\"\n",
      "WARNING:bokeh.io.export:file:///home/iotg/work/SWA/sound-anomaly-detection-with-autoencoders/bokehq915nva4.html 266:909 \"[bokeh]\" \"data source has columns of inconsistent lengths\"\n",
      "WARNING:bokeh.io.export:file:///home/iotg/work/SWA/sound-anomaly-detection-with-autoencoders/bokehq915nva4.html 266:909 \"[bokeh]\" \"data source has columns of inconsistent lengths\"\n"
     ]
    }
   ],
   "source": [
    "plot_pr_curve(\n",
    "    precision_recall_curve(test_labels, recon_errors),\n",
    "    average_precision_score(test_labels, recon_errors),\n",
    "    model_name=MODEL_NAME,\n",
    "    file_name=os.path.join(IMAGE_PATH, \"pr_curve.svg\"),\n",
    ")"
   ]
  },
  {
   "cell_type": "code",
   "execution_count": null,
   "id": "293fc0b5",
   "metadata": {},
   "outputs": [],
   "source": []
  }
 ],
 "metadata": {
  "kernelspec": {
   "display_name": "Python 3 (ipykernel)",
   "language": "python",
   "name": "python3"
  },
  "language_info": {
   "codemirror_mode": {
    "name": "ipython",
    "version": 3
   },
   "file_extension": ".py",
   "mimetype": "text/x-python",
   "name": "python",
   "nbconvert_exporter": "python",
   "pygments_lexer": "ipython3",
   "version": "3.8.10"
  }
 },
 "nbformat": 4,
 "nbformat_minor": 5
}
